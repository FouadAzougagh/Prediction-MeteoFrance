{
 "cells": [
  {
   "cell_type": "markdown",
   "metadata": {},
   "source": [
    "# DEEPCAMP_P1C&D&E_PREPROCESSING&MODELSML\n",
    "### Objectif_Notebook : Preprocessing et modèles machine learning(hors LSTM) sans prédictions Météo"
   ]
  },
  {
   "cell_type": "markdown",
   "metadata": {
    "id": "TIrKCDsLtasm"
   },
   "source": [
    "# 1. IMPORTATION DES PACKAGES\n"
   ]
  },
  {
   "cell_type": "code",
   "execution_count": null,
   "metadata": {
    "id": "HTKWQy9utasu"
   },
   "outputs": [],
   "source": [
    "#!pip install  xgboost\n",
    "import numpy as np # linear algebra\n",
    "import pandas as pd # data processing, CSV file I/O (e.g. pd.read_csv)\n",
    "from sklearn.model_selection import train_test_split\n",
    "from tqdm import tqdm\n",
    "from sklearn.metrics import confusion_matrix\n",
    "import os\n",
    "from math import radians, cos, sin, asin, sqrt\n",
    "import xgboost as xgb\n",
    "import matplotlib.pyplot as plt\n",
    "plt.rcParams[\"figure.figsize\"] = (20,10)"
   ]
  },
  {
   "cell_type": "code",
   "execution_count": null,
   "metadata": {
    "id": "xvWcaxrPtasz"
   },
   "outputs": [],
   "source": [
    "#Données apprentissage\n",
    "df_station_train = pd.read_csv(\"DataPerHourV2.csv\")\n",
    "#df_baseline_observation = pd.read_csv(\"../input/defi-ia-2022/Train/Train/Baselines/Baseline_observation_train.csv\")\n",
    "df_y_train = pd.read_csv(\"Y_train.csv\")\n",
    "#df_baseline_forecast   = pd.read_csv(\"../input/defi-ia-2022/Train/Train/Baselines/Baseline_forecast_train.csv\")\n",
    "df_stations_coordinate = pd.read_csv(\"stations_coordinates.csv\")\n",
    "baseline_forecast = pd.read_csv('Baseline_forecast_train.csv')"
   ]
  },
  {
   "cell_type": "code",
   "execution_count": null,
   "metadata": {
    "id": "7Hm4DhIHtas1"
   },
   "outputs": [],
   "source": [
    "df_station_train[\"Id_\"] = [\"_\".join(i.split('_')[:2]) for i in list(df_station_train['Id'])]\n",
    "merged_train = pd.merge(df_station_train,df_y_train,how=\"left\",left_on=\"Id_\", right_on=\"Id\")\n",
    "df_station_train['hour'] = [i.split('_')[-1] for i in df_station_train['Id']]\n",
    "df_station_train['hour'] = df_station_train['hour'].astype(int)"
   ]
  },
  {
   "cell_type": "code",
   "execution_count": null,
   "metadata": {
    "execution": {
     "iopub.execute_input": "2021-12-18T17:57:05.63527Z",
     "iopub.status.busy": "2021-12-18T17:57:05.634762Z",
     "iopub.status.idle": "2021-12-18T17:57:05.640602Z",
     "shell.execute_reply": "2021-12-18T17:57:05.639644Z",
     "shell.execute_reply.started": "2021-12-18T17:57:05.635223Z"
    },
    "id": "csSBPUEVtas3"
   },
   "outputs": [],
   "source": [
    "\n",
    "#Explication des données : \n",
    "                                    #df_station_train\n",
    "#Données d'apprentissage par heures et par station\n",
    "#Numéro station / date / ff = wind_speed / t = temperature in kelvin / td = dew temperature / \n",
    "#hu = humidity / dd = wind direction in degrees / precip the last day\n",
    "\n",
    "                                     #df_y_train\n",
    "#Précipitation réelle pour chaque jour et chaque station\n",
    "\n",
    "                                    # df_stations_coordinate\n",
    "#Coordonnées GPS des stations\n",
    "\n",
    "                                    #df_baseline_observation\n",
    "#Précipitation de la veille pour chaque jour et chaque station \n",
    "\n",
    "                                    #df_baseline_forecast\n",
    "#Précipitation prédite par Météo France pour chaque jour et chaque station\n",
    "\n",
    "\n",
    "#Pour temperature prendre mean des diff temp dpeuis heure 11\n",
    "#\n",
    "#Precip prendre somme des 24 dernieres heures et chacune des heures\n",
    "\n"
   ]
  },
  {
   "cell_type": "markdown",
   "metadata": {
    "id": "wcCdpNzNtas5"
   },
   "source": [
    "# CHOIX DES HEURES A PRENDRE POUR CHAQUE VARIABLE ET TYPE AGGREGATION"
   ]
  },
  {
   "cell_type": "code",
   "execution_count": null,
   "metadata": {
    "id": "0hlpmhJHtas6"
   },
   "outputs": [],
   "source": [
    "df_st = df_station_train.dropna()"
   ]
  },
  {
   "cell_type": "code",
   "execution_count": null,
   "metadata": {
    "id": "x0egCaWftas7"
   },
   "outputs": [],
   "source": [
    "df_st['dd_'] = [-(abs(192-i)) for i in df_st['dd']]\n",
    "df_st['div_t'] = -((df_st['t'] / df_st['td'] ))\n",
    "df_st['diff_t'] = -((df_st['t'] - df_st['td'] ))"
   ]
  },
  {
   "cell_type": "code",
   "execution_count": null,
   "metadata": {
    "id": "lcXS64zgtas8"
   },
   "outputs": [],
   "source": [
    "listehu = []\n",
    "listeff = []\n",
    "listedd = []\n",
    "listeprecip = []\n",
    "listedivt= []\n",
    "listedift = []\n",
    "listetd = []\n",
    "listeprecip = []\n",
    "for heur in range(1,24) :\n",
    "    df_only = df_st[df_st['hour']>=heur].dropna()\n",
    "    df_only_grouped = df_only.groupby(\"Id_\").mean()\n",
    "    df_only_grouped_merged = pd.merge(df_only_grouped,df_y_train,how=\"left\",left_on=\"Id_\", right_on=\"Id\").dropna()\n",
    "    mattcorr = df_only_grouped_merged.corr()\n",
    "    listehu.append(mattcorr['Ground_truth']['hu'])\n",
    "    listeff.append(mattcorr['Ground_truth']['ff'])\n",
    "    listedd.append(mattcorr['Ground_truth']['dd_'])\n",
    "    listeprecip.append(mattcorr['Ground_truth']['precip'])\n",
    "    listedivt.append(mattcorr['Ground_truth']['div_t'])\n",
    "    listedift.append(mattcorr['Ground_truth']['diff_t'])\n",
    "    listetd.append(mattcorr['Ground_truth']['td'])\n",
    "    \n",
    "\n",
    "    "
   ]
  },
  {
   "cell_type": "code",
   "execution_count": null,
   "metadata": {
    "id": "OZ95PzhZtas-",
    "outputId": "7230e2c6-295b-43cb-adda-fc859f729eac"
   },
   "outputs": [
    {
     "name": "stdout",
     "output_type": "stream",
     "text": [
      "0.21921726321157856 22\n",
      "0.11225770920307071 11\n",
      "0.2658742361553012 16\n",
      "0.2355430806283904 0\n",
      "0.11497923332335928 11\n",
      "0.11499770108212092 11\n"
     ]
    },
    {
     "data": {
      "image/png": "[encoded data removed]",
      "text/plain": [
       "<Figure size 432x288 with 1 Axes>"
      ]
     },
     "metadata": {
      "needs_background": "light"
     },
     "output_type": "display_data"
    }
   ],
   "source": [
    "#Avec le mean \n",
    "plt.plot(range(1,24),listeff,label=\"ff\")\n",
    "plt.plot(range(1,24),listehu,label=\"hu\")\n",
    "plt.plot(range(1,24),listedd,label=\"dd\")\n",
    "plt.plot(range(1,24),listeprecip,label=\"precip\")\n",
    "plt.plot(range(1,24),listedivt,label=\"divt\")\n",
    "plt.plot(range(1,24),listedift,label=\"dift\")\n",
    "plt.plot(range(1,24),listeprecip,label=\"precip\")\n",
    "print(np.max(np.array(listeff)),np.argmax(np.array(listeff)))\n",
    "print(np.max(np.array(listehu)),np.argmax(np.array(listehu)))\n",
    "print(np.max(np.array(listedd)),np.argmax(np.array(listedd)))\n",
    "print(np.max(np.array(listeprecip)),np.argmax(np.array(listeprecip)))\n",
    "print(np.max(np.array(listedivt)),np.argmax(np.array(listedivt)))\n",
    "print(np.max(np.array(listedift)),np.argmax(np.array(listedift)))\n",
    "plt.legend();"
   ]
  },
  {
   "cell_type": "code",
   "execution_count": null,
   "metadata": {
    "id": "rZe2kQgitatD",
    "outputId": "f025fb42-bfcc-4b1b-b48f-ae58015339d6"
   },
   "outputs": [
    {
     "name": "stdout",
     "output_type": "stream",
     "text": [
      "0.21921726321157856 22\n",
      "0.08411001907328935 7\n",
      "0.2294684220935473 22\n",
      "0.21442085087146376 2\n"
     ]
    },
    {
     "data": {
      "image/png": "[encoded data removed]",
      "text/plain": [
       "<Figure size 432x288 with 1 Axes>"
      ]
     },
     "metadata": {
      "needs_background": "light"
     },
     "output_type": "display_data"
    }
   ],
   "source": [
    "listehu = []\n",
    "listeff = []\n",
    "listedd = []\n",
    "listeprecip = []\n",
    "for heur in range(1,24) :\n",
    "    df_only = df_st[df_st['hour']>=heur].dropna()\n",
    "    df_only_grouped = df_only.groupby(\"Id_\").max()\n",
    "    df_only_grouped_merged = pd.merge(df_only_grouped,df_y_train,how=\"left\",left_on=\"Id_\", right_on=\"Id\").dropna()\n",
    "    mattcorr = df_only_grouped_merged.corr()\n",
    "    listehu.append(mattcorr['Ground_truth']['hu'])\n",
    "    listeff.append(mattcorr['Ground_truth']['ff'])\n",
    "    listedd.append(mattcorr['Ground_truth']['dd_'])\n",
    "    listeprecip.append(mattcorr['Ground_truth']['precip'])\n",
    "#Avec le max \n",
    "plt.plot(range(1,24),listeff,label=\"ff\")\n",
    "plt.plot(range(1,24),listehu,label=\"hu\")\n",
    "plt.plot(range(1,24),listedd,label=\"dd\")\n",
    "plt.plot(range(1,24),listeprecip,label=\"precip\")\n",
    "print(np.max(np.array(listeff)),np.argmax(np.array(listeff)))\n",
    "print(np.max(np.array(listehu)),np.argmax(np.array(listehu)))\n",
    "print(np.max(np.array(listedd)),np.argmax(np.array(listedd)))\n",
    "print(np.max(np.array(listeprecip)),np.argmax(np.array(listeprecip)))\n",
    "plt.legend();"
   ]
  },
  {
   "cell_type": "code",
   "execution_count": null,
   "metadata": {
    "id": "sI2Us-1wtatE",
    "outputId": "5fa31cc8-cb45-4eda-f12c-76939ac1d622"
   },
   "outputs": [
    {
     "name": "stdout",
     "output_type": "stream",
     "text": [
      "0.21921726321157856 22\n",
      "0.1122793058536546 11\n",
      "0.26587423615530154 16\n",
      "0.23553982798055242 0\n"
     ]
    },
    {
     "data": {
      "text/plain": [
       "<matplotlib.legend.Legend at 0x1523916b4f0>"
      ]
     },
     "execution_count": 11,
     "metadata": {},
     "output_type": "execute_result"
    },
    {
     "data": {
      "image/png": "[encoded data removed]",
      "text/plain": [
       "<Figure size 432x288 with 1 Axes>"
      ]
     },
     "metadata": {
      "needs_background": "light"
     },
     "output_type": "display_data"
    }
   ],
   "source": [
    "listehu = []\n",
    "listeff = []\n",
    "listedd = []\n",
    "listeprecip = []\n",
    "for heur in range(1,24) :\n",
    "    df_only = df_st[df_st['hour']>=heur].dropna()\n",
    "    df_only_grouped = df_only.groupby(\"Id_\").sum()\n",
    "    df_only_grouped_merged = pd.merge(df_only_grouped,df_y_train,how=\"left\",left_on=\"Id_\", right_on=\"Id\").dropna()\n",
    "    mattcorr = df_only_grouped_merged.corr()\n",
    "    listehu.append(mattcorr['Ground_truth']['hu'])\n",
    "    listeff.append(mattcorr['Ground_truth']['ff'])\n",
    "    listedd.append(mattcorr['Ground_truth']['dd_'])\n",
    "    listeprecip.append(mattcorr['Ground_truth']['precip'])\n",
    "#Avec le sum \n",
    "plt.plot(range(1,24),listeff,label=\"ff\")\n",
    "plt.plot(range(1,24),listehu,label=\"hu\")\n",
    "plt.plot(range(1,24),listedd,label=\"dd\")\n",
    "plt.plot(range(1,24),listeprecip,label=\"precip\")\n",
    "print(np.max(np.array(listeff)),np.argmax(np.array(listeff)))\n",
    "print(np.max(np.array(listehu)),np.argmax(np.array(listehu)))\n",
    "print(np.max(np.array(listedd)),np.argmax(np.array(listedd)))\n",
    "print(np.max(np.array(listeprecip)),np.argmax(np.array(listeprecip)))\n",
    "plt.legend()"
   ]
  },
  {
   "cell_type": "code",
   "execution_count": null,
   "metadata": {
    "id": "TsF0hdfgtatG",
    "outputId": "61140b65-f0ba-462d-80bb-a6dd3c1f4e56"
   },
   "outputs": [
    {
     "name": "stdout",
     "output_type": "stream",
     "text": [
      "0.21921726321157856 22\n",
      "0.11612053145577571 15\n",
      "0.2590407107069494 18\n",
      "0.2115363087777977 22\n"
     ]
    },
    {
     "data": {
      "text/plain": [
       "<matplotlib.legend.Legend at 0x152391e4f10>"
      ]
     },
     "execution_count": 12,
     "metadata": {},
     "output_type": "execute_result"
    },
    {
     "data": {
      "image/png": "[encoded data removed]",
      "text/plain": [
       "<Figure size 432x288 with 1 Axes>"
      ]
     },
     "metadata": {
      "needs_background": "light"
     },
     "output_type": "display_data"
    }
   ],
   "source": [
    "listehu = []\n",
    "listeff = []\n",
    "listedd = []\n",
    "listeprecip = []\n",
    "for heur in range(1,24) :\n",
    "    df_only = df_st[df_st['hour']>=heur].dropna()\n",
    "    df_only_grouped = df_only.groupby(\"Id_\").min()\n",
    "    df_only_grouped_merged = pd.merge(df_only_grouped,df_y_train,how=\"left\",left_on=\"Id_\", right_on=\"Id\").dropna()\n",
    "    mattcorr = df_only_grouped_merged.corr()\n",
    "    listehu.append(mattcorr['Ground_truth']['hu'])\n",
    "    listeff.append(mattcorr['Ground_truth']['ff'])\n",
    "    listedd.append(mattcorr['Ground_truth']['dd_'])\n",
    "    listeprecip.append(mattcorr['Ground_truth']['precip'])\n",
    "#Avec le sum \n",
    "plt.plot(range(1,24),listeff,label=\"ff\")\n",
    "plt.plot(range(1,24),listehu,label=\"hu\")\n",
    "plt.plot(range(1,24),listedd,label=\"dd\")\n",
    "plt.plot(range(1,24),listeprecip,label=\"precip\")\n",
    "print(np.max(np.array(listeff)),np.argmax(np.array(listeff)))\n",
    "print(np.max(np.array(listehu)),np.argmax(np.array(listehu)))\n",
    "print(np.max(np.array(listedd)),np.argmax(np.array(listedd)))\n",
    "print(np.max(np.array(listeprecip)),np.argmax(np.array(listeprecip)))\n",
    "plt.legend()"
   ]
  },
  {
   "cell_type": "markdown",
   "metadata": {
    "id": "RYXWTdkqtatI"
   },
   "source": [
    "# Impact de la normalisation "
   ]
  },
  {
   "cell_type": "code",
   "execution_count": null,
   "metadata": {
    "execution": {
     "iopub.execute_input": "2021-12-18T17:57:05.642101Z",
     "iopub.status.busy": "2021-12-18T17:57:05.641807Z",
     "iopub.status.idle": "2021-12-18T17:57:08.92036Z",
     "shell.execute_reply": "2021-12-18T17:57:08.919287Z",
     "shell.execute_reply.started": "2021-12-18T17:57:05.642071Z"
    },
    "id": "F0rDEK7VtatK"
   },
   "outputs": [],
   "source": [
    "df_st = df_station_train.dropna()\n",
    "df_st_grouped = df_st.groupby('Id_').sum()\n",
    "df_st_grouped_merged = pd.merge(df_st_grouped,df_y_train,how=\"left\",left_on=\"Id_\", right_on=\"Id\")\n",
    "scalar_df_st_grouped_merged= df_st_grouped_merged[['ff','t','td','hu','dd','precip','Ground_truth']]\n",
    "scaled_df_st_grouped_merged = (scalar_df_st_grouped_merged-scalar_df_st_grouped_merged.mean())/(scalar_df_st_grouped_merged.std())\n",
    "scaled_df_st_grouped_merged['Id'] = df_st_grouped_merged['Id']"
   ]
  },
  {
   "cell_type": "code",
   "execution_count": null,
   "metadata": {
    "execution": {
     "iopub.execute_input": "2021-12-18T17:57:08.921938Z",
     "iopub.status.busy": "2021-12-18T17:57:08.921694Z",
     "iopub.status.idle": "2021-12-18T17:57:08.953945Z",
     "shell.execute_reply": "2021-12-18T17:57:08.952997Z",
     "shell.execute_reply.started": "2021-12-18T17:57:08.921906Z"
    },
    "id": "jjYFPr24tatL",
    "outputId": "8ee720ce-dec2-40f8-f89e-11f717b3a44b"
   },
   "outputs": [
    {
     "data": {
      "text/html": [
       "<div>\n",
       "<style scoped>\n",
       "    .dataframe tbody tr th:only-of-type {\n",
       "        vertical-align: middle;\n",
       "    }\n",
       "\n",
       "    .dataframe tbody tr th {\n",
       "        vertical-align: top;\n",
       "    }\n",
       "\n",
       "    .dataframe thead th {\n",
       "        text-align: right;\n",
       "    }\n",
       "</style>\n",
       "<table border=\"1\" class=\"dataframe\">\n",
       "  <thead>\n",
       "    <tr style=\"text-align: right;\">\n",
       "      <th></th>\n",
       "      <th>ff</th>\n",
       "      <th>t</th>\n",
       "      <th>td</th>\n",
       "      <th>hu</th>\n",
       "      <th>dd</th>\n",
       "      <th>precip</th>\n",
       "      <th>Ground_truth</th>\n",
       "    </tr>\n",
       "  </thead>\n",
       "  <tbody>\n",
       "    <tr>\n",
       "      <th>ff</th>\n",
       "      <td>1.000000</td>\n",
       "      <td>-0.076428</td>\n",
       "      <td>-0.053533</td>\n",
       "      <td>0.033672</td>\n",
       "      <td>0.212511</td>\n",
       "      <td>0.294816</td>\n",
       "      <td>0.172929</td>\n",
       "    </tr>\n",
       "    <tr>\n",
       "      <th>t</th>\n",
       "      <td>-0.076428</td>\n",
       "      <td>1.000000</td>\n",
       "      <td>0.926360</td>\n",
       "      <td>-0.400787</td>\n",
       "      <td>0.114424</td>\n",
       "      <td>-0.058162</td>\n",
       "      <td>-0.045376</td>\n",
       "    </tr>\n",
       "    <tr>\n",
       "      <th>td</th>\n",
       "      <td>-0.053533</td>\n",
       "      <td>0.926360</td>\n",
       "      <td>1.000000</td>\n",
       "      <td>-0.048030</td>\n",
       "      <td>0.199093</td>\n",
       "      <td>0.041151</td>\n",
       "      <td>-0.007133</td>\n",
       "    </tr>\n",
       "    <tr>\n",
       "      <th>hu</th>\n",
       "      <td>0.033672</td>\n",
       "      <td>-0.400787</td>\n",
       "      <td>-0.048030</td>\n",
       "      <td>1.000000</td>\n",
       "      <td>0.153039</td>\n",
       "      <td>0.258767</td>\n",
       "      <td>0.092565</td>\n",
       "    </tr>\n",
       "    <tr>\n",
       "      <th>dd</th>\n",
       "      <td>0.212511</td>\n",
       "      <td>0.114424</td>\n",
       "      <td>0.199093</td>\n",
       "      <td>0.153039</td>\n",
       "      <td>1.000000</td>\n",
       "      <td>0.174285</td>\n",
       "      <td>0.091397</td>\n",
       "    </tr>\n",
       "    <tr>\n",
       "      <th>precip</th>\n",
       "      <td>0.294816</td>\n",
       "      <td>-0.058162</td>\n",
       "      <td>0.041151</td>\n",
       "      <td>0.258767</td>\n",
       "      <td>0.174285</td>\n",
       "      <td>1.000000</td>\n",
       "      <td>0.236961</td>\n",
       "    </tr>\n",
       "    <tr>\n",
       "      <th>Ground_truth</th>\n",
       "      <td>0.172929</td>\n",
       "      <td>-0.045376</td>\n",
       "      <td>-0.007133</td>\n",
       "      <td>0.092565</td>\n",
       "      <td>0.091397</td>\n",
       "      <td>0.236961</td>\n",
       "      <td>1.000000</td>\n",
       "    </tr>\n",
       "  </tbody>\n",
       "</table>\n",
       "</div>"
      ],
      "text/plain": [
       "                    ff         t        td        hu        dd    precip  \\\n",
       "ff            1.000000 -0.076428 -0.053533  0.033672  0.212511  0.294816   \n",
       "t            -0.076428  1.000000  0.926360 -0.400787  0.114424 -0.058162   \n",
       "td           -0.053533  0.926360  1.000000 -0.048030  0.199093  0.041151   \n",
       "hu            0.033672 -0.400787 -0.048030  1.000000  0.153039  0.258767   \n",
       "dd            0.212511  0.114424  0.199093  0.153039  1.000000  0.174285   \n",
       "precip        0.294816 -0.058162  0.041151  0.258767  0.174285  1.000000   \n",
       "Ground_truth  0.172929 -0.045376 -0.007133  0.092565  0.091397  0.236961   \n",
       "\n",
       "              Ground_truth  \n",
       "ff                0.172929  \n",
       "t                -0.045376  \n",
       "td               -0.007133  \n",
       "hu                0.092565  \n",
       "dd                0.091397  \n",
       "precip            0.236961  \n",
       "Ground_truth      1.000000  "
      ]
     },
     "execution_count": 9,
     "metadata": {},
     "output_type": "execute_result"
    }
   ],
   "source": [
    "#MATRICE DE CORRELATION POUR LES DONNEES NORMALISEES \n",
    "scaled_df_st_grouped_merged.corr()"
   ]
  },
  {
   "cell_type": "code",
   "execution_count": null,
   "metadata": {
    "execution": {
     "iopub.execute_input": "2021-12-18T17:57:08.956382Z",
     "iopub.status.busy": "2021-12-18T17:57:08.955363Z",
     "iopub.status.idle": "2021-12-18T17:57:09.001477Z",
     "shell.execute_reply": "2021-12-18T17:57:09.000471Z",
     "shell.execute_reply.started": "2021-12-18T17:57:08.956329Z"
    },
    "id": "DxXBLnAptatM",
    "outputId": "4bde91eb-3e7a-4239-d45a-3eb37afaf66a"
   },
   "outputs": [
    {
     "data": {
      "text/html": [
       "<div>\n",
       "<style scoped>\n",
       "    .dataframe tbody tr th:only-of-type {\n",
       "        vertical-align: middle;\n",
       "    }\n",
       "\n",
       "    .dataframe tbody tr th {\n",
       "        vertical-align: top;\n",
       "    }\n",
       "\n",
       "    .dataframe thead th {\n",
       "        text-align: right;\n",
       "    }\n",
       "</style>\n",
       "<table border=\"1\" class=\"dataframe\">\n",
       "  <thead>\n",
       "    <tr style=\"text-align: right;\">\n",
       "      <th></th>\n",
       "      <th>number_sta_x</th>\n",
       "      <th>ff</th>\n",
       "      <th>t</th>\n",
       "      <th>td</th>\n",
       "      <th>hu</th>\n",
       "      <th>dd</th>\n",
       "      <th>precip</th>\n",
       "      <th>hour</th>\n",
       "      <th>number_sta_y</th>\n",
       "      <th>Ground_truth</th>\n",
       "    </tr>\n",
       "  </thead>\n",
       "  <tbody>\n",
       "    <tr>\n",
       "      <th>number_sta_x</th>\n",
       "      <td>1.000000</td>\n",
       "      <td>-0.024711</td>\n",
       "      <td>0.026478</td>\n",
       "      <td>-0.007446</td>\n",
       "      <td>-0.081638</td>\n",
       "      <td>-0.033848</td>\n",
       "      <td>-0.015581</td>\n",
       "      <td>0.014667</td>\n",
       "      <td>0.999934</td>\n",
       "      <td>-0.015100</td>\n",
       "    </tr>\n",
       "    <tr>\n",
       "      <th>ff</th>\n",
       "      <td>-0.024711</td>\n",
       "      <td>1.000000</td>\n",
       "      <td>-0.076428</td>\n",
       "      <td>-0.053533</td>\n",
       "      <td>0.033672</td>\n",
       "      <td>0.212511</td>\n",
       "      <td>0.294816</td>\n",
       "      <td>0.014087</td>\n",
       "      <td>-0.024955</td>\n",
       "      <td>0.172929</td>\n",
       "    </tr>\n",
       "    <tr>\n",
       "      <th>t</th>\n",
       "      <td>0.026478</td>\n",
       "      <td>-0.076428</td>\n",
       "      <td>1.000000</td>\n",
       "      <td>0.926360</td>\n",
       "      <td>-0.400787</td>\n",
       "      <td>0.114424</td>\n",
       "      <td>-0.058162</td>\n",
       "      <td>0.331862</td>\n",
       "      <td>0.021581</td>\n",
       "      <td>-0.045376</td>\n",
       "    </tr>\n",
       "    <tr>\n",
       "      <th>td</th>\n",
       "      <td>-0.007446</td>\n",
       "      <td>-0.053533</td>\n",
       "      <td>0.926360</td>\n",
       "      <td>1.000000</td>\n",
       "      <td>-0.048030</td>\n",
       "      <td>0.199093</td>\n",
       "      <td>0.041151</td>\n",
       "      <td>0.374534</td>\n",
       "      <td>-0.014790</td>\n",
       "      <td>-0.007133</td>\n",
       "    </tr>\n",
       "    <tr>\n",
       "      <th>hu</th>\n",
       "      <td>-0.081638</td>\n",
       "      <td>0.033672</td>\n",
       "      <td>-0.400787</td>\n",
       "      <td>-0.048030</td>\n",
       "      <td>1.000000</td>\n",
       "      <td>0.153039</td>\n",
       "      <td>0.258767</td>\n",
       "      <td>0.053330</td>\n",
       "      <td>-0.082696</td>\n",
       "      <td>0.092565</td>\n",
       "    </tr>\n",
       "    <tr>\n",
       "      <th>dd</th>\n",
       "      <td>-0.033848</td>\n",
       "      <td>0.212511</td>\n",
       "      <td>0.114424</td>\n",
       "      <td>0.199093</td>\n",
       "      <td>0.153039</td>\n",
       "      <td>1.000000</td>\n",
       "      <td>0.174285</td>\n",
       "      <td>0.017934</td>\n",
       "      <td>-0.034168</td>\n",
       "      <td>0.091397</td>\n",
       "    </tr>\n",
       "    <tr>\n",
       "      <th>precip</th>\n",
       "      <td>-0.015581</td>\n",
       "      <td>0.294816</td>\n",
       "      <td>-0.058162</td>\n",
       "      <td>0.041151</td>\n",
       "      <td>0.258767</td>\n",
       "      <td>0.174285</td>\n",
       "      <td>1.000000</td>\n",
       "      <td>0.002688</td>\n",
       "      <td>-0.015639</td>\n",
       "      <td>0.236961</td>\n",
       "    </tr>\n",
       "    <tr>\n",
       "      <th>hour</th>\n",
       "      <td>0.014667</td>\n",
       "      <td>0.014087</td>\n",
       "      <td>0.331862</td>\n",
       "      <td>0.374534</td>\n",
       "      <td>0.053330</td>\n",
       "      <td>0.017934</td>\n",
       "      <td>0.002688</td>\n",
       "      <td>1.000000</td>\n",
       "      <td>-0.000427</td>\n",
       "      <td>0.001467</td>\n",
       "    </tr>\n",
       "    <tr>\n",
       "      <th>number_sta_y</th>\n",
       "      <td>0.999934</td>\n",
       "      <td>-0.024955</td>\n",
       "      <td>0.021581</td>\n",
       "      <td>-0.014790</td>\n",
       "      <td>-0.082696</td>\n",
       "      <td>-0.034168</td>\n",
       "      <td>-0.015639</td>\n",
       "      <td>-0.000427</td>\n",
       "      <td>1.000000</td>\n",
       "      <td>-0.015099</td>\n",
       "    </tr>\n",
       "    <tr>\n",
       "      <th>Ground_truth</th>\n",
       "      <td>-0.015100</td>\n",
       "      <td>0.172929</td>\n",
       "      <td>-0.045376</td>\n",
       "      <td>-0.007133</td>\n",
       "      <td>0.092565</td>\n",
       "      <td>0.091397</td>\n",
       "      <td>0.236961</td>\n",
       "      <td>0.001467</td>\n",
       "      <td>-0.015099</td>\n",
       "      <td>1.000000</td>\n",
       "    </tr>\n",
       "  </tbody>\n",
       "</table>\n",
       "</div>"
      ],
      "text/plain": [
       "              number_sta_x        ff         t        td        hu        dd  \\\n",
       "number_sta_x      1.000000 -0.024711  0.026478 -0.007446 -0.081638 -0.033848   \n",
       "ff               -0.024711  1.000000 -0.076428 -0.053533  0.033672  0.212511   \n",
       "t                 0.026478 -0.076428  1.000000  0.926360 -0.400787  0.114424   \n",
       "td               -0.007446 -0.053533  0.926360  1.000000 -0.048030  0.199093   \n",
       "hu               -0.081638  0.033672 -0.400787 -0.048030  1.000000  0.153039   \n",
       "dd               -0.033848  0.212511  0.114424  0.199093  0.153039  1.000000   \n",
       "precip           -0.015581  0.294816 -0.058162  0.041151  0.258767  0.174285   \n",
       "hour              0.014667  0.014087  0.331862  0.374534  0.053330  0.017934   \n",
       "number_sta_y      0.999934 -0.024955  0.021581 -0.014790 -0.082696 -0.034168   \n",
       "Ground_truth     -0.015100  0.172929 -0.045376 -0.007133  0.092565  0.091397   \n",
       "\n",
       "                precip      hour  number_sta_y  Ground_truth  \n",
       "number_sta_x -0.015581  0.014667      0.999934     -0.015100  \n",
       "ff            0.294816  0.014087     -0.024955      0.172929  \n",
       "t            -0.058162  0.331862      0.021581     -0.045376  \n",
       "td            0.041151  0.374534     -0.014790     -0.007133  \n",
       "hu            0.258767  0.053330     -0.082696      0.092565  \n",
       "dd            0.174285  0.017934     -0.034168      0.091397  \n",
       "precip        1.000000  0.002688     -0.015639      0.236961  \n",
       "hour          0.002688  1.000000     -0.000427      0.001467  \n",
       "number_sta_y -0.015639 -0.000427      1.000000     -0.015099  \n",
       "Ground_truth  0.236961  0.001467     -0.015099      1.000000  "
      ]
     },
     "execution_count": 10,
     "metadata": {},
     "output_type": "execute_result"
    }
   ],
   "source": [
    "#MATRICE DE CORRELATION POUR LES DONNEES NORMALISEES \n",
    "df_st_grouped_merged.corr()"
   ]
  },
  {
   "cell_type": "markdown",
   "metadata": {
    "id": "kl5MkX6btatN"
   },
   "source": [
    "# IMPACT DE LA VITESSE DU VENT"
   ]
  },
  {
   "cell_type": "code",
   "execution_count": null,
   "metadata": {
    "execution": {
     "iopub.execute_input": "2021-12-18T17:57:09.003531Z",
     "iopub.status.busy": "2021-12-18T17:57:09.003072Z",
     "iopub.status.idle": "2021-12-18T17:57:09.034555Z",
     "shell.execute_reply": "2021-12-18T17:57:09.033627Z",
     "shell.execute_reply.started": "2021-12-18T17:57:09.003497Z"
    },
    "id": "XnGpQxeftatO",
    "outputId": "59573cdf-490a-4c75-f768-8e82716cc0ac"
   },
   "outputs": [
    {
     "data": {
      "text/plain": [
       "85.04393373015871"
      ]
     },
     "execution_count": 11,
     "metadata": {},
     "output_type": "execute_result"
    }
   ],
   "source": [
    "#Moyenne de vent a 37 pour les faibles valeurs de vent\n",
    "scalar_df_st_grouped_merged.sort_values(\"Ground_truth\",ascending=False).tail(100)['ff'].mean()\n",
    "\n",
    "#Moyenne de vent a 100 pour les faibles valeurs de vent\n",
    "scalar_df_st_grouped_merged.sort_values(\"Ground_truth\",ascending=False).head(100)['ff'].mean()"
   ]
  },
  {
   "cell_type": "code",
   "execution_count": null,
   "metadata": {
    "execution": {
     "iopub.execute_input": "2021-12-18T17:57:18.915157Z",
     "iopub.status.busy": "2021-12-18T17:57:18.91485Z",
     "iopub.status.idle": "2021-12-18T17:57:20.328581Z",
     "shell.execute_reply": "2021-12-18T17:57:20.327451Z",
     "shell.execute_reply.started": "2021-12-18T17:57:18.915125Z"
    },
    "id": "pEtlKe8FtatQ"
   },
   "outputs": [],
   "source": [
    "df_st_grouped = df_st.groupby('Id_').last()\n",
    "df_st_grouped_merged = pd.merge(df_st_grouped,df_y_train,how=\"left\",left_on=\"Id_\", right_on=\"Id\")\n",
    "df_st_grouped_merged = df_st_grouped_merged.dropna()\n",
    "scalar_df_st_grouped_merged= df_st_grouped_merged[['ff','t','td','hu','dd','precip','Ground_truth']]\n",
    "scaled_df_st_grouped_merged = (scalar_df_st_grouped_merged-scalar_df_st_grouped_merged.mean())/(scalar_df_st_grouped_merged.std())\n",
    "scaled_df_st_grouped_merged['Id'] = df_st_grouped_merged['Id_y']\n"
   ]
  },
  {
   "cell_type": "code",
   "execution_count": null,
   "metadata": {
    "collapsed": true,
    "execution": {
     "iopub.execute_input": "2021-12-18T17:57:20.331205Z",
     "iopub.status.busy": "2021-12-18T17:57:20.330845Z",
     "iopub.status.idle": "2021-12-18T17:57:20.413028Z",
     "shell.execute_reply": "2021-12-18T17:57:20.41147Z",
     "shell.execute_reply.started": "2021-12-18T17:57:20.331157Z"
    },
    "id": "yCSV3MaAtatR",
    "outputId": "3f01dbcf-f145-4ff3-a925-04ed37161bfb"
   },
   "outputs": [
    {
     "name": "stderr",
     "output_type": "stream",
     "text": [
      "  0%|                                                                                          | 0/360 [00:00<?, ?it/s]C:\\Users\\yseba\\AppData\\Local\\Temp/ipykernel_14964/2250691309.py:3: SettingWithCopyWarning: \n",
      "A value is trying to be set on a copy of a slice from a DataFrame.\n",
      "Try using .loc[row_indexer,col_indexer] = value instead\n",
      "\n",
      "See the caveats in the documentation: https://pandas.pydata.org/pandas-docs/stable/user_guide/indexing.html#returning-a-view-versus-a-copy\n",
      "  scalar_df_st_grouped_merged['ff_test'] = [-(abs(y-i)) for i in scalar_df_st_grouped_merged['ff']]\n",
      "100%|████████████████████████████████████████████████████████████████████████████████| 360/360 [00:59<00:00,  6.08it/s]\n"
     ]
    },
    {
     "name": "stdout",
     "output_type": "stream",
     "text": [
      "12\n",
      "0.22130776888929934\n",
      "min\n",
      "0\n",
      "-0.21921726321157856\n"
     ]
    },
    {
     "data": {
      "image/png": "[encoded data removed]",
      "text/plain": [
       "<Figure size 432x288 with 1 Axes>"
      ]
     },
     "metadata": {
      "needs_background": "light"
     },
     "output_type": "display_data"
    }
   ],
   "source": [
    "listevalue = []\n",
    "for y in tqdm(range(360)) : \n",
    "    scalar_df_st_grouped_merged['ff_test'] = [-(abs(y-i)) for i in scalar_df_st_grouped_merged['ff']]\n",
    "    listevalue.append(scalar_df_st_grouped_merged[['ff_test','Ground_truth']].corr()['ff_test']['Ground_truth'])\n",
    "plt.plot(range(360),listevalue)\n",
    "scalar_df_st_grouped_merged\n",
    "\n",
    "#Valeur maximisant la corrélation \n",
    "print(np.argmax(np.array(listevalue)))\n",
    "print(np.max(np.array(listevalue)))\n",
    "print(\"min\")\n",
    "print(np.argmin(np.array(listevalue)))\n",
    "print(np.min(np.array(listevalue)))\n",
    "\n",
    "#Pas d'amélioration notable sauf si on scale les données"
   ]
  },
  {
   "cell_type": "markdown",
   "metadata": {
    "id": "AmPjmAiStatT"
   },
   "source": [
    "# IMPACT DE LA DIRECTION DU VENT"
   ]
  },
  {
   "cell_type": "code",
   "execution_count": null,
   "metadata": {
    "collapsed": true,
    "execution": {
     "iopub.execute_input": "2021-12-18T17:57:22.004857Z",
     "iopub.status.busy": "2021-12-18T17:57:22.004379Z",
     "iopub.status.idle": "2021-12-18T17:57:23.061028Z",
     "shell.execute_reply": "2021-12-18T17:57:23.059721Z",
     "shell.execute_reply.started": "2021-12-18T17:57:22.00482Z"
    },
    "id": "G1gk1TNEtatT",
    "outputId": "3e196050-714a-4b43-930c-9e31fc49fd7a"
   },
   "outputs": [
    {
     "ename": "KeyError",
     "evalue": "'Id_y'",
     "output_type": "error",
     "traceback": [
      "\u001b[1;31m---------------------------------------------------------------------------\u001b[0m",
      "\u001b[1;31mKeyError\u001b[0m                                  Traceback (most recent call last)",
      "\u001b[1;32m~\\Anaconda3\\lib\\site-packages\\pandas\\core\\indexes\\base.py\u001b[0m in \u001b[0;36mget_loc\u001b[1;34m(self, key, method, tolerance)\u001b[0m\n\u001b[0;32m   3360\u001b[0m             \u001b[1;32mtry\u001b[0m\u001b[1;33m:\u001b[0m\u001b[1;33m\u001b[0m\u001b[1;33m\u001b[0m\u001b[0m\n\u001b[1;32m-> 3361\u001b[1;33m                 \u001b[1;32mreturn\u001b[0m \u001b[0mself\u001b[0m\u001b[1;33m.\u001b[0m\u001b[0m_engine\u001b[0m\u001b[1;33m.\u001b[0m\u001b[0mget_loc\u001b[0m\u001b[1;33m(\u001b[0m\u001b[0mcasted_key\u001b[0m\u001b[1;33m)\u001b[0m\u001b[1;33m\u001b[0m\u001b[1;33m\u001b[0m\u001b[0m\n\u001b[0m\u001b[0;32m   3362\u001b[0m             \u001b[1;32mexcept\u001b[0m \u001b[0mKeyError\u001b[0m \u001b[1;32mas\u001b[0m \u001b[0merr\u001b[0m\u001b[1;33m:\u001b[0m\u001b[1;33m\u001b[0m\u001b[1;33m\u001b[0m\u001b[0m\n",
      "\u001b[1;32m~\\Anaconda3\\lib\\site-packages\\pandas\\_libs\\index.pyx\u001b[0m in \u001b[0;36mpandas._libs.index.IndexEngine.get_loc\u001b[1;34m()\u001b[0m\n",
      "\u001b[1;32m~\\Anaconda3\\lib\\site-packages\\pandas\\_libs\\index.pyx\u001b[0m in \u001b[0;36mpandas._libs.index.IndexEngine.get_loc\u001b[1;34m()\u001b[0m\n",
      "\u001b[1;32mpandas\\_libs\\hashtable_class_helper.pxi\u001b[0m in \u001b[0;36mpandas._libs.hashtable.PyObjectHashTable.get_item\u001b[1;34m()\u001b[0m\n",
      "\u001b[1;32mpandas\\_libs\\hashtable_class_helper.pxi\u001b[0m in \u001b[0;36mpandas._libs.hashtable.PyObjectHashTable.get_item\u001b[1;34m()\u001b[0m\n",
      "\u001b[1;31mKeyError\u001b[0m: 'Id_y'",
      "\nThe above exception was the direct cause of the following exception:\n",
      "\u001b[1;31mKeyError\u001b[0m                                  Traceback (most recent call last)",
      "\u001b[1;32m~\\AppData\\Local\\Temp/ipykernel_14964/811435128.py\u001b[0m in \u001b[0;36m<module>\u001b[1;34m\u001b[0m\n\u001b[0;32m      4\u001b[0m \u001b[0mscalar_df_st_grouped_merged\u001b[0m\u001b[1;33m=\u001b[0m \u001b[0mdf_st_grouped_merged\u001b[0m\u001b[1;33m[\u001b[0m\u001b[1;33m[\u001b[0m\u001b[1;34m'ff'\u001b[0m\u001b[1;33m,\u001b[0m\u001b[1;34m't'\u001b[0m\u001b[1;33m,\u001b[0m\u001b[1;34m'td'\u001b[0m\u001b[1;33m,\u001b[0m\u001b[1;34m'hu'\u001b[0m\u001b[1;33m,\u001b[0m\u001b[1;34m'dd'\u001b[0m\u001b[1;33m,\u001b[0m\u001b[1;34m'precip'\u001b[0m\u001b[1;33m,\u001b[0m\u001b[1;34m'Ground_truth'\u001b[0m\u001b[1;33m]\u001b[0m\u001b[1;33m]\u001b[0m\u001b[1;33m\u001b[0m\u001b[1;33m\u001b[0m\u001b[0m\n\u001b[0;32m      5\u001b[0m \u001b[0mscaled_df_st_grouped_merged\u001b[0m \u001b[1;33m=\u001b[0m \u001b[1;33m(\u001b[0m\u001b[0mscalar_df_st_grouped_merged\u001b[0m\u001b[1;33m-\u001b[0m\u001b[0mscalar_df_st_grouped_merged\u001b[0m\u001b[1;33m.\u001b[0m\u001b[0mmean\u001b[0m\u001b[1;33m(\u001b[0m\u001b[1;33m)\u001b[0m\u001b[1;33m)\u001b[0m\u001b[1;33m/\u001b[0m\u001b[1;33m(\u001b[0m\u001b[0mscalar_df_st_grouped_merged\u001b[0m\u001b[1;33m.\u001b[0m\u001b[0mstd\u001b[0m\u001b[1;33m(\u001b[0m\u001b[1;33m)\u001b[0m\u001b[1;33m)\u001b[0m\u001b[1;33m\u001b[0m\u001b[1;33m\u001b[0m\u001b[0m\n\u001b[1;32m----> 6\u001b[1;33m \u001b[0mscaled_df_st_grouped_merged\u001b[0m\u001b[1;33m[\u001b[0m\u001b[1;34m'Id'\u001b[0m\u001b[1;33m]\u001b[0m \u001b[1;33m=\u001b[0m \u001b[0mdf_st_grouped_merged\u001b[0m\u001b[1;33m[\u001b[0m\u001b[1;34m'Id_y'\u001b[0m\u001b[1;33m]\u001b[0m\u001b[1;33m\u001b[0m\u001b[1;33m\u001b[0m\u001b[0m\n\u001b[0m",
      "\u001b[1;32m~\\Anaconda3\\lib\\site-packages\\pandas\\core\\frame.py\u001b[0m in \u001b[0;36m__getitem__\u001b[1;34m(self, key)\u001b[0m\n\u001b[0;32m   3456\u001b[0m             \u001b[1;32mif\u001b[0m \u001b[0mself\u001b[0m\u001b[1;33m.\u001b[0m\u001b[0mcolumns\u001b[0m\u001b[1;33m.\u001b[0m\u001b[0mnlevels\u001b[0m \u001b[1;33m>\u001b[0m \u001b[1;36m1\u001b[0m\u001b[1;33m:\u001b[0m\u001b[1;33m\u001b[0m\u001b[1;33m\u001b[0m\u001b[0m\n\u001b[0;32m   3457\u001b[0m                 \u001b[1;32mreturn\u001b[0m \u001b[0mself\u001b[0m\u001b[1;33m.\u001b[0m\u001b[0m_getitem_multilevel\u001b[0m\u001b[1;33m(\u001b[0m\u001b[0mkey\u001b[0m\u001b[1;33m)\u001b[0m\u001b[1;33m\u001b[0m\u001b[1;33m\u001b[0m\u001b[0m\n\u001b[1;32m-> 3458\u001b[1;33m             \u001b[0mindexer\u001b[0m \u001b[1;33m=\u001b[0m \u001b[0mself\u001b[0m\u001b[1;33m.\u001b[0m\u001b[0mcolumns\u001b[0m\u001b[1;33m.\u001b[0m\u001b[0mget_loc\u001b[0m\u001b[1;33m(\u001b[0m\u001b[0mkey\u001b[0m\u001b[1;33m)\u001b[0m\u001b[1;33m\u001b[0m\u001b[1;33m\u001b[0m\u001b[0m\n\u001b[0m\u001b[0;32m   3459\u001b[0m             \u001b[1;32mif\u001b[0m \u001b[0mis_integer\u001b[0m\u001b[1;33m(\u001b[0m\u001b[0mindexer\u001b[0m\u001b[1;33m)\u001b[0m\u001b[1;33m:\u001b[0m\u001b[1;33m\u001b[0m\u001b[1;33m\u001b[0m\u001b[0m\n\u001b[0;32m   3460\u001b[0m                 \u001b[0mindexer\u001b[0m \u001b[1;33m=\u001b[0m \u001b[1;33m[\u001b[0m\u001b[0mindexer\u001b[0m\u001b[1;33m]\u001b[0m\u001b[1;33m\u001b[0m\u001b[1;33m\u001b[0m\u001b[0m\n",
      "\u001b[1;32m~\\Anaconda3\\lib\\site-packages\\pandas\\core\\indexes\\base.py\u001b[0m in \u001b[0;36mget_loc\u001b[1;34m(self, key, method, tolerance)\u001b[0m\n\u001b[0;32m   3361\u001b[0m                 \u001b[1;32mreturn\u001b[0m \u001b[0mself\u001b[0m\u001b[1;33m.\u001b[0m\u001b[0m_engine\u001b[0m\u001b[1;33m.\u001b[0m\u001b[0mget_loc\u001b[0m\u001b[1;33m(\u001b[0m\u001b[0mcasted_key\u001b[0m\u001b[1;33m)\u001b[0m\u001b[1;33m\u001b[0m\u001b[1;33m\u001b[0m\u001b[0m\n\u001b[0;32m   3362\u001b[0m             \u001b[1;32mexcept\u001b[0m \u001b[0mKeyError\u001b[0m \u001b[1;32mas\u001b[0m \u001b[0merr\u001b[0m\u001b[1;33m:\u001b[0m\u001b[1;33m\u001b[0m\u001b[1;33m\u001b[0m\u001b[0m\n\u001b[1;32m-> 3363\u001b[1;33m                 \u001b[1;32mraise\u001b[0m \u001b[0mKeyError\u001b[0m\u001b[1;33m(\u001b[0m\u001b[0mkey\u001b[0m\u001b[1;33m)\u001b[0m \u001b[1;32mfrom\u001b[0m \u001b[0merr\u001b[0m\u001b[1;33m\u001b[0m\u001b[1;33m\u001b[0m\u001b[0m\n\u001b[0m\u001b[0;32m   3364\u001b[0m \u001b[1;33m\u001b[0m\u001b[0m\n\u001b[0;32m   3365\u001b[0m         \u001b[1;32mif\u001b[0m \u001b[0mis_scalar\u001b[0m\u001b[1;33m(\u001b[0m\u001b[0mkey\u001b[0m\u001b[1;33m)\u001b[0m \u001b[1;32mand\u001b[0m \u001b[0misna\u001b[0m\u001b[1;33m(\u001b[0m\u001b[0mkey\u001b[0m\u001b[1;33m)\u001b[0m \u001b[1;32mand\u001b[0m \u001b[1;32mnot\u001b[0m \u001b[0mself\u001b[0m\u001b[1;33m.\u001b[0m\u001b[0mhasnans\u001b[0m\u001b[1;33m:\u001b[0m\u001b[1;33m\u001b[0m\u001b[1;33m\u001b[0m\u001b[0m\n",
      "\u001b[1;31mKeyError\u001b[0m: 'Id_y'"
     ]
    }
   ],
   "source": [
    "df_st_grouped = df_st.groupby('Id_').var()\n",
    "df_st_grouped_merged = pd.merge(df_st_grouped,df_y_train,how=\"left\",left_on=\"Id_\", right_on=\"Id\")\n",
    "df_st_grouped_merged = df_st_grouped_merged.dropna()\n",
    "scalar_df_st_grouped_merged= df_st_grouped_merged[['ff','t','td','hu','dd','precip','Ground_truth']]\n",
    "scaled_df_st_grouped_merged = (scalar_df_st_grouped_merged-scalar_df_st_grouped_merged.mean())/(scalar_df_st_grouped_merged.std())\n",
    "scaled_df_st_grouped_merged['Id'] = df_st_grouped_merged['Id_y']\n"
   ]
  },
  {
   "cell_type": "code",
   "execution_count": null,
   "metadata": {
    "execution": {
     "iopub.status.busy": "2021-12-18T17:57:23.062025Z",
     "iopub.status.idle": "2021-12-18T17:57:23.062674Z",
     "shell.execute_reply": "2021-12-18T17:57:23.062438Z",
     "shell.execute_reply.started": "2021-12-18T17:57:23.062407Z"
    },
    "id": "ceIkwN-2tatV"
   },
   "outputs": [],
   "source": [
    "import matplotlib.pyplot as plt \n",
    "from tqdm import tqdm\n",
    "listevalue = []\n",
    "for y in tqdm(range(360)) : \n",
    "    scalar_df_st_grouped_merged['dd_test'] = [-(abs(y-i)) for i in scalar_df_st_grouped_merged['dd']]\n",
    "    listevalue.append(scalar_df_st_grouped_merged[['dd_test','Ground_truth']].corr()['dd_test']['Ground_truth'])\n",
    "plt.plot(range(360),listevalue)\n",
    "\n",
    "#Valeur maximisant la corrélation \n",
    "print(np.argmax(np.array(listevalue)))\n",
    "print(np.max(np.array(listevalue)))\n",
    "print(\"min\")\n",
    "print(np.argmin(np.array(listevalue)))\n",
    "print(np.min(np.array(listevalue)))\n",
    "#Il faut prendre la derniere vitesse du vent et faire l'écart avec 192"
   ]
  },
  {
   "cell_type": "code",
   "execution_count": null,
   "metadata": {
    "execution": {
     "iopub.execute_input": "2021-12-15T20:33:38.4316Z",
     "iopub.status.busy": "2021-12-15T20:33:38.43019Z",
     "iopub.status.idle": "2021-12-15T20:33:38.454337Z",
     "shell.execute_reply": "2021-12-15T20:33:38.453326Z",
     "shell.execute_reply.started": "2021-12-15T20:33:38.43153Z"
    },
    "id": "JwqdpTs8tatX"
   },
   "outputs": [],
   "source": [
    "df_st"
   ]
  },
  {
   "cell_type": "code",
   "execution_count": null,
   "metadata": {
    "execution": {
     "iopub.execute_input": "2021-12-15T20:32:46.377028Z",
     "iopub.status.busy": "2021-12-15T20:32:46.376649Z",
     "iopub.status.idle": "2021-12-15T20:32:46.403696Z",
     "shell.execute_reply": "2021-12-15T20:32:46.402983Z",
     "shell.execute_reply.started": "2021-12-15T20:32:46.377001Z"
    },
    "id": "rd4ctK-MtatY"
   },
   "outputs": [],
   "source": [
    "(df_st['hu'].astype(int).value_counts()/df_st.shape[0]).cumsum().head(50)"
   ]
  },
  {
   "cell_type": "markdown",
   "metadata": {
    "id": "zTGfFiebtatZ"
   },
   "source": [
    "# IMPACT DE L HUMIDITE"
   ]
  },
  {
   "cell_type": "code",
   "execution_count": null,
   "metadata": {
    "execution": {
     "iopub.execute_input": "2021-12-18T19:37:03.53278Z",
     "iopub.status.busy": "2021-12-18T19:37:03.532564Z"
    },
    "id": "RwS05mratata"
   },
   "outputs": [],
   "source": [
    "df_station_train[\"Id_\"] = [\"_\".join(i.split('_')[:2]) for i in list(df_station_train['Id'])]\n",
    "df_st = df_station_train.dropna()\n",
    "df_st = df_st[['ff','t','td','hu','dd','precip','Id_']]\n",
    "df_st_grouped = df_st.groupby('Id_').last() \n",
    "df_st_grouped_merged = pd.merge(df_st_grouped,df_y_train,how=\"left\",left_on=\"Id_\", right_on=\"Id\")\n",
    "df_st_grouped_merged = df_st_grouped_merged.dropna()\n",
    "scalar_df_st_grouped_merged= df_st_grouped_merged[['ff','t','td','hu','dd','precip','Ground_truth']]\n",
    "scaled_df_st_grouped_merged = (scalar_df_st_grouped_merged-scalar_df_st_grouped_merged.mean())/(scalar_df_st_grouped_merged.std())\n",
    "scaled_df_st_grouped_merged['Id'] = df_st_grouped_merged['Id']"
   ]
  },
  {
   "cell_type": "code",
   "execution_count": null,
   "metadata": {
    "collapsed": true,
    "id": "TNhDrv8_tatb",
    "outputId": "8a5e97a3-769b-41dd-8ecf-78df7d97c57a"
   },
   "outputs": [
    {
     "data": {
      "text/plain": [
       "96     78\n",
       "94     51\n",
       "95     48\n",
       "93     44\n",
       "92     41\n",
       "91     38\n",
       "97     36\n",
       "88     31\n",
       "89     30\n",
       "98     26\n",
       "90     26\n",
       "85     24\n",
       "99     22\n",
       "86     21\n",
       "74     19\n",
       "71     18\n",
       "82     18\n",
       "87     18\n",
       "83     18\n",
       "70     18\n",
       "62     18\n",
       "68     17\n",
       "67     17\n",
       "69     17\n",
       "64     16\n",
       "78     16\n",
       "63     15\n",
       "73     15\n",
       "81     15\n",
       "84     14\n",
       "76     14\n",
       "72     14\n",
       "79     14\n",
       "59     13\n",
       "61     13\n",
       "66     13\n",
       "80     12\n",
       "75     11\n",
       "60     11\n",
       "65     10\n",
       "77     10\n",
       "57      9\n",
       "53      7\n",
       "54      7\n",
       "100     6\n",
       "55      5\n",
       "56      5\n",
       "58      5\n",
       "48      4\n",
       "52      4\n",
       "Name: hu, dtype: int64"
      ]
     },
     "execution_count": 16,
     "metadata": {},
     "output_type": "execute_result"
    }
   ],
   "source": [
    "dd = pd.merge(df_st,df_y_train,how=\"left\",left_on=\"Id_\", right_on=\"Id\").dropna()\n",
    "dd['hu'] = dd['hu'].astype(int)\n",
    "dd.sort_values(\"Ground_truth\",ascending=False).head(1000)['hu'].value_counts().head(50)"
   ]
  },
  {
   "cell_type": "markdown",
   "metadata": {
    "id": "7oB1E4WZtatc"
   },
   "source": [
    "# COMBINAISON TEMPERATURE ET HUMIDITE"
   ]
  },
  {
   "cell_type": "code",
   "execution_count": null,
   "metadata": {
    "id": "DX6ZWoUctatc"
   },
   "outputs": [],
   "source": [
    "df_station_train[\"Id_\"] = [\"_\".join(i.split('_')[:2]) for i in list(df_station_train['Id'])]\n",
    "df_st = df_station_train.dropna()\n",
    "df_st = df_st[['ff','t','td','hu','dd','precip','Id_']]\n",
    "df_merged = pd.merge(df_st,df_y_train,how=\"left\",left_on=\"Id_\", right_on=\"Id\").dropna()\n"
   ]
  },
  {
   "cell_type": "code",
   "execution_count": null,
   "metadata": {
    "id": "UkambsOttatd"
   },
   "outputs": [],
   "source": [
    "df_merged['new_humidity'] = df_merged['hu']+(df_merged['t'])/df_merged['hu']"
   ]
  },
  {
   "cell_type": "code",
   "execution_count": null,
   "metadata": {
    "id": "PGsvtOPmtate"
   },
   "outputs": [],
   "source": [
    "df_merged_grouped = df_merged.groupby(\"Id_\").sum()"
   ]
  },
  {
   "cell_type": "code",
   "execution_count": null,
   "metadata": {
    "id": "udWet93Qtatf",
    "outputId": "95c6d5b1-94a4-4f75-e2e7-01782dde7db4"
   },
   "outputs": [
    {
     "data": {
      "text/html": [
       "<div>\n",
       "<style scoped>\n",
       "    .dataframe tbody tr th:only-of-type {\n",
       "        vertical-align: middle;\n",
       "    }\n",
       "\n",
       "    .dataframe tbody tr th {\n",
       "        vertical-align: top;\n",
       "    }\n",
       "\n",
       "    .dataframe thead th {\n",
       "        text-align: right;\n",
       "    }\n",
       "</style>\n",
       "<table border=\"1\" class=\"dataframe\">\n",
       "  <thead>\n",
       "    <tr style=\"text-align: right;\">\n",
       "      <th></th>\n",
       "      <th>ff</th>\n",
       "      <th>t</th>\n",
       "      <th>td</th>\n",
       "      <th>hu</th>\n",
       "      <th>dd</th>\n",
       "      <th>precip</th>\n",
       "      <th>number_sta</th>\n",
       "      <th>Ground_truth</th>\n",
       "      <th>new_humidity</th>\n",
       "    </tr>\n",
       "  </thead>\n",
       "  <tbody>\n",
       "    <tr>\n",
       "      <th>ff</th>\n",
       "      <td>1.000000</td>\n",
       "      <td>-0.088957</td>\n",
       "      <td>-0.069697</td>\n",
       "      <td>0.031160</td>\n",
       "      <td>0.215875</td>\n",
       "      <td>0.302832</td>\n",
       "      <td>0.020738</td>\n",
       "      <td>0.172931</td>\n",
       "      <td>0.024858</td>\n",
       "    </tr>\n",
       "    <tr>\n",
       "      <th>t</th>\n",
       "      <td>-0.088957</td>\n",
       "      <td>1.000000</td>\n",
       "      <td>0.920270</td>\n",
       "      <td>-0.442863</td>\n",
       "      <td>0.116066</td>\n",
       "      <td>-0.061899</td>\n",
       "      <td>0.024930</td>\n",
       "      <td>-0.045032</td>\n",
       "      <td>-0.432647</td>\n",
       "    </tr>\n",
       "    <tr>\n",
       "      <th>td</th>\n",
       "      <td>-0.069697</td>\n",
       "      <td>0.920270</td>\n",
       "      <td>1.000000</td>\n",
       "      <td>-0.080911</td>\n",
       "      <td>0.207087</td>\n",
       "      <td>0.042584</td>\n",
       "      <td>-0.008962</td>\n",
       "      <td>-0.006735</td>\n",
       "      <td>-0.072621</td>\n",
       "    </tr>\n",
       "    <tr>\n",
       "      <th>hu</th>\n",
       "      <td>0.031160</td>\n",
       "      <td>-0.442863</td>\n",
       "      <td>-0.080911</td>\n",
       "      <td>1.000000</td>\n",
       "      <td>0.153483</td>\n",
       "      <td>0.260775</td>\n",
       "      <td>-0.079669</td>\n",
       "      <td>0.092625</td>\n",
       "      <td>0.997759</td>\n",
       "    </tr>\n",
       "    <tr>\n",
       "      <th>dd</th>\n",
       "      <td>0.215875</td>\n",
       "      <td>0.116066</td>\n",
       "      <td>0.207087</td>\n",
       "      <td>0.153483</td>\n",
       "      <td>1.000000</td>\n",
       "      <td>0.176988</td>\n",
       "      <td>-0.026723</td>\n",
       "      <td>0.091410</td>\n",
       "      <td>0.151860</td>\n",
       "    </tr>\n",
       "    <tr>\n",
       "      <th>precip</th>\n",
       "      <td>0.302832</td>\n",
       "      <td>-0.061899</td>\n",
       "      <td>0.042584</td>\n",
       "      <td>0.260775</td>\n",
       "      <td>0.176988</td>\n",
       "      <td>1.000000</td>\n",
       "      <td>-0.014789</td>\n",
       "      <td>0.236968</td>\n",
       "      <td>0.261256</td>\n",
       "    </tr>\n",
       "    <tr>\n",
       "      <th>number_sta</th>\n",
       "      <td>0.020738</td>\n",
       "      <td>0.024930</td>\n",
       "      <td>-0.008962</td>\n",
       "      <td>-0.079669</td>\n",
       "      <td>-0.026723</td>\n",
       "      <td>-0.014789</td>\n",
       "      <td>1.000000</td>\n",
       "      <td>-0.015089</td>\n",
       "      <td>-0.080310</td>\n",
       "    </tr>\n",
       "    <tr>\n",
       "      <th>Ground_truth</th>\n",
       "      <td>0.172931</td>\n",
       "      <td>-0.045032</td>\n",
       "      <td>-0.006735</td>\n",
       "      <td>0.092625</td>\n",
       "      <td>0.091410</td>\n",
       "      <td>0.236968</td>\n",
       "      <td>-0.015089</td>\n",
       "      <td>1.000000</td>\n",
       "      <td>0.091496</td>\n",
       "    </tr>\n",
       "    <tr>\n",
       "      <th>new_humidity</th>\n",
       "      <td>0.024858</td>\n",
       "      <td>-0.432647</td>\n",
       "      <td>-0.072621</td>\n",
       "      <td>0.997759</td>\n",
       "      <td>0.151860</td>\n",
       "      <td>0.261256</td>\n",
       "      <td>-0.080310</td>\n",
       "      <td>0.091496</td>\n",
       "      <td>1.000000</td>\n",
       "    </tr>\n",
       "  </tbody>\n",
       "</table>\n",
       "</div>"
      ],
      "text/plain": [
       "                    ff         t        td        hu        dd    precip  \\\n",
       "ff            1.000000 -0.088957 -0.069697  0.031160  0.215875  0.302832   \n",
       "t            -0.088957  1.000000  0.920270 -0.442863  0.116066 -0.061899   \n",
       "td           -0.069697  0.920270  1.000000 -0.080911  0.207087  0.042584   \n",
       "hu            0.031160 -0.442863 -0.080911  1.000000  0.153483  0.260775   \n",
       "dd            0.215875  0.116066  0.207087  0.153483  1.000000  0.176988   \n",
       "precip        0.302832 -0.061899  0.042584  0.260775  0.176988  1.000000   \n",
       "number_sta    0.020738  0.024930 -0.008962 -0.079669 -0.026723 -0.014789   \n",
       "Ground_truth  0.172931 -0.045032 -0.006735  0.092625  0.091410  0.236968   \n",
       "new_humidity  0.024858 -0.432647 -0.072621  0.997759  0.151860  0.261256   \n",
       "\n",
       "              number_sta  Ground_truth  new_humidity  \n",
       "ff              0.020738      0.172931      0.024858  \n",
       "t               0.024930     -0.045032     -0.432647  \n",
       "td             -0.008962     -0.006735     -0.072621  \n",
       "hu             -0.079669      0.092625      0.997759  \n",
       "dd             -0.026723      0.091410      0.151860  \n",
       "precip         -0.014789      0.236968      0.261256  \n",
       "number_sta      1.000000     -0.015089     -0.080310  \n",
       "Ground_truth   -0.015089      1.000000      0.091496  \n",
       "new_humidity   -0.080310      0.091496      1.000000  "
      ]
     },
     "execution_count": 20,
     "metadata": {},
     "output_type": "execute_result"
    }
   ],
   "source": [
    "df_merged_grouped.corr()"
   ]
  },
  {
   "cell_type": "markdown",
   "metadata": {
    "id": "avShaOyGtatg"
   },
   "source": [
    "# IMPACT TEMPERATURE"
   ]
  },
  {
   "cell_type": "code",
   "execution_count": null,
   "metadata": {
    "id": "I-BEY3vstatg"
   },
   "outputs": [],
   "source": [
    "df_station_train[\"Id_\"] = [\"_\".join(i.split('_')[:2]) for i in list(df_station_train['Id'])]\n",
    "df_st = df_station_train.dropna()\n",
    "df_st = df_st[['ff','t','td','hu','dd','precip','Id_']]\n",
    "df_st['diff_t'] = ((df_st['t'] - df_st['td'] ))"
   ]
  },
  {
   "cell_type": "code",
   "execution_count": null,
   "metadata": {
    "id": "HPaVJTz2tath"
   },
   "outputs": [],
   "source": [
    "#df_grouped_merged = df_grouped_merged.groupby(\"Id_\").mean()\n",
    "df_grouped_merged = pd.merge(df_st,df_y_train,how=\"left\",left_on=\"Id_\", right_on=\"Id\").dropna()\n"
   ]
  },
  {
   "cell_type": "code",
   "execution_count": null,
   "metadata": {
    "id": "mSKCPL5xtath",
    "outputId": "e5e67fac-33b7-48b1-8781-9e3cd615e18f"
   },
   "outputs": [
    {
     "data": {
      "text/html": [
       "<div>\n",
       "<style scoped>\n",
       "    .dataframe tbody tr th:only-of-type {\n",
       "        vertical-align: middle;\n",
       "    }\n",
       "\n",
       "    .dataframe tbody tr th {\n",
       "        vertical-align: top;\n",
       "    }\n",
       "\n",
       "    .dataframe thead th {\n",
       "        text-align: right;\n",
       "    }\n",
       "</style>\n",
       "<table border=\"1\" class=\"dataframe\">\n",
       "  <thead>\n",
       "    <tr style=\"text-align: right;\">\n",
       "      <th></th>\n",
       "      <th>ff</th>\n",
       "      <th>t</th>\n",
       "      <th>td</th>\n",
       "      <th>hu</th>\n",
       "      <th>dd</th>\n",
       "      <th>precip</th>\n",
       "      <th>diff_t</th>\n",
       "      <th>number_sta</th>\n",
       "      <th>Ground_truth</th>\n",
       "    </tr>\n",
       "  </thead>\n",
       "  <tbody>\n",
       "    <tr>\n",
       "      <th>ff</th>\n",
       "      <td>1.000000</td>\n",
       "      <td>-0.093400</td>\n",
       "      <td>-0.074598</td>\n",
       "      <td>0.030871</td>\n",
       "      <td>0.215800</td>\n",
       "      <td>0.302805</td>\n",
       "      <td>-0.073925</td>\n",
       "      <td>0.020678</td>\n",
       "      <td>0.172939</td>\n",
       "    </tr>\n",
       "    <tr>\n",
       "      <th>t</th>\n",
       "      <td>-0.093400</td>\n",
       "      <td>1.000000</td>\n",
       "      <td>0.915779</td>\n",
       "      <td>-0.464335</td>\n",
       "      <td>0.116560</td>\n",
       "      <td>-0.064371</td>\n",
       "      <td>0.547588</td>\n",
       "      <td>0.022974</td>\n",
       "      <td>-0.046787</td>\n",
       "    </tr>\n",
       "    <tr>\n",
       "      <th>td</th>\n",
       "      <td>-0.074598</td>\n",
       "      <td>0.915779</td>\n",
       "      <td>1.000000</td>\n",
       "      <td>-0.094483</td>\n",
       "      <td>0.211580</td>\n",
       "      <td>0.043238</td>\n",
       "      <td>0.165364</td>\n",
       "      <td>-0.012353</td>\n",
       "      <td>-0.007600</td>\n",
       "    </tr>\n",
       "    <tr>\n",
       "      <th>hu</th>\n",
       "      <td>0.030871</td>\n",
       "      <td>-0.464335</td>\n",
       "      <td>-0.094483</td>\n",
       "      <td>1.000000</td>\n",
       "      <td>0.153123</td>\n",
       "      <td>0.260839</td>\n",
       "      <td>-0.943246</td>\n",
       "      <td>-0.080142</td>\n",
       "      <td>0.092600</td>\n",
       "    </tr>\n",
       "    <tr>\n",
       "      <th>dd</th>\n",
       "      <td>0.215800</td>\n",
       "      <td>0.116560</td>\n",
       "      <td>0.211580</td>\n",
       "      <td>0.153123</td>\n",
       "      <td>1.000000</td>\n",
       "      <td>0.176950</td>\n",
       "      <td>-0.154561</td>\n",
       "      <td>-0.026860</td>\n",
       "      <td>0.091395</td>\n",
       "    </tr>\n",
       "    <tr>\n",
       "      <th>precip</th>\n",
       "      <td>0.302805</td>\n",
       "      <td>-0.064371</td>\n",
       "      <td>0.043238</td>\n",
       "      <td>0.260839</td>\n",
       "      <td>0.176950</td>\n",
       "      <td>1.000000</td>\n",
       "      <td>-0.248117</td>\n",
       "      <td>-0.014821</td>\n",
       "      <td>0.236964</td>\n",
       "    </tr>\n",
       "    <tr>\n",
       "      <th>diff_t</th>\n",
       "      <td>-0.073925</td>\n",
       "      <td>0.547588</td>\n",
       "      <td>0.165364</td>\n",
       "      <td>-0.943246</td>\n",
       "      <td>-0.154561</td>\n",
       "      <td>-0.248117</td>\n",
       "      <td>1.000000</td>\n",
       "      <td>0.082140</td>\n",
       "      <td>-0.099044</td>\n",
       "    </tr>\n",
       "    <tr>\n",
       "      <th>number_sta</th>\n",
       "      <td>0.020678</td>\n",
       "      <td>0.022974</td>\n",
       "      <td>-0.012353</td>\n",
       "      <td>-0.080142</td>\n",
       "      <td>-0.026860</td>\n",
       "      <td>-0.014821</td>\n",
       "      <td>0.082140</td>\n",
       "      <td>1.000000</td>\n",
       "      <td>-0.015099</td>\n",
       "    </tr>\n",
       "    <tr>\n",
       "      <th>Ground_truth</th>\n",
       "      <td>0.172939</td>\n",
       "      <td>-0.046787</td>\n",
       "      <td>-0.007600</td>\n",
       "      <td>0.092600</td>\n",
       "      <td>0.091395</td>\n",
       "      <td>0.236964</td>\n",
       "      <td>-0.099044</td>\n",
       "      <td>-0.015099</td>\n",
       "      <td>1.000000</td>\n",
       "    </tr>\n",
       "  </tbody>\n",
       "</table>\n",
       "</div>"
      ],
      "text/plain": [
       "                    ff         t        td        hu        dd    precip  \\\n",
       "ff            1.000000 -0.093400 -0.074598  0.030871  0.215800  0.302805   \n",
       "t            -0.093400  1.000000  0.915779 -0.464335  0.116560 -0.064371   \n",
       "td           -0.074598  0.915779  1.000000 -0.094483  0.211580  0.043238   \n",
       "hu            0.030871 -0.464335 -0.094483  1.000000  0.153123  0.260839   \n",
       "dd            0.215800  0.116560  0.211580  0.153123  1.000000  0.176950   \n",
       "precip        0.302805 -0.064371  0.043238  0.260839  0.176950  1.000000   \n",
       "diff_t       -0.073925  0.547588  0.165364 -0.943246 -0.154561 -0.248117   \n",
       "number_sta    0.020678  0.022974 -0.012353 -0.080142 -0.026860 -0.014821   \n",
       "Ground_truth  0.172939 -0.046787 -0.007600  0.092600  0.091395  0.236964   \n",
       "\n",
       "                diff_t  number_sta  Ground_truth  \n",
       "ff           -0.073925    0.020678      0.172939  \n",
       "t             0.547588    0.022974     -0.046787  \n",
       "td            0.165364   -0.012353     -0.007600  \n",
       "hu           -0.943246   -0.080142      0.092600  \n",
       "dd           -0.154561   -0.026860      0.091395  \n",
       "precip       -0.248117   -0.014821      0.236964  \n",
       "diff_t        1.000000    0.082140     -0.099044  \n",
       "number_sta    0.082140    1.000000     -0.015099  \n",
       "Ground_truth -0.099044   -0.015099      1.000000  "
      ]
     },
     "execution_count": 23,
     "metadata": {},
     "output_type": "execute_result"
    }
   ],
   "source": [
    "df_grouped_merged.groupby(\"Id_\").mean().corr()"
   ]
  },
  {
   "cell_type": "code",
   "execution_count": null,
   "metadata": {
    "id": "ruRR-PSOtati",
    "outputId": "66ec51cd-221d-4ca1-9e57-69524b4e8136"
   },
   "outputs": [
    {
     "data": {
      "text/html": [
       "<div>\n",
       "<style scoped>\n",
       "    .dataframe tbody tr th:only-of-type {\n",
       "        vertical-align: middle;\n",
       "    }\n",
       "\n",
       "    .dataframe tbody tr th {\n",
       "        vertical-align: top;\n",
       "    }\n",
       "\n",
       "    .dataframe thead th {\n",
       "        text-align: right;\n",
       "    }\n",
       "</style>\n",
       "<table border=\"1\" class=\"dataframe\">\n",
       "  <thead>\n",
       "    <tr style=\"text-align: right;\">\n",
       "      <th></th>\n",
       "      <th>ff</th>\n",
       "      <th>t</th>\n",
       "      <th>td</th>\n",
       "      <th>hu</th>\n",
       "      <th>dd</th>\n",
       "      <th>precip</th>\n",
       "      <th>diff_t</th>\n",
       "      <th>number_sta</th>\n",
       "      <th>Ground_truth</th>\n",
       "    </tr>\n",
       "  </thead>\n",
       "  <tbody>\n",
       "    <tr>\n",
       "      <th>ff</th>\n",
       "      <td>1.000000</td>\n",
       "      <td>0.053337</td>\n",
       "      <td>-0.024321</td>\n",
       "      <td>-0.164443</td>\n",
       "      <td>0.208484</td>\n",
       "      <td>0.124916</td>\n",
       "      <td>0.132474</td>\n",
       "      <td>0.016778</td>\n",
       "      <td>0.140458</td>\n",
       "    </tr>\n",
       "    <tr>\n",
       "      <th>t</th>\n",
       "      <td>0.053337</td>\n",
       "      <td>1.000000</td>\n",
       "      <td>0.838562</td>\n",
       "      <td>-0.561201</td>\n",
       "      <td>0.139529</td>\n",
       "      <td>-0.023527</td>\n",
       "      <td>0.620693</td>\n",
       "      <td>0.020406</td>\n",
       "      <td>-0.041520</td>\n",
       "    </tr>\n",
       "    <tr>\n",
       "      <th>td</th>\n",
       "      <td>-0.024321</td>\n",
       "      <td>0.838562</td>\n",
       "      <td>1.000000</td>\n",
       "      <td>-0.053365</td>\n",
       "      <td>0.178573</td>\n",
       "      <td>0.044060</td>\n",
       "      <td>0.093331</td>\n",
       "      <td>-0.011799</td>\n",
       "      <td>-0.007257</td>\n",
       "    </tr>\n",
       "    <tr>\n",
       "      <th>hu</th>\n",
       "      <td>-0.164443</td>\n",
       "      <td>-0.561201</td>\n",
       "      <td>-0.053365</td>\n",
       "      <td>1.000000</td>\n",
       "      <td>-0.001145</td>\n",
       "      <td>0.119507</td>\n",
       "      <td>-0.948796</td>\n",
       "      <td>-0.053077</td>\n",
       "      <td>0.061321</td>\n",
       "    </tr>\n",
       "    <tr>\n",
       "      <th>dd</th>\n",
       "      <td>0.208484</td>\n",
       "      <td>0.139529</td>\n",
       "      <td>0.178573</td>\n",
       "      <td>-0.001145</td>\n",
       "      <td>1.000000</td>\n",
       "      <td>0.049080</td>\n",
       "      <td>-0.002002</td>\n",
       "      <td>-0.020902</td>\n",
       "      <td>0.071132</td>\n",
       "    </tr>\n",
       "    <tr>\n",
       "      <th>precip</th>\n",
       "      <td>0.124916</td>\n",
       "      <td>-0.023527</td>\n",
       "      <td>0.044060</td>\n",
       "      <td>0.119507</td>\n",
       "      <td>0.049080</td>\n",
       "      <td>1.000000</td>\n",
       "      <td>-0.106404</td>\n",
       "      <td>-0.005852</td>\n",
       "      <td>0.093540</td>\n",
       "    </tr>\n",
       "    <tr>\n",
       "      <th>diff_t</th>\n",
       "      <td>0.132474</td>\n",
       "      <td>0.620693</td>\n",
       "      <td>0.093331</td>\n",
       "      <td>-0.948796</td>\n",
       "      <td>-0.002002</td>\n",
       "      <td>-0.106404</td>\n",
       "      <td>1.000000</td>\n",
       "      <td>0.054273</td>\n",
       "      <td>-0.065435</td>\n",
       "    </tr>\n",
       "    <tr>\n",
       "      <th>number_sta</th>\n",
       "      <td>0.016778</td>\n",
       "      <td>0.020406</td>\n",
       "      <td>-0.011799</td>\n",
       "      <td>-0.053077</td>\n",
       "      <td>-0.020902</td>\n",
       "      <td>-0.005852</td>\n",
       "      <td>0.054273</td>\n",
       "      <td>1.000000</td>\n",
       "      <td>-0.015108</td>\n",
       "    </tr>\n",
       "    <tr>\n",
       "      <th>Ground_truth</th>\n",
       "      <td>0.140458</td>\n",
       "      <td>-0.041520</td>\n",
       "      <td>-0.007257</td>\n",
       "      <td>0.061321</td>\n",
       "      <td>0.071132</td>\n",
       "      <td>0.093540</td>\n",
       "      <td>-0.065435</td>\n",
       "      <td>-0.015108</td>\n",
       "      <td>1.000000</td>\n",
       "    </tr>\n",
       "  </tbody>\n",
       "</table>\n",
       "</div>"
      ],
      "text/plain": [
       "                    ff         t        td        hu        dd    precip  \\\n",
       "ff            1.000000  0.053337 -0.024321 -0.164443  0.208484  0.124916   \n",
       "t             0.053337  1.000000  0.838562 -0.561201  0.139529 -0.023527   \n",
       "td           -0.024321  0.838562  1.000000 -0.053365  0.178573  0.044060   \n",
       "hu           -0.164443 -0.561201 -0.053365  1.000000 -0.001145  0.119507   \n",
       "dd            0.208484  0.139529  0.178573 -0.001145  1.000000  0.049080   \n",
       "precip        0.124916 -0.023527  0.044060  0.119507  0.049080  1.000000   \n",
       "diff_t        0.132474  0.620693  0.093331 -0.948796 -0.002002 -0.106404   \n",
       "number_sta    0.016778  0.020406 -0.011799 -0.053077 -0.020902 -0.005852   \n",
       "Ground_truth  0.140458 -0.041520 -0.007257  0.061321  0.071132  0.093540   \n",
       "\n",
       "                diff_t  number_sta  Ground_truth  \n",
       "ff            0.132474    0.016778      0.140458  \n",
       "t             0.620693    0.020406     -0.041520  \n",
       "td            0.093331   -0.011799     -0.007257  \n",
       "hu           -0.948796   -0.053077      0.061321  \n",
       "dd           -0.002002   -0.020902      0.071132  \n",
       "precip       -0.106404   -0.005852      0.093540  \n",
       "diff_t        1.000000    0.054273     -0.065435  \n",
       "number_sta    0.054273    1.000000     -0.015108  \n",
       "Ground_truth -0.065435   -0.015108      1.000000  "
      ]
     },
     "execution_count": 24,
     "metadata": {},
     "output_type": "execute_result"
    }
   ],
   "source": [
    "df_grouped_merged.dropna().sort_values(\"Ground_truth\",ascending=False).corr()"
   ]
  },
  {
   "cell_type": "markdown",
   "metadata": {
    "id": "-GEzImLptati"
   },
   "source": [
    "# RECUPERER DERNIERE HEURE (non pertinent)"
   ]
  },
  {
   "cell_type": "code",
   "execution_count": null,
   "metadata": {
    "id": "nAtdsc1Ytatj"
   },
   "outputs": [],
   "source": [
    "df_station_train['hour'] = [i.split('_')[-1] for i in df_station_train['Id']]\n",
    "df_station_train['hour'] = df_station_train['hour'].astype(int)"
   ]
  },
  {
   "cell_type": "code",
   "execution_count": null,
   "metadata": {
    "id": "qgsj0AB5tatj"
   },
   "outputs": [],
   "source": [
    "df_last_hour = df_station_train.sort_values('hour').drop_duplicates(\"Id_\",keep=\"last\")\n",
    "df_last_hour['new_hu'] = [int(i>=90) for i in  df_last_hour['hu']]"
   ]
  },
  {
   "cell_type": "code",
   "execution_count": null,
   "metadata": {
    "collapsed": true,
    "id": "AH-s-_PDtatk",
    "outputId": "2b8be965-9eaa-431f-f315-fe807d0ec339"
   },
   "outputs": [
    {
     "data": {
      "text/plain": [
       "number_sta_x    4.964813e+07\n",
       "ff              2.183500e+00\n",
       "t               2.756367e+02\n",
       "td              2.724056e+02\n",
       "hu              8.007900e+01\n",
       "dd              1.259600e+02\n",
       "precip          0.000000e+00\n",
       "Id_x                     inf\n",
       "Id_                      inf\n",
       "hour            2.300000e+01\n",
       "new_hu          2.900000e-01\n",
       "number_sta_y    4.964813e+07\n",
       "Ground_truth    0.000000e+00\n",
       "Id_y                     inf\n",
       "dtype: float64"
      ]
     },
     "execution_count": 74,
     "metadata": {},
     "output_type": "execute_result"
    }
   ],
   "source": [
    "df_last_hour_merged = pd.merge(df_last_hour,df_y_train,how=\"left\",left_on=\"Id_\", right_on=\"Id\")\n",
    "df_last_hour_merged.dropna().sort_values(\"Ground_truth\",ascending=False).tail(100).mean()"
   ]
  },
  {
   "cell_type": "markdown",
   "metadata": {
    "id": "dft0Wty8tatk"
   },
   "source": [
    "# SAVOIR SI IL N A PAS PLUT"
   ]
  },
  {
   "cell_type": "code",
   "execution_count": null,
   "metadata": {
    "id": "ZvJwdht2tatl",
    "outputId": "60561952-94cb-46cd-9f09-9c7d0488d1d4"
   },
   "outputs": [
    {
     "data": {
      "text/plain": [
       "<AxesSubplot:>"
      ]
     },
     "execution_count": 25,
     "metadata": {},
     "output_type": "execute_result"
    },
    {
     "data": {
      "image/png": "[encoded data removed]",
      "text/plain": [
       "<Figure size 432x288 with 1 Axes>"
      ]
     },
     "metadata": {
      "needs_background": "light"
     },
     "output_type": "display_data"
    }
   ],
   "source": [
    "df_merged[df_merged['Ground_truth']==0][['ff', 't', 'td', 'hu', 'dd', 'precip', 'Ground_truth']].boxplot()"
   ]
  },
  {
   "cell_type": "code",
   "execution_count": null,
   "metadata": {
    "id": "S-QA3bxhtatl",
    "outputId": "121b23ef-109f-49e8-e988-984d277e065c",
    "scrolled": true
   },
   "outputs": [
    {
     "data": {
      "text/plain": [
       "<AxesSubplot:>"
      ]
     },
     "execution_count": 26,
     "metadata": {},
     "output_type": "execute_result"
    },
    {
     "data": {
      "image/png": "[encoded data removed]",
      "text/plain": [
       "<Figure size 432x288 with 1 Axes>"
      ]
     },
     "metadata": {
      "needs_background": "light"
     },
     "output_type": "display_data"
    }
   ],
   "source": [
    "df_merged[df_merged['Ground_truth']>1][['ff', 't', 'td', 'hu', 'dd', 'precip', 'Ground_truth']].boxplot()"
   ]
  },
  {
   "cell_type": "code",
   "execution_count": null,
   "metadata": {
    "id": "IoT-r-Nitatm"
   },
   "outputs": [],
   "source": [
    "df_merged['diff_tt'] = df_merged['t'] - df_merged['td']"
   ]
  },
  {
   "cell_type": "code",
   "execution_count": null,
   "metadata": {
    "id": "zbSx4RoQtatm"
   },
   "outputs": [],
   "source": [
    "from sklearn import tree\n",
    "dftest = df_merged.groupby(\"Id_\").mean().sample(80000)\n",
    "X = dftest[['ff', 't', 'td', 'hu', 'dd', 'precip',\"diff_tt\"]]\n",
    "Y = (dftest['Ground_truth']<=1).astype(int)\n",
    "clf = tree.DecisionTreeClassifier(max_depth=3)\n",
    "clf = clf.fit(X, Y)"
   ]
  },
  {
   "cell_type": "code",
   "execution_count": null,
   "metadata": {
    "id": "ioTwUs2Atatm",
    "outputId": "dc958858-8e01-4f09-b4bd-b340e8c5c59f"
   },
   "outputs": [
    {
     "data": {
      "text/plain": [
       "[Text(558.0, 475.65000000000003, 'X[5] <= 0.024\\ngini = 0.416\\nsamples = 80000\\nvalue = [23621, 56379]'),\n",
       " Text(279.0, 339.75, 'X[4] <= 103.312\\ngini = 0.3\\nsamples = 50771\\nvalue = [9328, 41443]'),\n",
       " Text(139.5, 203.85000000000002, 'X[1] <= 283.709\\ngini = 0.144\\nsamples = 12673\\nvalue = [993, 11680]'),\n",
       " Text(69.75, 67.94999999999999, 'gini = 0.105\\nsamples = 7470\\nvalue = [415, 7055]'),\n",
       " Text(209.25, 67.94999999999999, 'gini = 0.197\\nsamples = 5203\\nvalue = [578, 4625]'),\n",
       " Text(418.5, 203.85000000000002, 'X[1] <= 288.944\\ngini = 0.342\\nsamples = 38098\\nvalue = [8335, 29763]'),\n",
       " Text(348.75, 67.94999999999999, 'gini = 0.382\\nsamples = 23813\\nvalue = [6115, 17698]'),\n",
       " Text(488.25, 67.94999999999999, 'gini = 0.263\\nsamples = 14285\\nvalue = [2220, 12065]'),\n",
       " Text(837.0, 339.75, 'X[5] <= 0.114\\ngini = 0.5\\nsamples = 29229\\nvalue = [14293, 14936]'),\n",
       " Text(697.5, 203.85000000000002, 'X[2] <= 279.83\\ngini = 0.483\\nsamples = 13313\\nvalue = [5423, 7890]'),\n",
       " Text(627.75, 67.94999999999999, 'gini = 0.5\\nsamples = 4567\\nvalue = [2222, 2345]'),\n",
       " Text(767.25, 67.94999999999999, 'gini = 0.464\\nsamples = 8746\\nvalue = [3201, 5545]'),\n",
       " Text(976.5, 203.85000000000002, 'X[0] <= 4.825\\ngini = 0.493\\nsamples = 15916\\nvalue = [8870, 7046]'),\n",
       " Text(906.75, 67.94999999999999, 'gini = 0.5\\nsamples = 9833\\nvalue = [4899, 4934]'),\n",
       " Text(1046.25, 67.94999999999999, 'gini = 0.453\\nsamples = 6083\\nvalue = [3971, 2112]')]"
      ]
     },
     "execution_count": 18,
     "metadata": {},
     "output_type": "execute_result"
    },
    {
     "data": {
      "image/png": "[encoded data removed]",
      "text/plain": [
       "<Figure size 1440x720 with 1 Axes>"
      ]
     },
     "metadata": {
      "needs_background": "light"
     },
     "output_type": "display_data"
    }
   ],
   "source": [
    "tree.plot_tree(clf)"
   ]
  },
  {
   "cell_type": "markdown",
   "metadata": {
    "id": "TbcobGmCtatn"
   },
   "source": [
    "# Transformer heures en colonnes"
   ]
  },
  {
   "cell_type": "code",
   "execution_count": null,
   "metadata": {
    "id": "IW9JpB_0tato",
    "outputId": "01151833-fcee-414b-ec41-df95e9744fda"
   },
   "outputs": [
    {
     "name": "stderr",
     "output_type": "stream",
     "text": [
      "100%|████████████████████████████████████████████████████████████████████| 4409064/4409064 [00:31<00:00, 141898.97it/s]\n"
     ]
    }
   ],
   "source": [
    "df = df_station_train\n",
    "df['dd_'] = [-(abs(192-i)) for i in df['dd']]\n",
    "df_station_train[\"Id_\"] = [\"_\".join(i.split('_')[:2]) for i in list(df_station_train['Id'])]\n",
    "df.index = df['Id_']\n",
    "del df['Id_']\n",
    "df_grouped_count = df.groupby('Id_').count()\n",
    "df_grouped_count_24 = df_grouped_count[df_grouped_count['td']==24]\n",
    "df_all_hours = df.loc[df_grouped_count_24.index]\n",
    "df_all_hours['Id_'] = df_all_hours.index\n",
    "index_id =list(df_all_hours.columns).index('Id_')\n",
    "index_hour = list(df_all_hours.columns).index('hour')\n",
    "index_ff = list(df_all_hours.columns).index('ff')\n",
    "index_t = list(df_all_hours.columns).index('t')\n",
    "index_td = list(df_all_hours.columns).index('td')\n",
    "index_hu= list(df_all_hours.columns).index('hu')\n",
    "index_dd_ = list(df_all_hours.columns).index('dd_')\n",
    "index_precip = list(df_all_hours.columns).index('precip')\n",
    "dict_stations = {}\n",
    "dict_heures = {}\n",
    "for station_jour in set(df_all_hours.index):\n",
    "    dict_stations[station_jour] = np.zeros([6,24]).astype('f')\n",
    "    \n",
    "\n",
    "\n",
    "for i in tqdm(df_all_hours.values):\n",
    "    dict_stations[i[index_id]][0][i[index_hour]] = i[index_ff]\n",
    "    dict_stations[i[index_id]][1][i[index_hour]] = i[index_t]\n",
    "    dict_stations[i[index_id]][2][i[index_hour]] = i[index_td]\n",
    "    dict_stations[i[index_id]][3][i[index_hour]] = i[index_hu]\n",
    "    dict_stations[i[index_id]][4][i[index_hour]] = i[index_dd_]\n",
    "    dict_stations[i[index_id]][5][i[index_hour]] = i[index_precip]\n",
    "new_def_colums_hours = pd.DataFrame([[station]+[a for i in dict_stations[station] for a in i ] for station in set(df_all_hours.index)])\n",
    "new_def_colums_hours_merged = pd.merge(new_def_colums_hours,df_y_train,left_on =0,right_on='Id')\n",
    "new_def_colums_hours_merged\n",
    "del new_def_colums_hours_merged['date']\n",
    "del new_def_colums_hours_merged['number_sta']\n",
    "del new_def_colums_hours_merged['Id']\n",
    "new_def_colums_hours_merged = new_def_colums_hours_merged.dropna()\n",
    "\n",
    "new_def_colums_hours_merged_prediction = pd.merge(new_def_colums_hours_merged,baseline_forecast,left_on =0,right_on='Id')\n",
    "new_def_colums_hours_merged_prediction\n",
    "del new_def_colums_hours_merged_prediction['number_sta']\n",
    "del new_def_colums_hours_merged_prediction['date']\n",
    "del new_def_colums_hours_merged_prediction['Id']\n",
    "new_def_colums_hours_merged_prediction\n",
    "train = new_def_colums_hours_merged_prediction\n",
    "colonnestrain  = list(new_def_colums_hours_merged.columns)\n",
    "colonnestrain.remove('Ground_truth')\n",
    "X_train = train[list(train.columns[:24])+[48,72,96,120,144]+['Prediction']] #mettre ici colonnestrain\n",
    "Y_train = train['Ground_truth']\n",
    "x_train, x_test, y_train, y_test = train_test_split(X_train, Y_train, test_size=0.25, random_state=42)\n",
    "\n",
    "\n",
    "x_train = x_train.astype('f')\n",
    "x_test = x_test.astype('f')\n",
    "y_train = y_train.astype('f')\n",
    "y_test = y_test.astype('f')\n",
    "x_train = ((x_train - x_train.mean())/x_train.std())\n",
    "x_test = ((x_test - x_test.mean())/x_test.std())"
   ]
  },
  {
   "cell_type": "code",
   "execution_count": null,
   "metadata": {
    "id": "TVE84q8btatp"
   },
   "outputs": [],
   "source": [
    "X_train.to_csv('dataTrain_v2.csv')"
   ]
  },
  {
   "cell_type": "markdown",
   "metadata": {
    "id": "KDcqUUtZtatp"
   },
   "source": [
    "# PRENDRE EN COMPTE LA DIRECTION DU VENT ET LES STATIONS  OU IL A PLUT (NON ABOUTIE)"
   ]
  },
  {
   "cell_type": "code",
   "execution_count": null,
   "metadata": {
    "collapsed": true,
    "id": "o7He3nKFtatp",
    "outputId": "1141de9f-9e57-4164-fda4-1f94bf941b8c"
   },
   "outputs": [
    {
     "data": {
      "text/html": [
       "<div>\n",
       "<style scoped>\n",
       "    .dataframe tbody tr th:only-of-type {\n",
       "        vertical-align: middle;\n",
       "    }\n",
       "\n",
       "    .dataframe tbody tr th {\n",
       "        vertical-align: top;\n",
       "    }\n",
       "\n",
       "    .dataframe thead th {\n",
       "        text-align: right;\n",
       "    }\n",
       "</style>\n",
       "<table border=\"1\" class=\"dataframe\">\n",
       "  <thead>\n",
       "    <tr style=\"text-align: right;\">\n",
       "      <th></th>\n",
       "      <th>number_sta</th>\n",
       "      <th>date</th>\n",
       "      <th>ff</th>\n",
       "      <th>t</th>\n",
       "      <th>td</th>\n",
       "      <th>hu</th>\n",
       "      <th>dd</th>\n",
       "      <th>precip</th>\n",
       "      <th>Id</th>\n",
       "      <th>Id_</th>\n",
       "      <th>hour</th>\n",
       "      <th>dd_</th>\n",
       "      <th>div_t</th>\n",
       "      <th>diff_t</th>\n",
       "      <th>lat</th>\n",
       "      <th>lon</th>\n",
       "      <th>height_sta</th>\n",
       "    </tr>\n",
       "  </thead>\n",
       "  <tbody>\n",
       "    <tr>\n",
       "      <th>0</th>\n",
       "      <td>14066001</td>\n",
       "      <td>2016-01-01 00:00:00</td>\n",
       "      <td>3.05</td>\n",
       "      <td>279.28</td>\n",
       "      <td>277.97</td>\n",
       "      <td>91.4</td>\n",
       "      <td>200.0</td>\n",
       "      <td>0.0</td>\n",
       "      <td>14066001_0_0</td>\n",
       "      <td>14066001_0</td>\n",
       "      <td>0</td>\n",
       "      <td>-8.0</td>\n",
       "      <td>-1.004713</td>\n",
       "      <td>-1.31</td>\n",
       "      <td>49.334</td>\n",
       "      <td>-0.431</td>\n",
       "      <td>2.0</td>\n",
       "    </tr>\n",
       "    <tr>\n",
       "      <th>1</th>\n",
       "      <td>14066001</td>\n",
       "      <td>2016-01-01 01:00:00</td>\n",
       "      <td>2.57</td>\n",
       "      <td>278.76</td>\n",
       "      <td>277.45</td>\n",
       "      <td>91.4</td>\n",
       "      <td>190.0</td>\n",
       "      <td>0.0</td>\n",
       "      <td>14066001_0_1</td>\n",
       "      <td>14066001_0</td>\n",
       "      <td>1</td>\n",
       "      <td>-2.0</td>\n",
       "      <td>-1.004722</td>\n",
       "      <td>-1.31</td>\n",
       "      <td>49.334</td>\n",
       "      <td>-0.431</td>\n",
       "      <td>2.0</td>\n",
       "    </tr>\n",
       "    <tr>\n",
       "      <th>2</th>\n",
       "      <td>14066001</td>\n",
       "      <td>2016-01-01 02:00:00</td>\n",
       "      <td>2.26</td>\n",
       "      <td>278.27</td>\n",
       "      <td>277.02</td>\n",
       "      <td>91.7</td>\n",
       "      <td>181.0</td>\n",
       "      <td>0.0</td>\n",
       "      <td>14066001_0_2</td>\n",
       "      <td>14066001_0</td>\n",
       "      <td>2</td>\n",
       "      <td>-11.0</td>\n",
       "      <td>-1.004512</td>\n",
       "      <td>-1.25</td>\n",
       "      <td>49.334</td>\n",
       "      <td>-0.431</td>\n",
       "      <td>2.0</td>\n",
       "    </tr>\n",
       "    <tr>\n",
       "      <th>3</th>\n",
       "      <td>14066001</td>\n",
       "      <td>2016-01-01 03:00:00</td>\n",
       "      <td>2.62</td>\n",
       "      <td>277.98</td>\n",
       "      <td>276.95</td>\n",
       "      <td>93.0</td>\n",
       "      <td>159.0</td>\n",
       "      <td>0.0</td>\n",
       "      <td>14066001_0_3</td>\n",
       "      <td>14066001_0</td>\n",
       "      <td>3</td>\n",
       "      <td>-33.0</td>\n",
       "      <td>-1.003719</td>\n",
       "      <td>-1.03</td>\n",
       "      <td>49.334</td>\n",
       "      <td>-0.431</td>\n",
       "      <td>2.0</td>\n",
       "    </tr>\n",
       "    <tr>\n",
       "      <th>4</th>\n",
       "      <td>14066001</td>\n",
       "      <td>2016-01-01 04:00:00</td>\n",
       "      <td>2.99</td>\n",
       "      <td>277.32</td>\n",
       "      <td>276.72</td>\n",
       "      <td>95.9</td>\n",
       "      <td>171.0</td>\n",
       "      <td>0.0</td>\n",
       "      <td>14066001_0_4</td>\n",
       "      <td>14066001_0</td>\n",
       "      <td>4</td>\n",
       "      <td>-21.0</td>\n",
       "      <td>-1.002168</td>\n",
       "      <td>-0.60</td>\n",
       "      <td>49.334</td>\n",
       "      <td>-0.431</td>\n",
       "      <td>2.0</td>\n",
       "    </tr>\n",
       "    <tr>\n",
       "      <th>...</th>\n",
       "      <td>...</td>\n",
       "      <td>...</td>\n",
       "      <td>...</td>\n",
       "      <td>...</td>\n",
       "      <td>...</td>\n",
       "      <td>...</td>\n",
       "      <td>...</td>\n",
       "      <td>...</td>\n",
       "      <td>...</td>\n",
       "      <td>...</td>\n",
       "      <td>...</td>\n",
       "      <td>...</td>\n",
       "      <td>...</td>\n",
       "      <td>...</td>\n",
       "      <td>...</td>\n",
       "      <td>...</td>\n",
       "      <td>...</td>\n",
       "    </tr>\n",
       "    <tr>\n",
       "      <th>2264100</th>\n",
       "      <td>95690001</td>\n",
       "      <td>2017-12-30 19:00:00</td>\n",
       "      <td>9.10</td>\n",
       "      <td>286.68</td>\n",
       "      <td>283.44</td>\n",
       "      <td>80.8</td>\n",
       "      <td>239.0</td>\n",
       "      <td>0.0</td>\n",
       "      <td>95690001_729_19</td>\n",
       "      <td>95690001_729</td>\n",
       "      <td>19</td>\n",
       "      <td>-47.0</td>\n",
       "      <td>-1.011431</td>\n",
       "      <td>-3.24</td>\n",
       "      <td>49.108</td>\n",
       "      <td>1.831</td>\n",
       "      <td>126.0</td>\n",
       "    </tr>\n",
       "    <tr>\n",
       "      <th>2264101</th>\n",
       "      <td>95690001</td>\n",
       "      <td>2017-12-30 20:00:00</td>\n",
       "      <td>8.58</td>\n",
       "      <td>286.39</td>\n",
       "      <td>283.21</td>\n",
       "      <td>81.1</td>\n",
       "      <td>231.0</td>\n",
       "      <td>0.0</td>\n",
       "      <td>95690001_729_20</td>\n",
       "      <td>95690001_729</td>\n",
       "      <td>20</td>\n",
       "      <td>-39.0</td>\n",
       "      <td>-1.011228</td>\n",
       "      <td>-3.18</td>\n",
       "      <td>49.108</td>\n",
       "      <td>1.831</td>\n",
       "      <td>126.0</td>\n",
       "    </tr>\n",
       "    <tr>\n",
       "      <th>2264102</th>\n",
       "      <td>95690001</td>\n",
       "      <td>2017-12-30 21:00:00</td>\n",
       "      <td>8.74</td>\n",
       "      <td>286.28</td>\n",
       "      <td>283.40</td>\n",
       "      <td>82.6</td>\n",
       "      <td>226.0</td>\n",
       "      <td>0.0</td>\n",
       "      <td>95690001_729_21</td>\n",
       "      <td>95690001_729</td>\n",
       "      <td>21</td>\n",
       "      <td>-34.0</td>\n",
       "      <td>-1.010162</td>\n",
       "      <td>-2.88</td>\n",
       "      <td>49.108</td>\n",
       "      <td>1.831</td>\n",
       "      <td>126.0</td>\n",
       "    </tr>\n",
       "    <tr>\n",
       "      <th>2264103</th>\n",
       "      <td>95690001</td>\n",
       "      <td>2017-12-30 22:00:00</td>\n",
       "      <td>9.04</td>\n",
       "      <td>286.21</td>\n",
       "      <td>283.29</td>\n",
       "      <td>82.4</td>\n",
       "      <td>224.0</td>\n",
       "      <td>0.0</td>\n",
       "      <td>95690001_729_22</td>\n",
       "      <td>95690001_729</td>\n",
       "      <td>22</td>\n",
       "      <td>-32.0</td>\n",
       "      <td>-1.010307</td>\n",
       "      <td>-2.92</td>\n",
       "      <td>49.108</td>\n",
       "      <td>1.831</td>\n",
       "      <td>126.0</td>\n",
       "    </tr>\n",
       "    <tr>\n",
       "      <th>2264104</th>\n",
       "      <td>95690001</td>\n",
       "      <td>2017-12-30 23:00:00</td>\n",
       "      <td>9.11</td>\n",
       "      <td>285.92</td>\n",
       "      <td>282.42</td>\n",
       "      <td>79.4</td>\n",
       "      <td>221.0</td>\n",
       "      <td>0.0</td>\n",
       "      <td>95690001_729_23</td>\n",
       "      <td>95690001_729</td>\n",
       "      <td>23</td>\n",
       "      <td>-29.0</td>\n",
       "      <td>-1.012393</td>\n",
       "      <td>-3.50</td>\n",
       "      <td>49.108</td>\n",
       "      <td>1.831</td>\n",
       "      <td>126.0</td>\n",
       "    </tr>\n",
       "  </tbody>\n",
       "</table>\n",
       "<p>2264105 rows × 17 columns</p>\n",
       "</div>"
      ],
      "text/plain": [
       "         number_sta                 date    ff       t      td    hu     dd  \\\n",
       "0          14066001  2016-01-01 00:00:00  3.05  279.28  277.97  91.4  200.0   \n",
       "1          14066001  2016-01-01 01:00:00  2.57  278.76  277.45  91.4  190.0   \n",
       "2          14066001  2016-01-01 02:00:00  2.26  278.27  277.02  91.7  181.0   \n",
       "3          14066001  2016-01-01 03:00:00  2.62  277.98  276.95  93.0  159.0   \n",
       "4          14066001  2016-01-01 04:00:00  2.99  277.32  276.72  95.9  171.0   \n",
       "...             ...                  ...   ...     ...     ...   ...    ...   \n",
       "2264100    95690001  2017-12-30 19:00:00  9.10  286.68  283.44  80.8  239.0   \n",
       "2264101    95690001  2017-12-30 20:00:00  8.58  286.39  283.21  81.1  231.0   \n",
       "2264102    95690001  2017-12-30 21:00:00  8.74  286.28  283.40  82.6  226.0   \n",
       "2264103    95690001  2017-12-30 22:00:00  9.04  286.21  283.29  82.4  224.0   \n",
       "2264104    95690001  2017-12-30 23:00:00  9.11  285.92  282.42  79.4  221.0   \n",
       "\n",
       "         precip               Id           Id_  hour   dd_     div_t  diff_t  \\\n",
       "0           0.0     14066001_0_0    14066001_0     0  -8.0 -1.004713   -1.31   \n",
       "1           0.0     14066001_0_1    14066001_0     1  -2.0 -1.004722   -1.31   \n",
       "2           0.0     14066001_0_2    14066001_0     2 -11.0 -1.004512   -1.25   \n",
       "3           0.0     14066001_0_3    14066001_0     3 -33.0 -1.003719   -1.03   \n",
       "4           0.0     14066001_0_4    14066001_0     4 -21.0 -1.002168   -0.60   \n",
       "...         ...              ...           ...   ...   ...       ...     ...   \n",
       "2264100     0.0  95690001_729_19  95690001_729    19 -47.0 -1.011431   -3.24   \n",
       "2264101     0.0  95690001_729_20  95690001_729    20 -39.0 -1.011228   -3.18   \n",
       "2264102     0.0  95690001_729_21  95690001_729    21 -34.0 -1.010162   -2.88   \n",
       "2264103     0.0  95690001_729_22  95690001_729    22 -32.0 -1.010307   -2.92   \n",
       "2264104     0.0  95690001_729_23  95690001_729    23 -29.0 -1.012393   -3.50   \n",
       "\n",
       "            lat    lon  height_sta  \n",
       "0        49.334 -0.431         2.0  \n",
       "1        49.334 -0.431         2.0  \n",
       "2        49.334 -0.431         2.0  \n",
       "3        49.334 -0.431         2.0  \n",
       "4        49.334 -0.431         2.0  \n",
       "...         ...    ...         ...  \n",
       "2264100  49.108  1.831       126.0  \n",
       "2264101  49.108  1.831       126.0  \n",
       "2264102  49.108  1.831       126.0  \n",
       "2264103  49.108  1.831       126.0  \n",
       "2264104  49.108  1.831       126.0  \n",
       "\n",
       "[2264105 rows x 17 columns]"
      ]
     },
     "execution_count": 14,
     "metadata": {},
     "output_type": "execute_result"
    }
   ],
   "source": [
    "df_st\n",
    "pd.merge(df_st,df_stations_coordinate,how='left',left_on='number_sta',right_on='number_sta')"
   ]
  },
  {
   "cell_type": "code",
   "execution_count": null,
   "metadata": {
    "id": "xJ2CxQeTtatq"
   },
   "outputs": [],
   "source": [
    "def angleFromCoordinate(lat1, long1, lat2, long2):\n",
    "    dLon = (long2 - long1)\n",
    "    y = math.sin(dLon) * math.cos(lat2)\n",
    "    x = math.cos(lat1) * math.sin(lat2) - math.sin(lat1) * math.cos(lat2) * math.cos(dLon)\n",
    "    brng = math.atan2(y, x)\n",
    "    brng = math.degrees(brng)\n",
    "    brng = (brng + 360) % 360\n",
    "    brng = 360 - brng # count degrees clockwise - remove to make counter-clockwise\n",
    "    return brng"
   ]
  },
  {
   "cell_type": "markdown",
   "metadata": {
    "id": "_TFK6_xPtatr"
   },
   "source": [
    "# CREATION COLONNES"
   ]
  },
  {
   "cell_type": "markdown",
   "metadata": {
    "id": "XDAPIiN9tatr"
   },
   "source": [
    "24 precipitations , mean 24 precip , sum 24 precip\n",
    "humidity mean 11\n",
    "ff mean 22\n",
    "dd mean 16\n",
    "mois en cours"
   ]
  },
  {
   "cell_type": "code",
   "execution_count": null,
   "metadata": {
    "id": "mOy6vMWatats"
   },
   "outputs": [],
   "source": [
    "df_station_train['number_sta'] = [ i.split('_')[0] for i in df_station_train['Id_']]"
   ]
  },
  {
   "cell_type": "code",
   "execution_count": null,
   "metadata": {
    "id": "hq6EZ9u9tatt"
   },
   "outputs": [],
   "source": [
    "df_station_train_grouped = df_station_train.groupby(\"Id_\").mean()"
   ]
  },
  {
   "cell_type": "code",
   "execution_count": null,
   "metadata": {
    "id": "b1J_I3h2tatt"
   },
   "outputs": [],
   "source": [
    "df_station_train_grouped['number_sta'] = df_station_train_grouped.index"
   ]
  },
  {
   "cell_type": "code",
   "execution_count": null,
   "metadata": {
    "id": "go0Bd-cbtatt"
   },
   "outputs": [],
   "source": [
    "df_station_train['']\n",
    "df_station_train[\"Id_\"] = [\"_\".join(i.split('_')[:2]) for i in list(df_station_train['Id'])]\n",
    "df_station_train['hour'] = [i.split(\"_\")[-1] for i in df_station_train['Id']]\n",
    "df_station_train['jour'] = [i.split(\"_\")[-1] for i in df_station_train['Id_']]\n",
    "df_station_train['dd_'] = [-(abs(192-i)) for i in df_station_train['dd']]"
   ]
  },
  {
   "cell_type": "code",
   "execution_count": null,
   "metadata": {
    "collapsed": true,
    "id": "qI6hSD5Ttatu",
    "outputId": "459a4928-7185-4a6e-96b6-0cb8fa618039"
   },
   "outputs": [
    {
     "name": "stderr",
     "output_type": "stream",
     "text": [
      "  0%|                                                                                      | 0/2304802 [00:00<?, ?it/s]\n"
     ]
    },
    {
     "ename": "KeyError",
     "evalue": "12",
     "output_type": "error",
     "traceback": [
      "\u001b[1;31m---------------------------------------------------------------------------\u001b[0m",
      "\u001b[1;31mKeyError\u001b[0m                                  Traceback (most recent call last)",
      "\u001b[1;32m<ipython-input-27-b13645d9a176>\u001b[0m in \u001b[0;36m<module>\u001b[1;34m\u001b[0m\n\u001b[0;32m     14\u001b[0m         \u001b[0mliste_values\u001b[0m\u001b[1;33m.\u001b[0m\u001b[0mappend\u001b[0m\u001b[1;33m(\u001b[0m\u001b[0mvalues\u001b[0m\u001b[1;33m[\u001b[0m\u001b[0mvalues\u001b[0m\u001b[1;33m<\u001b[0m\u001b[1;36m9999\u001b[0m\u001b[1;33m]\u001b[0m\u001b[1;33m[\u001b[0m\u001b[1;33m-\u001b[0m\u001b[0mintervalle\u001b[0m\u001b[1;33m:\u001b[0m\u001b[1;33m]\u001b[0m\u001b[1;33m.\u001b[0m\u001b[0mmean\u001b[0m\u001b[1;33m(\u001b[0m\u001b[1;33m)\u001b[0m\u001b[1;33m)\u001b[0m\u001b[1;33m\u001b[0m\u001b[1;33m\u001b[0m\u001b[0m\n\u001b[0;32m     15\u001b[0m     \u001b[1;32mreturn\u001b[0m \u001b[0mliste_values\u001b[0m\u001b[1;33m\u001b[0m\u001b[1;33m\u001b[0m\u001b[0m\n\u001b[1;32m---> 16\u001b[1;33m \u001b[0magg_mean\u001b[0m\u001b[1;33m(\u001b[0m\u001b[1;33m)\u001b[0m\u001b[1;33m\u001b[0m\u001b[1;33m\u001b[0m\u001b[0m\n\u001b[0m",
      "\u001b[1;32m<ipython-input-27-b13645d9a176>\u001b[0m in \u001b[0;36magg_mean\u001b[1;34m(df, df_grouped, numb_station, day, hour, objectif, intervalle)\u001b[0m\n\u001b[0;32m      8\u001b[0m         \u001b[0mdictionnaire_stations_jours\u001b[0m\u001b[1;33m[\u001b[0m\u001b[0mi\u001b[0m\u001b[1;33m]\u001b[0m \u001b[1;33m=\u001b[0m\u001b[0mnp\u001b[0m\u001b[1;33m.\u001b[0m\u001b[0mfull\u001b[0m\u001b[1;33m(\u001b[0m\u001b[1;33m(\u001b[0m\u001b[1;36m730\u001b[0m\u001b[1;33m,\u001b[0m \u001b[1;36m24\u001b[0m\u001b[1;33m)\u001b[0m\u001b[1;33m,\u001b[0m \u001b[1;36m10000\u001b[0m\u001b[1;33m,\u001b[0m\u001b[0mdtype\u001b[0m\u001b[1;33m=\u001b[0m\u001b[1;34m'f'\u001b[0m\u001b[1;33m)\u001b[0m\u001b[1;33m\u001b[0m\u001b[1;33m\u001b[0m\u001b[0m\n\u001b[0;32m      9\u001b[0m     \u001b[1;32mfor\u001b[0m \u001b[0mi\u001b[0m \u001b[1;32min\u001b[0m \u001b[0mtqdm\u001b[0m\u001b[1;33m(\u001b[0m\u001b[0mdf\u001b[0m\u001b[1;33m.\u001b[0m\u001b[0mvalues\u001b[0m\u001b[1;33m)\u001b[0m \u001b[1;33m:\u001b[0m\u001b[1;33m\u001b[0m\u001b[1;33m\u001b[0m\u001b[0m\n\u001b[1;32m---> 10\u001b[1;33m         \u001b[0mdictionnaire_stations_jours\u001b[0m\u001b[1;33m[\u001b[0m\u001b[0mi\u001b[0m\u001b[1;33m[\u001b[0m\u001b[1;36m1\u001b[0m\u001b[1;33m]\u001b[0m\u001b[1;33m]\u001b[0m\u001b[1;33m[\u001b[0m\u001b[0mint\u001b[0m\u001b[1;33m(\u001b[0m\u001b[0mi\u001b[0m\u001b[1;33m[\u001b[0m\u001b[0mindice_jour\u001b[0m\u001b[1;33m]\u001b[0m\u001b[1;33m)\u001b[0m\u001b[1;33m]\u001b[0m\u001b[1;33m[\u001b[0m\u001b[0mint\u001b[0m\u001b[1;33m(\u001b[0m\u001b[0mi\u001b[0m\u001b[1;33m[\u001b[0m\u001b[0mindice_heure\u001b[0m\u001b[1;33m]\u001b[0m\u001b[1;33m)\u001b[0m\u001b[1;33m]\u001b[0m \u001b[1;33m=\u001b[0m \u001b[0mi\u001b[0m\u001b[1;33m[\u001b[0m\u001b[0mindice_objectif\u001b[0m\u001b[1;33m]\u001b[0m\u001b[1;33m\u001b[0m\u001b[1;33m\u001b[0m\u001b[0m\n\u001b[0m\u001b[0;32m     11\u001b[0m     \u001b[0mliste_values\u001b[0m \u001b[1;33m=\u001b[0m \u001b[1;33m[\u001b[0m\u001b[1;33m]\u001b[0m\u001b[1;33m\u001b[0m\u001b[1;33m\u001b[0m\u001b[0m\n\u001b[0;32m     12\u001b[0m     \u001b[1;32mfor\u001b[0m \u001b[0mind\u001b[0m \u001b[1;32min\u001b[0m \u001b[0mtqdm\u001b[0m\u001b[1;33m(\u001b[0m\u001b[0mdf_grouped\u001b[0m\u001b[1;33m.\u001b[0m\u001b[0mindex\u001b[0m\u001b[1;33m)\u001b[0m \u001b[1;33m:\u001b[0m\u001b[1;33m\u001b[0m\u001b[1;33m\u001b[0m\u001b[0m\n",
      "\u001b[1;31mKeyError\u001b[0m: 12"
     ]
    }
   ],
   "source": [
    "def agg_mean(df = df_station_train,df_grouped = df_station_train_grouped ,numb_station ='number_sta' ,day = \"jour\",hour=\"hour\",objectif = 'precip',intervalle=24 ) :\n",
    "    indice_jour = list(df.columns).index(day)\n",
    "    indice_heure = list(df.columns).index(hour)\n",
    "    indice_objectif = list(df.columns).index(objectif)\n",
    "    indice_numb_station = list(df.columns).index(numb_station)\n",
    "    dictionnaire_stations_jours = {}\n",
    "    for i in set(df[numb_station]):\n",
    "        dictionnaire_stations_jours[i] =np.full((730, 24), 10000,dtype='f')\n",
    "    for i in tqdm(df.values) :\n",
    "        dictionnaire_stations_jours[i[1]][int(i[indice_jour])][int(i[indice_heure])] = i[indice_objectif]\n",
    "    liste_values = []\n",
    "    for ind in tqdm(df_grouped.index) :\n",
    "        values = dictionnaire_stations_jours[int(ind.split('_')[0])][int(ind.split('_')[1])]\n",
    "        liste_values.append(values[values<9999][-intervalle:].mean())\n",
    "    return liste_values\n",
    "agg_mean()"
   ]
  },
  {
   "cell_type": "code",
   "execution_count": null,
   "metadata": {
    "id": "p3xDuvI1tatv"
   },
   "outputs": [],
   "source": [
    "df_station_train_grouped = df_station_train.groupby(\"Id_\").mean()\n",
    "df_station_train_grouped['mean_hu'] = agg_mean(objectif = 'hu',intervalle=11)\n",
    "df_station_train_grouped['mean_ff'] = agg_mean(objectif = 'ff',intervalle=22)\n",
    "df_station_train_grouped['mean_dd'] = agg_mean(objectif = 'dd_',intervalle=16)\n",
    "df_station_train_grouped['Id'] = df_station_train_grouped.index\n",
    "df_station_train_grouped.to_csv(\"data_trainV1.csv\")"
   ]
  },
  {
   "cell_type": "code",
   "execution_count": null,
   "metadata": {
    "collapsed": true,
    "id": "WW7s0rDftatv",
    "outputId": "f335cc37-c12f-4715-f36b-c9fb4d2cca16"
   },
   "outputs": [
    {
     "name": "stderr",
     "output_type": "stream",
     "text": [
      "  5%|███▉                                                                             | 13/267 [00:00<00:04, 60.57it/s]"
     ]
    },
    {
     "name": "stdout",
     "output_type": "stream",
     "text": [
      "17520\n",
      "17520\n",
      "17520\n",
      "17520\n",
      "17520\n",
      "17520\n",
      "17520\n",
      "9559\n",
      "17520\n",
      "8821\n",
      "17520\n",
      "15904\n",
      "10353\n"
     ]
    },
    {
     "name": "stderr",
     "output_type": "stream",
     "text": [
      "  7%|██████                                                                           | 20/267 [00:00<00:04, 55.82it/s]"
     ]
    },
    {
     "name": "stdout",
     "output_type": "stream",
     "text": [
      "17520\n",
      "17520\n",
      "17520\n",
      "17520\n",
      "17520\n",
      "17520\n",
      "17520\n",
      "12609\n",
      "17459\n",
      "17520\n",
      "17520\n"
     ]
    },
    {
     "name": "stderr",
     "output_type": "stream",
     "text": [
      " 12%|██████████                                                                       | 33/267 [00:00<00:04, 55.73it/s]"
     ]
    },
    {
     "name": "stdout",
     "output_type": "stream",
     "text": [
      "17520\n",
      "17520\n",
      "5491\n",
      "17520\n",
      "17520\n",
      "17520\n",
      "14629\n",
      "17520\n",
      "17520\n",
      "17520\n",
      "17520\n"
     ]
    },
    {
     "name": "stderr",
     "output_type": "stream",
     "text": [
      " 17%|█████████████▋                                                                   | 45/267 [00:00<00:03, 56.91it/s]"
     ]
    },
    {
     "name": "stdout",
     "output_type": "stream",
     "text": [
      "17520\n",
      "10981\n",
      "17520\n",
      "17520\n",
      "17520\n",
      "17520\n",
      "17520\n",
      "17520\n",
      "17520\n",
      "17520\n",
      "17520\n"
     ]
    },
    {
     "name": "stderr",
     "output_type": "stream",
     "text": [
      " 21%|█████████████████▎                                                               | 57/267 [00:01<00:03, 53.72it/s]"
     ]
    },
    {
     "name": "stdout",
     "output_type": "stream",
     "text": [
      "17520\n",
      "17520\n",
      "17520\n",
      "17520\n",
      "2058\n",
      "17520\n",
      "17520\n",
      "17520\n",
      "17520\n",
      "17520\n",
      "17520\n"
     ]
    },
    {
     "name": "stderr",
     "output_type": "stream",
     "text": [
      " 24%|███████████████████▍                                                             | 64/267 [00:01<00:03, 57.87it/s]"
     ]
    },
    {
     "name": "stdout",
     "output_type": "stream",
     "text": [
      "17520\n",
      "17520\n",
      "17520\n",
      "17520\n",
      "17520\n",
      "10231\n",
      "17520\n",
      "17520\n",
      "17520\n",
      "17520\n",
      "8815\n",
      "17520\n",
      "17520\n"
     ]
    },
    {
     "name": "stderr",
     "output_type": "stream",
     "text": [
      " 29%|███████████████████████▎                                                         | 77/267 [00:01<00:03, 55.74it/s]"
     ]
    },
    {
     "name": "stdout",
     "output_type": "stream",
     "text": [
      "17520\n",
      "17520\n",
      "17520\n",
      "17520\n",
      "17520\n",
      "17520\n",
      "17520\n",
      "17520\n",
      "17520\n",
      "17520\n"
     ]
    },
    {
     "name": "stderr",
     "output_type": "stream",
     "text": [
      " 33%|███████████████████████████                                                      | 89/267 [00:01<00:03, 53.97it/s]"
     ]
    },
    {
     "name": "stdout",
     "output_type": "stream",
     "text": [
      "17520\n",
      "17520\n",
      "12657\n",
      "17520\n",
      "17520\n",
      "17520\n",
      "17520\n",
      "17520\n",
      "17520\n",
      "17520\n"
     ]
    },
    {
     "name": "stderr",
     "output_type": "stream",
     "text": [
      " 36%|████████████████████████████▊                                                    | 95/267 [00:01<00:03, 50.69it/s]"
     ]
    },
    {
     "name": "stdout",
     "output_type": "stream",
     "text": [
      "77\n",
      "17520\n",
      "17520\n",
      "17520\n",
      "17520\n",
      "17520\n",
      "17520\n",
      "17520\n",
      "17520\n",
      "17520\n"
     ]
    },
    {
     "name": "stderr",
     "output_type": "stream",
     "text": [
      " 40%|████████████████████████████████                                                | 107/267 [00:01<00:03, 52.47it/s]"
     ]
    },
    {
     "name": "stdout",
     "output_type": "stream",
     "text": [
      "477\n",
      "17520\n",
      "17520\n",
      "17520\n",
      "17520\n",
      "17520\n",
      "17518\n",
      "17520\n",
      "17520\n",
      "7642\n",
      "17520\n"
     ]
    },
    {
     "name": "stderr",
     "output_type": "stream",
     "text": [
      " 45%|███████████████████████████████████▋                                            | 119/267 [00:02<00:02, 49.97it/s]"
     ]
    },
    {
     "name": "stdout",
     "output_type": "stream",
     "text": [
      "17520\n",
      "17520\n",
      "17520\n",
      "8815\n",
      "17520\n",
      "17520\n",
      "17520\n",
      "17520\n",
      "17520\n",
      "17520\n"
     ]
    },
    {
     "name": "stderr",
     "output_type": "stream",
     "text": [
      " 49%|██████████████████████████████████████▉                                         | 130/267 [00:02<00:02, 49.05it/s]"
     ]
    },
    {
     "name": "stdout",
     "output_type": "stream",
     "text": [
      "17520\n",
      "17520\n",
      "17520\n",
      "17520\n",
      "17520\n",
      "17520\n",
      "17520\n",
      "17520\n",
      "17520\n",
      "17520\n"
     ]
    },
    {
     "name": "stderr",
     "output_type": "stream",
     "text": [
      " 51%|████████████████████████████████████████▍                                       | 135/267 [00:02<00:02, 48.94it/s]"
     ]
    },
    {
     "name": "stdout",
     "output_type": "stream",
     "text": [
      "17520\n",
      "17520\n",
      "17520\n",
      "17520\n",
      "17520\n",
      "17520\n",
      "17520\n"
     ]
    },
    {
     "name": "stderr",
     "output_type": "stream",
     "text": [
      " 52%|█████████████████████████████████████████▉                                      | 140/267 [00:02<00:03, 38.98it/s]"
     ]
    },
    {
     "name": "stdout",
     "output_type": "stream",
     "text": [
      "16362\n",
      "17520\n",
      "17520\n",
      "17520\n",
      "17520\n",
      "12546\n"
     ]
    },
    {
     "name": "stderr",
     "output_type": "stream",
     "text": [
      " 56%|████████████████████████████████████████████▋                                   | 149/267 [00:03<00:03, 33.67it/s]"
     ]
    },
    {
     "name": "stdout",
     "output_type": "stream",
     "text": [
      "17520\n",
      "10520\n",
      "10001\n",
      "17520\n",
      "17520\n",
      "17520\n",
      "17520\n",
      "17520\n",
      "5839\n"
     ]
    },
    {
     "name": "stderr",
     "output_type": "stream",
     "text": [
      " 59%|███████████████████████████████████████████████▎                                | 158/267 [00:03<00:03, 33.05it/s]"
     ]
    },
    {
     "name": "stdout",
     "output_type": "stream",
     "text": [
      "17520\n",
      "17520\n",
      "17520\n",
      "17520\n",
      "17520\n",
      "17520\n"
     ]
    },
    {
     "name": "stderr",
     "output_type": "stream",
     "text": [
      " 61%|████████████████████████████████████████████████▌                               | 162/267 [00:03<00:03, 31.13it/s]"
     ]
    },
    {
     "name": "stdout",
     "output_type": "stream",
     "text": [
      "17520\n",
      "17520\n",
      "17520\n",
      "17520\n",
      "17520\n",
      "17520\n",
      "17520\n"
     ]
    },
    {
     "name": "stderr",
     "output_type": "stream",
     "text": [
      " 64%|███████████████████████████████████████████████████▌                            | 172/267 [00:03<00:02, 38.23it/s]"
     ]
    },
    {
     "name": "stdout",
     "output_type": "stream",
     "text": [
      "17520\n",
      "17520\n",
      "17520\n",
      "17520\n",
      "17520\n",
      "13112\n",
      "17520\n",
      "17520\n",
      "17520\n",
      "17520\n",
      "17520\n"
     ]
    },
    {
     "name": "stderr",
     "output_type": "stream",
     "text": [
      " 69%|██████████████████████████████████████████████████████▊                         | 183/267 [00:03<00:01, 42.87it/s]"
     ]
    },
    {
     "name": "stdout",
     "output_type": "stream",
     "text": [
      "17520\n",
      "17520\n",
      "17520\n",
      "17520\n",
      "17520\n",
      "17520\n",
      "14656\n",
      "17520\n",
      "17520\n",
      "17520\n"
     ]
    },
    {
     "name": "stderr",
     "output_type": "stream",
     "text": [
      " 73%|██████████████████████████████████████████████████████████▏                     | 194/267 [00:04<00:01, 46.13it/s]"
     ]
    },
    {
     "name": "stdout",
     "output_type": "stream",
     "text": [
      "17520\n",
      "17520\n",
      "17520\n",
      "17520\n",
      "17520\n",
      "17520\n",
      "17520\n",
      "7739\n",
      "17520\n",
      "17520\n"
     ]
    },
    {
     "name": "stderr",
     "output_type": "stream",
     "text": [
      " 77%|█████████████████████████████████████████████████████████████▍                  | 205/267 [00:04<00:01, 42.14it/s]"
     ]
    },
    {
     "name": "stdout",
     "output_type": "stream",
     "text": [
      "17520\n",
      "17520\n",
      "17520\n",
      "17520\n",
      "17520\n",
      "17520\n",
      "17520\n",
      "17520\n"
     ]
    },
    {
     "name": "stderr",
     "output_type": "stream",
     "text": [
      " 79%|███████████████████████████████████████████████████████████████▏                | 211/267 [00:04<00:01, 45.53it/s]"
     ]
    },
    {
     "name": "stdout",
     "output_type": "stream",
     "text": [
      "17520\n",
      "17391\n",
      "17520\n",
      "17520\n",
      "17520\n",
      "17520\n",
      "17520\n",
      "17520\n",
      "17520\n",
      "17520\n"
     ]
    },
    {
     "name": "stderr",
     "output_type": "stream",
     "text": [
      " 83%|██████████████████████████████████████████████████████████████████▏             | 221/267 [00:04<00:01, 43.46it/s]"
     ]
    },
    {
     "name": "stdout",
     "output_type": "stream",
     "text": [
      "17520\n",
      "17520\n",
      "17520\n",
      "17520\n",
      "17520\n",
      "17520\n",
      "17520\n",
      "17520\n",
      "17520\n"
     ]
    },
    {
     "name": "stderr",
     "output_type": "stream",
     "text": [
      " 87%|█████████████████████████████████████████████████████████████████████▏          | 231/267 [00:04<00:00, 46.42it/s]"
     ]
    },
    {
     "name": "stdout",
     "output_type": "stream",
     "text": [
      "17520\n",
      "79\n",
      "286\n",
      "17520\n",
      "17520\n",
      "17520\n",
      "17520\n",
      "17520\n",
      "17520\n",
      "17520\n",
      "17520\n"
     ]
    },
    {
     "name": "stderr",
     "output_type": "stream",
     "text": [
      " 90%|████████████████████████████████████████████████████████████████████████▏       | 241/267 [00:05<00:00, 46.66it/s]"
     ]
    },
    {
     "name": "stdout",
     "output_type": "stream",
     "text": [
      "17520\n",
      "17520\n",
      "17520\n",
      "17520\n",
      "9851\n",
      "17520\n",
      "17520\n",
      "17520\n",
      "17520\n",
      "17520\n",
      "3114\n"
     ]
    },
    {
     "name": "stderr",
     "output_type": "stream",
     "text": [
      " 93%|██████████████████████████████████████████████████████████████████████████      | 247/267 [00:05<00:00, 46.45it/s]"
     ]
    },
    {
     "name": "stdout",
     "output_type": "stream",
     "text": [
      "17520\n",
      "17520\n",
      "17520\n",
      "17520\n",
      "17520\n",
      "17520\n"
     ]
    },
    {
     "name": "stderr",
     "output_type": "stream",
     "text": [
      " 98%|██████████████████████████████████████████████████████████████████████████████▌ | 262/267 [00:05<00:00, 41.36it/s]"
     ]
    },
    {
     "name": "stdout",
     "output_type": "stream",
     "text": [
      "17520\n",
      "9610\n",
      "17520\n",
      "17520\n",
      "17520\n",
      "17520\n",
      "17520\n",
      "17520\n",
      "17520\n",
      "17520\n"
     ]
    },
    {
     "name": "stderr",
     "output_type": "stream",
     "text": [
      "100%|████████████████████████████████████████████████████████████████████████████████| 267/267 [00:05<00:00, 46.06it/s]"
     ]
    },
    {
     "name": "stdout",
     "output_type": "stream",
     "text": [
      "4592\n",
      "17520\n",
      "17520\n",
      "17520\n",
      "17520\n"
     ]
    },
    {
     "name": "stderr",
     "output_type": "stream",
     "text": [
      "\n"
     ]
    }
   ],
   "source": [
    "all_stations = set(df_station_train['number_sta'])\n",
    "for i in tqdm(all_stations):\n",
    "    d = df_station_train[df_station_train['number_sta']==i].shape[0]\n",
    "    print(d)\n",
    " "
   ]
  },
  {
   "cell_type": "code",
   "execution_count": null,
   "metadata": {
    "execution": {
     "iopub.execute_input": "2021-11-23T13:17:51.904194Z",
     "iopub.status.busy": "2021-11-23T13:17:51.903774Z",
     "iopub.status.idle": "2021-11-23T13:17:52.400652Z",
     "shell.execute_reply": "2021-11-23T13:17:52.399771Z",
     "shell.execute_reply.started": "2021-11-23T13:17:51.904161Z"
    },
    "id": "dkvLmMkJtatw"
   },
   "outputs": [],
   "source": [
    "\n",
    "dico = {}\n",
    "for i in set(df_y_train['number_sta']):\n",
    "    a = df_y_train[df_y_train['number_sta'] ==i].shape\n",
    "    if a[0] == 730 :\n",
    "        dico[i] = list(df_y_train[df_y_train['number_sta']==i]['Ground_truth'])  \n",
    "        "
   ]
  },
  {
   "cell_type": "code",
   "execution_count": null,
   "metadata": {
    "execution": {
     "iopub.execute_input": "2021-11-23T13:18:01.298047Z",
     "iopub.status.busy": "2021-11-23T13:18:01.297743Z",
     "iopub.status.idle": "2021-11-23T13:18:01.352845Z",
     "shell.execute_reply": "2021-11-23T13:18:01.352099Z",
     "shell.execute_reply.started": "2021-11-23T13:18:01.298001Z"
    },
    "id": "stEcWQwTtatw"
   },
   "outputs": [],
   "source": [
    "\n",
    "\n",
    "cles_station = list(dico.keys())\n",
    "df_precipitation_kmeans = pd.DataFrame.from_dict(dico)\n",
    "\n"
   ]
  },
  {
   "cell_type": "code",
   "execution_count": null,
   "metadata": {
    "execution": {
     "iopub.execute_input": "2021-11-18T13:52:47.092775Z",
     "iopub.status.busy": "2021-11-18T13:52:47.092361Z",
     "iopub.status.idle": "2021-11-18T13:52:47.187289Z",
     "shell.execute_reply": "2021-11-18T13:52:47.186351Z",
     "shell.execute_reply.started": "2021-11-18T13:52:47.092744Z"
    },
    "id": "WhOtAGwFtatx"
   },
   "outputs": [],
   "source": [
    "df_station_train[['ff','t','td','hu','dd','precip']]"
   ]
  },
  {
   "cell_type": "code",
   "execution_count": null,
   "metadata": {
    "execution": {
     "iopub.execute_input": "2021-11-18T13:50:15.12216Z",
     "iopub.status.busy": "2021-11-18T13:50:15.121874Z",
     "iopub.status.idle": "2021-11-18T13:50:49.620833Z",
     "shell.execute_reply": "2021-11-18T13:50:49.619989Z",
     "shell.execute_reply.started": "2021-11-18T13:50:15.12213Z"
    },
    "id": "ny3wC9eJtatx"
   },
   "outputs": [],
   "source": [
    "from sklearn.cluster import MiniBatchKMeans\n",
    "import matplotlib.pyplot as plt \n",
    "def find_optimal_clusters(data, max_k):\n",
    "    iters = range(1, max_k+1)\n",
    "    \n",
    "    sse = []\n",
    "    for k in iters:\n",
    "        sse.append(MiniBatchKMeans(n_clusters=k, init_size=1024, batch_size=2048).fit(data).inertia_)\n",
    "        #print('Fit {} clusters'.format(k))\n",
    "        \n",
    "    f, ax = plt.subplots(1, 1)\n",
    "    ax.plot(iters, sse, marker='o')\n",
    "    ax.set_xlabel('Cluster Centers')\n",
    "    ax.set_xticks(iters)\n",
    "    ax.set_xticklabels(iters)\n",
    "    ax.set_ylabel('SSE')\n",
    "    ax.set_title('SSE by Cluster Center Plot')\n",
    "    \n",
    "find_optimal_clusters(df_precipitation_kmeans.T.fillna(0), 20)"
   ]
  },
  {
   "cell_type": "code",
   "execution_count": null,
   "metadata": {
    "execution": {
     "iopub.execute_input": "2021-11-18T10:52:26.509196Z",
     "iopub.status.busy": "2021-11-18T10:52:26.508889Z",
     "iopub.status.idle": "2021-11-18T10:52:26.530336Z",
     "shell.execute_reply": "2021-11-18T10:52:26.529538Z",
     "shell.execute_reply.started": "2021-11-18T10:52:26.509162Z"
    },
    "id": "MbgLmf6Ktatx"
   },
   "outputs": [],
   "source": [
    "df_precipitation_kmeans.T.dropna()"
   ]
  },
  {
   "cell_type": "code",
   "execution_count": null,
   "metadata": {
    "execution": {
     "iopub.execute_input": "2021-11-18T10:53:10.592349Z",
     "iopub.status.busy": "2021-11-18T10:53:10.59176Z",
     "iopub.status.idle": "2021-11-18T10:53:10.635303Z",
     "shell.execute_reply": "2021-11-18T10:53:10.634336Z",
     "shell.execute_reply.started": "2021-11-18T10:53:10.5923Z"
    },
    "id": "DKDmhJ-Mtaty"
   },
   "outputs": [],
   "source": [
    "df_precipitation_kmeans.T.fillna(0.2)"
   ]
  },
  {
   "cell_type": "code",
   "execution_count": null,
   "metadata": {
    "execution": {
     "iopub.execute_input": "2021-11-18T10:10:47.243879Z",
     "iopub.status.busy": "2021-11-18T10:10:47.243413Z",
     "iopub.status.idle": "2021-11-18T10:10:47.259229Z",
     "shell.execute_reply": "2021-11-18T10:10:47.258237Z",
     "shell.execute_reply.started": "2021-11-18T10:10:47.24384Z"
    },
    "id": "KfdZ9SHltaty"
   },
   "outputs": [],
   "source": [
    "#K means en fonction des différentes précipitations\n",
    "from sklearn.cluster import KMeans\n",
    "import numpy as np\n",
    "X = np.array([[1, 2], [1, 4], [1, 0],\n",
    "              [10, 2], [10, 4], [10, 0]])\n",
    "kmeans = KMeans(n_clusters=2, random_state=0).fit(X)\n",
    "kmeans.labels_\n"
   ]
  },
  {
   "cell_type": "code",
   "execution_count": null,
   "metadata": {
    "execution": {
     "iopub.execute_input": "2021-11-18T13:53:32.588152Z",
     "iopub.status.busy": "2021-11-18T13:53:32.587728Z",
     "iopub.status.idle": "2021-11-18T13:53:35.015666Z",
     "shell.execute_reply": "2021-11-18T13:53:35.014936Z",
     "shell.execute_reply.started": "2021-11-18T13:53:32.5881Z"
    },
    "id": "Rbe947jHtatz"
   },
   "outputs": [],
   "source": [
    "df_station_train[\"Id_\"] = [\"_\".join(i.split('_')[:2]) for i in list(df_station_train['Id'])]"
   ]
  },
  {
   "cell_type": "code",
   "execution_count": null,
   "metadata": {
    "execution": {
     "iopub.execute_input": "2021-11-18T14:03:10.503782Z",
     "iopub.status.busy": "2021-11-18T14:03:10.503439Z",
     "iopub.status.idle": "2021-11-18T14:03:11.840533Z",
     "shell.execute_reply": "2021-11-18T14:03:11.839939Z",
     "shell.execute_reply.started": "2021-11-18T14:03:10.503739Z"
    },
    "id": "20Xr7iOBtatz"
   },
   "outputs": [],
   "source": [
    "from sklearn.datasets import make_regression\n",
    "from sklearn.ensemble import GradientBoostingRegressor\n",
    "from sklearn.model_selection import train_test_split\n",
    "X_train, X_test, y_train, y_test = train_test_split(X, y, test_size=0.2, random_state=42)\n",
    "reg = GradientBoostingRegressor(random_state=0)\n",
    "df_station_train.groupby(\"Id_\").mean()"
   ]
  },
  {
   "cell_type": "markdown",
   "metadata": {
    "id": "go56pjMrtatz"
   },
   "source": [
    "# MACHINE LEARNING"
   ]
  },
  {
   "cell_type": "code",
   "execution_count": null,
   "metadata": {
    "id": "AQBM_pQGtat0"
   },
   "outputs": [],
   "source": [
    "train = pd.read_csv(\"data_trainV1.csv\")"
   ]
  },
  {
   "cell_type": "code",
   "execution_count": null,
   "metadata": {
    "id": "l3re4xNdtat0"
   },
   "outputs": [],
   "source": [
    "train_merged = pd.merge(train,df_y_train,how=\"left\",left_on=\"Id_\", right_on=\"Id\").dropna()\n",
    "train_merged2 = pd.merge(train_merged,baseline_forecast,how=\"left\",left_on=\"Id_\", right_on=\"Id\").dropna()"
   ]
  },
  {
   "cell_type": "code",
   "execution_count": null,
   "metadata": {
    "id": "YluJFHq6tat5"
   },
   "outputs": [],
   "source": [
    "X_train = train_merged[['ff','t','td','hu','dd','precip','mean_hu','mean_ff','mean_dd']]\n",
    "X_train =(X_train - X_train.mean())/X_train.std()\n",
    "Y_train = train_merged['Ground_truth']"
   ]
  },
  {
   "cell_type": "code",
   "execution_count": null,
   "metadata": {
    "id": "KchDX8E5tat5"
   },
   "outputs": [],
   "source": [
    "x_train, x_test, y_train, y_test = train_test_split(X_train, Y_train, test_size=0.25, random_state=42)"
   ]
  },
  {
   "cell_type": "code",
   "execution_count": null,
   "metadata": {
    "id": "LOO_VWcBtat6"
   },
   "outputs": [],
   "source": [
    "def score(predictions,labels):\n",
    "    return np.mean([np.abs((labels[i]-predictions[i])/(labels[i]+1)) for i in range(len(predictions))])*100"
   ]
  },
  {
   "cell_type": "code",
   "execution_count": null,
   "metadata": {
    "id": "UKYqnSi-tat6",
    "outputId": "fb7b8a9f-031f-4028-ae40-1e18483e28fd"
   },
   "outputs": [
    {
     "data": {
      "text/plain": [
       "53.199251296420854"
      ]
     },
     "execution_count": 43,
     "metadata": {},
     "output_type": "execute_result"
    }
   ],
   "source": [
    "#XGBREGRESSOR\n",
    "xgb_model = xgb.XGBRegressor( max_depth =20 )\n",
    "xgb_model.fit(np.array(x_train).astype('f'), y_train)\n",
    "y_pred = xgb_model.predict(x_test)\n",
    "score(np.array(y_test),y_pred)\n"
   ]
  },
  {
   "cell_type": "markdown",
   "metadata": {
    "id": "RmKfd_Xetat6"
   },
   "source": [
    "# Prediction de pluie ou non"
   ]
  },
  {
   "cell_type": "code",
   "execution_count": null,
   "metadata": {
    "id": "rHnBqhoOtat7"
   },
   "outputs": [],
   "source": [
    "train_merged2['pluie'] = (train_merged2['Ground_truth'] >0.4).astype(int)"
   ]
  },
  {
   "cell_type": "code",
   "execution_count": null,
   "metadata": {
    "id": "c6HAAVIAtat7"
   },
   "outputs": [],
   "source": [
    "train_merged2.to_csv('train_merged2.csv')"
   ]
  },
  {
   "cell_type": "code",
   "execution_count": null,
   "metadata": {
    "id": "rj6yOXGstat7"
   },
   "outputs": [],
   "source": [
    "X_train = train_merged2[['ff','t','td','hu','dd','precip','mean_hu','mean_ff','mean_dd','Prediction']]\n",
    "#X_train =(X_train - X_train.mean())/X_train.std()\n",
    "Y_train = train_merged2['pluie']"
   ]
  },
  {
   "cell_type": "code",
   "execution_count": null,
   "metadata": {
    "id": "dNg6kFTztat7"
   },
   "outputs": [],
   "source": [
    "x_train, x_test, y_train, y_test = train_test_split(X_train, Y_train, test_size=0.25, random_state=42)"
   ]
  },
  {
   "cell_type": "code",
   "execution_count": null,
   "metadata": {
    "id": "NkbaoKvctat8",
    "outputId": "0a47a2c2-bfd3-40ec-cf58-b0ff89b36982"
   },
   "outputs": [
    {
     "name": "stdout",
     "output_type": "stream",
     "text": [
      "[19:30:07] WARNING: C:/Users/Administrator/workspace/xgboost-win64_release_1.5.1/src/learner.cc:1115: Starting in XGBoost 1.3.0, the default evaluation metric used with the objective 'binary:logistic' was changed from 'error' to 'logloss'. Explicitly set eval_metric if you'd like to restore the old behavior.\n"
     ]
    },
    {
     "data": {
      "text/plain": [
       "0.8724592707525214"
      ]
     },
     "execution_count": 34,
     "metadata": {},
     "output_type": "execute_result"
    }
   ],
   "source": [
    "xg_cl_default = xgb.XGBClassifier(max_depth=10)\n",
    "xg_cl_default.fit(x_train,y_train)\n",
    "pred2 = xg_cl_default.predict(x_test)\n",
    "conf = confusion_matrix(y_test, pred2)\n",
    "(conf[0,0]+conf[1,1])/np.sum(conf)"
   ]
  },
  {
   "cell_type": "code",
   "execution_count": null,
   "metadata": {
    "id": "btiNft_6tat8",
    "outputId": "df8e804a-f2ef-4441-b8f9-fd9eb847ffbf"
   },
   "outputs": [
    {
     "data": {
      "text/plain": [
       "array([[22186,  2362],\n",
       "       [ 2570, 11552]], dtype=int64)"
      ]
     },
     "execution_count": 35,
     "metadata": {},
     "output_type": "execute_result"
    }
   ],
   "source": [
    "conf"
   ]
  },
  {
   "cell_type": "code",
   "execution_count": null,
   "metadata": {
    "id": "z_mgzfRetat8",
    "outputId": "439106fe-e8d4-4eac-c350-a1259fcd78a4"
   },
   "outputs": [
    {
     "data": {
      "text/plain": [
       "0.8769071631755884"
      ]
     },
     "execution_count": 100,
     "metadata": {},
     "output_type": "execute_result"
    }
   ],
   "source": [
    "from sklearn.ensemble import RandomForestClassifier\n",
    "from sklearn.datasets import make_classification\n",
    "\n",
    "clf = RandomForestClassifier()\n",
    "clf.fit(x_train, y_train)\n",
    "pred1 = clf.predict(x_test)\n",
    "conf = confusion_matrix(y_test, pred1)\n",
    "(conf[0,0]+conf[1,1])/np.sum(conf)"
   ]
  },
  {
   "cell_type": "code",
   "execution_count": null,
   "metadata": {
    "id": "4ocQ5mCJtat9",
    "outputId": "4d824cd8-d01c-4a3c-f379-080e820afa24"
   },
   "outputs": [
    {
     "name": "stderr",
     "output_type": "stream",
     "text": [
      "C:\\Users\\yseba\\Anaconda3\\lib\\site-packages\\sklearn\\linear_model\\_logistic.py:763: ConvergenceWarning: lbfgs failed to converge (status=1):\n",
      "STOP: TOTAL NO. of ITERATIONS REACHED LIMIT.\n",
      "\n",
      "Increase the number of iterations (max_iter) or scale the data as shown in:\n",
      "    https://scikit-learn.org/stable/modules/preprocessing.html\n",
      "Please also refer to the documentation for alternative solver options:\n",
      "    https://scikit-learn.org/stable/modules/linear_model.html#logistic-regression\n",
      "  n_iter_i = _check_optimize_result(\n"
     ]
    },
    {
     "data": {
      "text/plain": [
       "0.8444013447116628"
      ]
     },
     "execution_count": 36,
     "metadata": {},
     "output_type": "execute_result"
    }
   ],
   "source": [
    "from sklearn.linear_model import LogisticRegression\n",
    "clf = LogisticRegression(random_state=0).fit(x_train, y_train)\n",
    "pred3 = clf.predict(x_test)\n",
    "conf = confusion_matrix(y_test, pred3)\n",
    "(conf[0,0]+conf[1,1])/np.sum(conf)"
   ]
  },
  {
   "cell_type": "code",
   "execution_count": null,
   "metadata": {
    "id": "6k91enuPtat9",
    "outputId": "846a68d3-f3ee-4ec5-f2f8-636af81975ac"
   },
   "outputs": [
    {
     "data": {
      "text/plain": [
       "array([[23230,  1318],\n",
       "       [ 4699,  9423]], dtype=int64)"
      ]
     },
     "execution_count": 37,
     "metadata": {},
     "output_type": "execute_result"
    }
   ],
   "source": [
    "conf"
   ]
  },
  {
   "cell_type": "markdown",
   "metadata": {
    "id": "Sjpt8cPntat9"
   },
   "source": [
    "# DEEP LEARNING"
   ]
  },
  {
   "cell_type": "code",
   "execution_count": null,
   "metadata": {
    "id": "L9MNzxnftat9"
   },
   "outputs": [],
   "source": [
    "from tensorflow.keras.datasets import mnist\n",
    "from tensorflow.keras.models import Sequential\n",
    "from tensorflow.keras.layers import Dense, Dropout, Activation,Flatten,BatchNormalization\n",
    "from tensorflow.keras.layers import Conv2D, MaxPooling2D, InputLayer \n",
    "from tensorflow.keras.optimizers import SGD\n",
    "from tensorflow.keras.utils import to_categorical\n",
    "import tensorflow as tf\n",
    "import matplotlib\n",
    "import matplotlib.pyplot as plt\n",
    "import scipy\n",
    "import scipy.ndimage\n",
    "import numpy as np\n",
    "from tensorflow.keras import backend as K"
   ]
  },
  {
   "cell_type": "code",
   "execution_count": null,
   "metadata": {
    "id": "z4guOwEZtat-"
   },
   "outputs": [],
   "source": [
    "def custom_loss_function(y_true, y_pred):\n",
    "    return tf.math.reduce_mean(tf.abs(y_true-y_pred)/(y_true+1))*100"
   ]
  },
  {
   "cell_type": "markdown",
   "metadata": {
    "id": "YRhxACLDtat-"
   },
   "source": [
    "# PREDICTION DE PLUIE"
   ]
  },
  {
   "cell_type": "code",
   "execution_count": null,
   "metadata": {
    "collapsed": true,
    "id": "58CJHIlDtat-",
    "outputId": "8e2c9fe9-6abf-4845-9ad9-9a0dc4639d1d"
   },
   "outputs": [
    {
     "name": "stdout",
     "output_type": "stream",
     "text": [
      "Epoch 1/5\n",
      "454/454 [==============================] - 16s 34ms/step - loss: 0.3454 - accuracy: 0.8580 - val_loss: 0.3370 - val_accuracy: 0.8614\n",
      "Epoch 2/5\n",
      "454/454 [==============================] - 15s 34ms/step - loss: 0.3251 - accuracy: 0.8661 - val_loss: 0.3354 - val_accuracy: 0.8626\n",
      "Epoch 3/5\n",
      "454/454 [==============================] - 16s 35ms/step - loss: 0.3205 - accuracy: 0.8660 - val_loss: 0.3213 - val_accuracy: 0.8628\n",
      "Epoch 4/5\n",
      "454/454 [==============================] - 15s 33ms/step - loss: 0.3175 - accuracy: 0.8673 - val_loss: 0.3194 - val_accuracy: 0.8634\n",
      "Epoch 5/5\n",
      "454/454 [==============================] - 15s 33ms/step - loss: 0.3156 - accuracy: 0.8677 - val_loss: 0.3225 - val_accuracy: 0.8638\n"
     ]
    },
    {
     "data": {
      "text/plain": [
       "<keras.callbacks.History at 0x229476d53a0>"
      ]
     },
     "execution_count": 101,
     "metadata": {},
     "output_type": "execute_result"
    }
   ],
   "source": [
    "\n",
    "\n",
    "def getSimplePerceptron(nb_classes=2):\n",
    "    model = Sequential()\n",
    "    model.add(InputLayer(input_shape=(10)))\n",
    "    model.add(Dense(512, activation='relu'))\n",
    "    model.add(Dense(512, activation='relu'))\n",
    "    model.add(Dense(512, activation='relu'))\n",
    "    model.add(Dense(512, activation='relu'))\n",
    "    model.add(Dense(512, activation='relu'))\n",
    "    model.add(Dense(512, activation='relu'))\n",
    "    model.add(Dense(512, activation='relu'))\n",
    "    model.add(Dense(1, activation='sigmoid'))\n",
    "    opt = SGD(learning_rate=0.1, momentum=0.9)\n",
    "    model.compile(loss='binary_crossentropy', optimizer=\"adam\", metrics=['accuracy'])\n",
    "    return model\n",
    "\n",
    "model=getSimplePerceptron()\n",
    "model=getSimplePerceptron()\n",
    "batch_size = 256\n",
    "epochs=5\n",
    "model.fit(x_train, y_train, batch_size=batch_size, epochs=epochs,  verbose=1, validation_data=(x_test, y_test))"
   ]
  },
  {
   "cell_type": "code",
   "execution_count": null,
   "metadata": {
    "id": "FyM7HejUtat_",
    "outputId": "64fd1734-9d13-4a69-a8c9-df39cf623c80"
   },
   "outputs": [
    {
     "data": {
      "text/plain": [
       "0.8544091026635635"
      ]
     },
     "execution_count": 75,
     "metadata": {},
     "output_type": "execute_result"
    }
   ],
   "source": [
    "conf = confusion_matrix(y_test, pred_nn)\n",
    "(conf[0,0]+conf[1,1])/np.sum(conf)"
   ]
  },
  {
   "cell_type": "code",
   "execution_count": null,
   "metadata": {
    "id": "Bqvic3Ljtat_",
    "outputId": "dea8e3fb-73a2-46b4-c75b-e9c13138e672"
   },
   "outputs": [
    {
     "data": {
      "text/plain": [
       "array([[23230,  1318],\n",
       "       [ 4699,  9423]], dtype=int64)"
      ]
     },
     "execution_count": 38,
     "metadata": {},
     "output_type": "execute_result"
    }
   ],
   "source": [
    "conf"
   ]
  },
  {
   "cell_type": "code",
   "execution_count": null,
   "metadata": {
    "id": "u7zFnDD5tat_"
   },
   "outputs": [],
   "source": [
    "pred_nn = model.predict(x_test)\n",
    "pred_nn = (pred_nn>0.5).astype(int)"
   ]
  },
  {
   "cell_type": "code",
   "execution_count": null,
   "metadata": {
    "id": "dAet7z9ItauA"
   },
   "outputs": [],
   "source": [
    "pred_total = (pred_nn.T)[0] + pred2 + pred1\n",
    "pred_total = (pred_total>1).astype(int)"
   ]
  },
  {
   "cell_type": "code",
   "execution_count": null,
   "metadata": {
    "id": "luX-ZftHtauA",
    "outputId": "e4cf077c-7b07-451a-f2d9-f311c5e0b617"
   },
   "outputs": [
    {
     "data": {
      "text/plain": [
       "0.8752779932764417"
      ]
     },
     "execution_count": 108,
     "metadata": {},
     "output_type": "execute_result"
    }
   ],
   "source": [
    "conf = confusion_matrix(y_test, pred_total)\n",
    "(conf[0,0]+conf[1,1])/np.sum(conf)"
   ]
  },
  {
   "cell_type": "markdown",
   "metadata": {
    "id": "0DAoXsWdtauA"
   },
   "source": [
    "# DEEP LEARNING REGRESSION CUMUL DE PLUIE"
   ]
  },
  {
   "cell_type": "code",
   "execution_count": null,
   "metadata": {
    "id": "EdpYi6mstauA",
    "outputId": "e5264a14-6f22-453d-af06-9b1b608a3e61"
   },
   "outputs": [
    {
     "name": "stdout",
     "output_type": "stream",
     "text": [
      "Epoch 1/5\n",
      "454/454 [==============================] - 1s 890us/step - loss: 33.9632 - custom_loss_function: 33.9567\n",
      "Epoch 2/5\n",
      "454/454 [==============================] - 0s 955us/step - loss: 29.9529 - custom_loss_function: 29.9623\n",
      "Epoch 3/5\n",
      "454/454 [==============================] - 0s 881us/step - loss: 28.0217 - custom_loss_function: 28.0074\n",
      "Epoch 4/5\n",
      "454/454 [==============================] - 0s 903us/step - loss: 27.5585 - custom_loss_function: 27.5614\n",
      "Epoch 5/5\n",
      "454/454 [==============================] - 0s 918us/step - loss: 27.4496 - custom_loss_function: 27.4586\n"
     ]
    },
    {
     "data": {
      "text/plain": [
       "27.315661311149597"
      ]
     },
     "execution_count": 262,
     "metadata": {},
     "output_type": "execute_result"
    }
   ],
   "source": [
    "def getSimplePerceptron(nb_classes=2): \n",
    "    model = Sequential()\n",
    "    model.add(InputLayer(input_shape=(24)))\n",
    "    model.add(Dense(16))\n",
    "    model.add(Dense(16, activation='sigmoid'))\n",
    "    model.add(Dense(16, activation='sigmoid'))\n",
    "    model.add(Dense(1, activation='sigmoid'))\n",
    "    model.compile(loss=custom_loss_function, optimizer=\"adam\", metrics=custom_loss_function)\n",
    "    return model\n",
    "\n",
    "model=getSimplePerceptron()\n",
    "model=getSimplePerceptron()\n",
    "batch_size = 256\n",
    "epochs=5\n",
    "model.fit(np.array(x_train).astype('f'), np.array(y_train).astype('f'), batch_size=batch_size, epochs=epochs,  verbose=1)\n",
    "pred = model.predict(np.array(x_test).astype('f'))\n",
    "score(pred,np.array(y_test))"
   ]
  },
  {
   "cell_type": "code",
   "execution_count": null,
   "metadata": {
    "id": "FTx2HJlWtauB",
    "outputId": "7e6ec192-c64f-43b9-de09-d15ad6a349f9"
   },
   "outputs": [
    {
     "name": "stdout",
     "output_type": "stream",
     "text": [
      "Epoch 1/20\n",
      "454/454 [==============================] - 1s 839us/step - loss: 34.0577 - custom_loss_function: 34.0698\n",
      "Epoch 2/20\n",
      "454/454 [==============================] - 0s 861us/step - loss: 30.6775 - custom_loss_function: 30.6680\n",
      "Epoch 3/20\n",
      "454/454 [==============================] - 0s 870us/step - loss: 29.3562 - custom_loss_function: 29.3405\n",
      "Epoch 4/20\n",
      "454/454 [==============================] - 0s 863us/step - loss: 28.0956 - custom_loss_function: 28.0709\n",
      "Epoch 5/20\n",
      "454/454 [==============================] - 0s 848us/step - loss: 27.7350 - custom_loss_function: 27.7414\n",
      "Epoch 6/20\n",
      "454/454 [==============================] - 0s 863us/step - loss: 27.5874 - custom_loss_function: 27.5987\n",
      "Epoch 7/20\n",
      "454/454 [==============================] - 0s 933us/step - loss: 27.5096 - custom_loss_function: 27.4900\n",
      "Epoch 8/20\n",
      "454/454 [==============================] - 0s 901us/step - loss: 27.4562 - custom_loss_function: 27.4584\n",
      "Epoch 9/20\n",
      "454/454 [==============================] - 0s 927us/step - loss: 27.4043 - custom_loss_function: 27.4211\n",
      "Epoch 10/20\n",
      "454/454 [==============================] - 0s 881us/step - loss: 27.3735 - custom_loss_function: 27.3772\n",
      "Epoch 11/20\n",
      "454/454 [==============================] - 0s 928us/step - loss: 27.3232 - custom_loss_function: 27.3316\n",
      "Epoch 12/20\n",
      "454/454 [==============================] - 0s 868us/step - loss: 27.2925 - custom_loss_function: 27.3171\n",
      "Epoch 13/20\n",
      "454/454 [==============================] - 0s 878us/step - loss: 27.2576 - custom_loss_function: 27.2595\n",
      "Epoch 14/20\n",
      "454/454 [==============================] - 0s 877us/step - loss: 27.2265 - custom_loss_function: 27.2148\n",
      "Epoch 15/20\n",
      "454/454 [==============================] - 0s 865us/step - loss: 27.2018 - custom_loss_function: 27.1949\n",
      "Epoch 16/20\n",
      "454/454 [==============================] - 0s 887us/step - loss: 27.1759 - custom_loss_function: 27.1836\n",
      "Epoch 17/20\n",
      "454/454 [==============================] - 0s 907us/step - loss: 27.1443 - custom_loss_function: 27.1348\n",
      "Epoch 18/20\n",
      "454/454 [==============================] - 0s 942us/step - loss: 27.1116 - custom_loss_function: 27.1164\n",
      "Epoch 19/20\n",
      "454/454 [==============================] - 0s 885us/step - loss: 27.0945 - custom_loss_function: 27.0809\n",
      "Epoch 20/20\n",
      "454/454 [==============================] - 0s 847us/step - loss: 27.0595 - custom_loss_function: 27.0692\n"
     ]
    },
    {
     "data": {
      "text/plain": [
       "26.95307731628418"
      ]
     },
     "execution_count": 268,
     "metadata": {},
     "output_type": "execute_result"
    }
   ],
   "source": [
    "def getSimplePerceptron(nb_classes=2): \n",
    "    model = Sequential()\n",
    "    model.add(InputLayer(input_shape=(24)))\n",
    "    model.add(Dense(16))\n",
    "    model.add(Dense(8, activation='sigmoid'))\n",
    "    model.add(Dense(8, activation='sigmoid'))\n",
    "    model.add(Dense(1, activation='sigmoid'))\n",
    "    model.compile(loss=custom_loss_function, optimizer=\"adam\", metrics=custom_loss_function)\n",
    "    return model\n",
    "\n",
    "model=getSimplePerceptron()\n",
    "model=getSimplePerceptron()\n",
    "batch_size = 128\n",
    "epochs=20\n",
    "model.fit(np.array(x_train).astype('f'), np.array(y_train).astype('f'), batch_size=batch_size, epochs=epochs,  verbose=1)\n",
    "pred = model.predict(np.array(x_test).astype('f'))\n",
    "score(pred,np.array(y_test))"
   ]
  },
  {
   "cell_type": "code",
   "execution_count": null,
   "metadata": {
    "collapsed": true,
    "id": "QhP8Mqg_tauB",
    "outputId": "0b334662-8141-4162-fd16-e4a8f6f6cecb"
   },
   "outputs": [
    {
     "name": "stdout",
     "output_type": "stream",
     "text": [
      "Epoch 1/20\n",
      "907/907 [==============================] - 1s 861us/step - loss: 32.0770 - custom_loss_function: 32.0735\n",
      "Epoch 2/20\n",
      "907/907 [==============================] - 1s 845us/step - loss: 29.6579 - custom_loss_function: 29.6595\n",
      "Epoch 3/20\n",
      "907/907 [==============================] - 1s 801us/step - loss: 27.9046 - custom_loss_function: 27.9079\n",
      "Epoch 4/20\n",
      "907/907 [==============================] - 1s 831us/step - loss: 27.5555 - custom_loss_function: 27.5586\n",
      "Epoch 5/20\n",
      "907/907 [==============================] - 1s 798us/step - loss: 27.4043 - custom_loss_function: 27.4082\n",
      "Epoch 6/20\n",
      "907/907 [==============================] - 1s 836us/step - loss: 27.3182 - custom_loss_function: 27.3218\n",
      "Epoch 7/20\n",
      "907/907 [==============================] - 1s 932us/step - loss: 27.2270 - custom_loss_function: 27.2284\n",
      "Epoch 8/20\n",
      "907/907 [==============================] - 1s 1ms/step - loss: 27.1394 - custom_loss_function: 27.1347\n",
      "Epoch 9/20\n",
      "907/907 [==============================] - 1s 1ms/step - loss: 27.0664 - custom_loss_function: 27.0678\n",
      "Epoch 10/20\n",
      "907/907 [==============================] - 1s 1ms/step - loss: 27.0127 - custom_loss_function: 27.0115\n",
      "Epoch 11/20\n",
      "907/907 [==============================] - 1s 1ms/step - loss: 26.9750 - custom_loss_function: 26.9744\n",
      "Epoch 12/20\n",
      "907/907 [==============================] - 1s 1ms/step - loss: 26.9462 - custom_loss_function: 26.9487\n",
      "Epoch 13/20\n",
      "907/907 [==============================] - 1s 1ms/step - loss: 26.9203 - custom_loss_function: 26.9155\n",
      "Epoch 14/20\n",
      "907/907 [==============================] - 1s 985us/step - loss: 26.9055 - custom_loss_function: 26.9063\n",
      "Epoch 15/20\n",
      "907/907 [==============================] - 1s 959us/step - loss: 26.9018 - custom_loss_function: 26.8979\n",
      "Epoch 16/20\n",
      "907/907 [==============================] - 1s 961us/step - loss: 26.8863 - custom_loss_function: 26.8863\n",
      "Epoch 17/20\n",
      "907/907 [==============================] - 1s 963us/step - loss: 26.8782 - custom_loss_function: 26.8741\n",
      "Epoch 18/20\n",
      "907/907 [==============================] - 1s 1ms/step - loss: 26.8722 - custom_loss_function: 26.8670\n",
      "Epoch 19/20\n",
      "907/907 [==============================] - 1s 970us/step - loss: 26.8687 - custom_loss_function: 26.8664\n",
      "Epoch 20/20\n",
      "907/907 [==============================] - 1s 954us/step - loss: 26.8639 - custom_loss_function: 26.8674\n"
     ]
    },
    {
     "data": {
      "text/plain": [
       "26.796534657478333"
      ]
     },
     "execution_count": 270,
     "metadata": {},
     "output_type": "execute_result"
    }
   ],
   "source": [
    "def getSimplePerceptron(nb_classes=2): \n",
    "    model = Sequential()\n",
    "    model.add(InputLayer(input_shape=(24)))\n",
    "    model.add(Dense(16))\n",
    "    model.add(Dense(8, activation='sigmoid'))\n",
    "    model.add(Dense(8, activation='sigmoid'))\n",
    "    model.add(Dense(1, activation='sigmoid'))\n",
    "    model.compile(loss=custom_loss_function, optimizer=\"adam\", metrics=custom_loss_function)\n",
    "    return model\n",
    "\n",
    "model=getSimplePerceptron()\n",
    "model=getSimplePerceptron()\n",
    "batch_size = 128\n",
    "epochs=20\n",
    "model.fit(np.array(x_train).astype('f'), np.array(y_train).astype('f'), batch_size=batch_size, epochs=epochs,  verbose=1)\n",
    "pred = model.predict(np.array(x_test).astype('f'))\n",
    "score(pred,np.array(y_test))"
   ]
  },
  {
   "cell_type": "code",
   "execution_count": null,
   "metadata": {
    "id": "GcuKywhItauC",
    "outputId": "7e1a87c8-fa7e-4185-d627-eddfaaba2739"
   },
   "outputs": [
    {
     "name": "stdout",
     "output_type": "stream",
     "text": [
      "Epoch 1/20\n",
      "907/907 [==============================] - 1s 934us/step - loss: 26.3743 - custom_loss_function: 26.3758\n",
      "Epoch 2/20\n",
      "907/907 [==============================] - 1s 984us/step - loss: 25.9770 - custom_loss_function: 25.9754\n",
      "Epoch 3/20\n",
      "907/907 [==============================] - 1s 1ms/step - loss: 25.8765 - custom_loss_function: 25.8948\n",
      "Epoch 4/20\n",
      "907/907 [==============================] - 1s 1ms/step - loss: 25.8443 - custom_loss_function: 25.8447\n",
      "Epoch 5/20\n",
      "907/907 [==============================] - 1s 1ms/step - loss: 25.8139 - custom_loss_function: 25.8251\n",
      "Epoch 6/20\n",
      "907/907 [==============================] - 1s 969us/step - loss: 25.7850 - custom_loss_function: 25.7814\n",
      "Epoch 7/20\n",
      "907/907 [==============================] - 1s 1ms/step - loss: 25.7715 - custom_loss_function: 25.7676\n",
      "Epoch 8/20\n",
      "907/907 [==============================] - 1s 1ms/step - loss: 25.7072 - custom_loss_function: 25.7012\n",
      "Epoch 9/20\n",
      "907/907 [==============================] - 1s 1ms/step - loss: 25.7283 - custom_loss_function: 25.7369\n",
      "Epoch 10/20\n",
      "907/907 [==============================] - 1s 1ms/step - loss: 25.6913 - custom_loss_function: 25.6926\n",
      "Epoch 11/20\n",
      "907/907 [==============================] - 1s 1ms/step - loss: 25.7087 - custom_loss_function: 25.7212\n",
      "Epoch 12/20\n",
      "907/907 [==============================] - 1s 1ms/step - loss: 25.6937 - custom_loss_function: 25.6850\n",
      "Epoch 13/20\n",
      "907/907 [==============================] - 1s 1ms/step - loss: 25.6723 - custom_loss_function: 25.6654\n",
      "Epoch 14/20\n",
      "907/907 [==============================] - 1s 1ms/step - loss: 25.6948 - custom_loss_function: 25.6893\n",
      "Epoch 15/20\n",
      "907/907 [==============================] - 1s 1ms/step - loss: 25.6793 - custom_loss_function: 25.6814\n",
      "Epoch 16/20\n",
      "907/907 [==============================] - 1s 1ms/step - loss: 25.6662 - custom_loss_function: 25.6689\n",
      "Epoch 17/20\n",
      "907/907 [==============================] - 1s 1ms/step - loss: 25.6702 - custom_loss_function: 25.6592\n",
      "Epoch 18/20\n",
      "907/907 [==============================] - 1s 1ms/step - loss: 25.6791 - custom_loss_function: 25.6751\n",
      "Epoch 19/20\n",
      "907/907 [==============================] - 1s 1ms/step - loss: 25.6728 - custom_loss_function: 25.6753\n",
      "Epoch 20/20\n",
      "907/907 [==============================] - 1s 1ms/step - loss: 25.6756 - custom_loss_function: 25.6723\n"
     ]
    },
    {
     "data": {
      "text/plain": [
       "25.608348846435547"
      ]
     },
     "execution_count": 287,
     "metadata": {},
     "output_type": "execute_result"
    }
   ],
   "source": [
    "def getSimplePerceptron(nb_classes=2): \n",
    "    model = Sequential()\n",
    "    model.add(InputLayer(input_shape=(24)))\n",
    "    model.add(Dense(64))\n",
    "\n",
    "    model.add(Dense(64))\n",
    "\n",
    "    model.add(Dense(1, activation='relu'))\n",
    "    model.compile(loss=custom_loss_function, optimizer=\"adam\", metrics=custom_loss_function)\n",
    "    return model\n",
    "\n",
    "model=getSimplePerceptron()\n",
    "model=getSimplePerceptron()\n",
    "batch_size = 128\n",
    "epochs=5\n",
    "model.fit(np.array(x_train).astype('f'), np.array(y_train).astype('f'), batch_size=batch_size, epochs=epochs,  verbose=1)\n",
    "pred = model.predict(np.array(x_test).astype('f'))\n",
    "score(pred,np.array(y_test))"
   ]
  },
  {
   "cell_type": "code",
   "execution_count": null,
   "metadata": {
    "id": "2Dw87anNtauC",
    "outputId": "8e587ae4-6100-4a0f-c722-7f3c9935aa75"
   },
   "outputs": [
    {
     "name": "stdout",
     "output_type": "stream",
     "text": [
      "Epoch 1/5\n",
      "907/907 [==============================] - 1s 937us/step - loss: 26.3745 - custom_loss_function: 26.3748\n",
      "Epoch 2/5\n",
      "907/907 [==============================] - 1s 944us/step - loss: 25.5852 - custom_loss_function: 25.5881\n",
      "Epoch 3/5\n",
      "907/907 [==============================] - 1s 941us/step - loss: 25.3879 - custom_loss_function: 25.3892\n",
      "Epoch 4/5\n",
      "907/907 [==============================] - 1s 932us/step - loss: 25.2607 - custom_loss_function: 25.2542\n",
      "Epoch 5/5\n",
      "907/907 [==============================] - 1s 985us/step - loss: 25.0998 - custom_loss_function: 25.0941\n"
     ]
    },
    {
     "data": {
      "text/plain": [
       "25.13445019721985"
      ]
     },
     "execution_count": 324,
     "metadata": {},
     "output_type": "execute_result"
    }
   ],
   "source": [
    "def getSimplePerceptron(nb_classes=2): \n",
    "    model = Sequential()\n",
    "    model.add(InputLayer(input_shape=(25)))\n",
    "    model.add(Dense(64,activation='relu'))\n",
    "    model.add(Dense(64,activation='relu'))\n",
    "    model.add(Dense(1, activation='relu'))\n",
    "    model.compile(loss=custom_loss_function, optimizer=\"adam\", metrics=custom_loss_function)\n",
    "    return model\n",
    "\n",
    "model=getSimplePerceptron()\n",
    "model=getSimplePerceptron()\n",
    "batch_size = 128\n",
    "epochs=5\n",
    "model.fit(np.array(x_train).astype('f'), np.array(y_train).astype('f'), batch_size=batch_size, epochs=epochs,  verbose=1)\n",
    "pred = model.predict(np.array(x_test).astype('f'))\n",
    "score(pred,np.array(y_test))"
   ]
  },
  {
   "cell_type": "code",
   "execution_count": null,
   "metadata": {
    "id": "WmllgbjjtauC",
    "outputId": "e24b6080-100d-42bc-a180-3b67da926597"
   },
   "outputs": [
    {
     "name": "stdout",
     "output_type": "stream",
     "text": [
      "Epoch 1/5\n",
      "907/907 [==============================] - 10s 10ms/step - loss: 27.0194 - custom_loss_function: 27.0168\n",
      "Epoch 2/5\n",
      "907/907 [==============================] - 11s 12ms/step - loss: 25.9110 - custom_loss_function: 25.9077\n",
      "Epoch 3/5\n",
      "907/907 [==============================] - 13s 14ms/step - loss: 25.6819 - custom_loss_function: 25.6837\n",
      "Epoch 4/5\n",
      "907/907 [==============================] - 12s 13ms/step - loss: 25.6677 - custom_loss_function: 25.6647\n",
      "Epoch 5/5\n",
      "907/907 [==============================] - 12s 13ms/step - loss: 25.5385 - custom_loss_function: 25.5431\n"
     ]
    },
    {
     "data": {
      "text/plain": [
       "25.10986626148224"
      ]
     },
     "execution_count": 338,
     "metadata": {},
     "output_type": "execute_result"
    }
   ],
   "source": [
    "def getSimplePerceptron(nb_classes=2): \n",
    "    model = Sequential()\n",
    "    model.add(InputLayer(input_shape=(25)))\n",
    "    model.add(BatchNormalization())\n",
    "    model.add(Dense(1024,activation='relu'))\n",
    "    model.add(BatchNormalization())\n",
    "    model.add(Dense(256,activation='relu'))\n",
    "    model.add(BatchNormalization())\n",
    "    model.add(Dense(256,activation='relu'))\n",
    "    model.add(BatchNormalization())\n",
    "    model.add(Dense(256,activation='relu'))\n",
    "    model.add(BatchNormalization())\n",
    "    model.add(Dense(256,activation='relu'))\n",
    "    model.add(BatchNormalization())\n",
    "    model.add(Dense(1, activation='relu'))\n",
    "    model.compile(loss=custom_loss_function, optimizer=\"adam\", metrics=custom_loss_function)\n",
    "    return model\n",
    "\n",
    "model=getSimplePerceptron()\n",
    "model=getSimplePerceptron()\n",
    "batch_size = 128\n",
    "epochs=5\n",
    "model.fit(np.array(x_train).astype('f'), np.array(y_train).astype('f'), batch_size=batch_size, epochs=epochs,  verbose=1)\n",
    "pred = model.predict(np.array(x_test).astype('f'))\n",
    "score(pred,np.array(y_test))"
   ]
  },
  {
   "cell_type": "code",
   "execution_count": null,
   "metadata": {
    "id": "pfuqU2eftauD",
    "outputId": "e346da30-0c52-4da3-a9b3-f5e88b0c212f"
   },
   "outputs": [
    {
     "name": "stdout",
     "output_type": "stream",
     "text": [
      "Epoch 1/5\n",
      "907/907 [==============================] - 50s 54ms/step - loss: 28.2323 - custom_loss_function: 28.2391\n",
      "Epoch 2/5\n",
      "907/907 [==============================] - 51s 56ms/step - loss: 26.2512 - custom_loss_function: 26.2471\n",
      "Epoch 3/5\n",
      "907/907 [==============================] - 52s 58ms/step - loss: 26.1461 - custom_loss_function: 26.1400\n",
      "Epoch 4/5\n",
      "907/907 [==============================] - 53s 59ms/step - loss: 25.9307 - custom_loss_function: 25.9287\n",
      "Epoch 5/5\n",
      "907/907 [==============================] - 53s 59ms/step - loss: 25.7587 - custom_loss_function: 25.7627\n"
     ]
    },
    {
     "data": {
      "text/plain": [
       "25.404173135757446"
      ]
     },
     "execution_count": 346,
     "metadata": {},
     "output_type": "execute_result"
    }
   ],
   "source": [
    "#PREDICTION AVEC LES 24 PREMIERES PRECIP ET BASELINE FORECAST\n",
    "def getSimplePerceptron(nb_classes=2): \n",
    "    model = Sequential()\n",
    "    model.add(InputLayer(input_shape=(25)))\n",
    "    model.add(BatchNormalization())\n",
    "    model.add(Dense(1024,activation='relu'))\n",
    "    model.add(BatchNormalization())\n",
    "    model.add(Dense(1024,activation='relu'))\n",
    "    model.add(BatchNormalization())\n",
    "    model.add(Dense(1024,activation='relu'))\n",
    "    model.add(BatchNormalization())\n",
    "    model.add(Dense(1024,activation='relu'))\n",
    "    model.add(BatchNormalization())\n",
    "    model.add(Dense(1024,activation='relu'))\n",
    "    model.add(BatchNormalization())\n",
    "    model.add(Dense(1, activation='relu'))\n",
    "    model.compile(loss=custom_loss_function, optimizer=\"adam\", metrics=custom_loss_function)\n",
    "    return model\n",
    "\n",
    "model=getSimplePerceptron()\n",
    "model=getSimplePerceptron()\n",
    "batch_size = 128\n",
    "epochs=5\n",
    "model.fit(np.array(x_train).astype('f'), np.array(y_train).astype('f'), batch_size=batch_size, epochs=epochs,  verbose=1)\n",
    "pred = model.predict(np.array(x_test).astype('f'))\n",
    "score(pred,np.array(y_test))"
   ]
  },
  {
   "cell_type": "code",
   "execution_count": null,
   "metadata": {
    "id": "5h6kgkwxtauD",
    "outputId": "d29c8007-caba-4597-f727-6bef371faac8"
   },
   "outputs": [
    {
     "name": "stdout",
     "output_type": "stream",
     "text": [
      "Epoch 1/5\n",
      "907/907 [==============================] - 14s 14ms/step - loss: 26.6177 - custom_loss_function: 26.6262\n",
      "Epoch 2/5\n",
      "907/907 [==============================] - 12s 13ms/step - loss: 25.2869 - custom_loss_function: 25.2810\n",
      "Epoch 3/5\n",
      "907/907 [==============================] - 12s 13ms/step - loss: 25.0177 - custom_loss_function: 25.0225\n",
      "Epoch 4/5\n",
      "907/907 [==============================] - 14s 16ms/step - loss: 24.8167 - custom_loss_function: 24.8201\n",
      "Epoch 5/5\n",
      "907/907 [==============================] - 14s 16ms/step - loss: 24.7404 - custom_loss_function: 24.7359\n"
     ]
    },
    {
     "data": {
      "text/plain": [
       "24.541087448596954"
      ]
     },
     "execution_count": 378,
     "metadata": {},
     "output_type": "execute_result"
    }
   ],
   "source": [
    "#AVEC 30 COLONNES\n",
    "def getSimplePerceptron(nb_classes=2): \n",
    "    model = Sequential()\n",
    "    model.add(InputLayer(input_shape=(30)))\n",
    "    model.add(BatchNormalization())\n",
    "    model.add(Dense(1024,activation='relu'))\n",
    "    model.add(BatchNormalization())\n",
    "    model.add(Dense(256,activation='relu'))\n",
    "    model.add(BatchNormalization())\n",
    "    model.add(Dense(256,activation='relu'))\n",
    "    model.add(BatchNormalization())\n",
    "    model.add(Dense(256,activation='relu'))\n",
    "    model.add(BatchNormalization())\n",
    "    model.add(Dense(256,activation='relu'))\n",
    "    model.add(BatchNormalization())\n",
    "    model.add(Dense(1, activation='relu'))\n",
    "    model.compile(loss=custom_loss_function, optimizer=\"adam\", metrics=custom_loss_function)\n",
    "    return model\n",
    "\n",
    "model=getSimplePerceptron()\n",
    "model=getSimplePerceptron()\n",
    "batch_size = 128\n",
    "epochs=5\n",
    "model.fit(np.array(x_train).astype('f'), np.array(y_train).astype('f'), batch_size=batch_size, epochs=epochs,  verbose=1)\n",
    "pred = model.predict(np.array(x_test).astype('f'))\n",
    "score(pred,np.array(y_test))"
   ]
  },
  {
   "cell_type": "code",
   "execution_count": null,
   "metadata": {
    "id": "uDjwna-LtauE",
    "outputId": "99f41873-c60d-4bc6-860e-d2cfe8b5c241"
   },
   "outputs": [
    {
     "name": "stdout",
     "output_type": "stream",
     "text": [
      "Epoch 1/5\n",
      "907/907 [==============================] - 31s 33ms/step - loss: 27.4522 - custom_loss_function: 27.4530\n",
      "Epoch 2/5\n",
      "907/907 [==============================] - 30s 33ms/step - loss: 25.2647 - custom_loss_function: 25.2587\n",
      "Epoch 3/5\n",
      "907/907 [==============================] - 29s 32ms/step - loss: 24.8426 - custom_loss_function: 24.8407\n",
      "Epoch 4/5\n",
      "907/907 [==============================] - 28s 31ms/step - loss: 24.6704 - custom_loss_function: 24.6705\n",
      "Epoch 5/5\n",
      "907/907 [==============================] - 29s 32ms/step - loss: 24.6284 - custom_loss_function: 24.6297\n"
     ]
    },
    {
     "data": {
      "text/plain": [
       "24.243442714214325"
      ]
     },
     "execution_count": 379,
     "metadata": {},
     "output_type": "execute_result"
    }
   ],
   "source": [
    "def getSimplePerceptron(nb_classes=2): \n",
    "    model = Sequential()\n",
    "    model.add(InputLayer(input_shape=(30)))\n",
    "    model.add(BatchNormalization())\n",
    "    model.add(Dense(1024,activation='relu'))\n",
    "    model.add(BatchNormalization())\n",
    "    model.add(Dense(512,activation='relu'))\n",
    "    model.add(BatchNormalization())\n",
    "    model.add(Dense(512,activation='relu'))\n",
    "    model.add(BatchNormalization())\n",
    "    model.add(Dense(512,activation='relu'))\n",
    "    model.add(BatchNormalization())\n",
    "    model.add(Dense(512,activation='relu'))\n",
    "    model.add(BatchNormalization())\n",
    "    model.add(Dense(1, activation='relu'))\n",
    "    model.compile(loss=custom_loss_function, optimizer=\"adam\", metrics=custom_loss_function)\n",
    "    return model\n",
    "\n",
    "model=getSimplePerceptron()\n",
    "model=getSimplePerceptron()\n",
    "batch_size = 128\n",
    "epochs=5\n",
    "model.fit(np.array(x_train).astype('f'), np.array(y_train).astype('f'), batch_size=batch_size, epochs=epochs,  verbose=1)\n",
    "pred = model.predict(np.array(x_test).astype('f'))\n",
    "score(pred,np.array(y_test))"
   ]
  }
 ],
 "metadata": {
  "colab": {
   "name": "DEEPCAMP_P1C&D&E_PREPROCESSING&MODELSML.ipynb",
   "provenance": []
  },
  "kernelspec": {
   "display_name": "Python 3",
   "language": "python",
   "name": "python3"
  },
  "language_info": {
   "codemirror_mode": {
    "name": "ipython",
    "version": 3
   },
   "file_extension": ".py",
   "mimetype": "text/x-python",
   "name": "python",
   "nbconvert_exporter": "python",
   "pygments_lexer": "ipython3",
   "version": "3.7.7"
  }
 },
 "nbformat": 4,
 "nbformat_minor": 1
}
