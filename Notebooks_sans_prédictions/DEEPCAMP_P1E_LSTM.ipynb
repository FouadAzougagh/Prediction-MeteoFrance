{
 "cells": [
  {
   "cell_type": "markdown",
   "metadata": {
    "id": "Kknj8V_PnvZY"
   },
   "source": [
    "# DEEPCAMP_P1D_LSTM\n",
    "### Objectif_Notebook : Conception et entraînement des modèles LSTM sans prédictions Météo France"
   ]
  },
  {
   "cell_type": "markdown",
   "metadata": {
    "id": "mHRXjU32n9Gk"
   },
   "source": [
    "## 1.Importer Librairies"
   ]
  },
  {
   "cell_type": "code",
   "execution_count": null,
   "metadata": {
    "id": "_YjDSjGglz4j"
   },
   "outputs": [],
   "source": [
    "\n",
    "#####################################################################################################\n",
    "#  import \n",
    "#####################################################################################################\n",
    "import pandas as pd\n",
    "import numpy as np\n",
    "from numpy import concatenate\n",
    "from matplotlib import pyplot\n",
    "\n",
    "# prepare data for lstm\n",
    "from pandas import read_csv\n",
    "from pandas import DataFrame\n",
    "from pandas import concat\n",
    "from sklearn.preprocessing import LabelEncoder\n",
    "from sklearn.preprocessing import MinMaxScaler\n",
    "\n",
    "# design lstm\n",
    "from keras.layers.convolutional import Conv1D\n",
    "from keras.layers.convolutional import MaxPooling1D\n",
    "from keras.layers import Flatten\n",
    "from keras.layers import Dropout\n",
    "from keras.models import Sequential\n",
    "from keras.layers import Dense\n",
    "from keras.layers import Bidirectional\n",
    "from keras.layers import TimeDistributed\n",
    "from keras.layers import LSTM\n",
    "from keras.regularizers import l2\n",
    "from sklearn.preprocessing import MinMaxScaler\n",
    "import tensorflow as tf\n",
    "\n"
   ]
  },
  {
   "cell_type": "markdown",
   "metadata": {
    "id": "uPI8t7j-oTc9"
   },
   "source": [
    "## 2.Importer Données"
   ]
  },
  {
   "cell_type": "code",
   "execution_count": null,
   "metadata": {
    "id": "9Yo8-Y-Yn0ns"
   },
   "outputs": [],
   "source": [
    "#LOAD TRAIN DATA\n",
    "dataframe = pd.read_csv('/content/DataWithoutNanV4.csv')\n",
    "\n",
    "del dataframe['Id']\n",
    "del dataframe['date']\n",
    "del dataframe['number_sta']"
   ]
  },
  {
   "cell_type": "code",
   "execution_count": null,
   "metadata": {
    "colab": {
     "base_uri": "https://localhost:8080/"
    },
    "id": "_Q4rHwrEozrI",
    "outputId": "ae162d93-02af-486c-b906-dfa5265be06f"
   },
   "outputs": [
    {
     "data": {
      "text/html": [
       "\n",
       "  <div id=\"df-74023e02-7375-41e1-bce3-2f5e3197136b\">\n",
       "    <div class=\"colab-df-container\">\n",
       "      <div>\n",
       "<style scoped>\n",
       "    .dataframe tbody tr th:only-of-type {\n",
       "        vertical-align: middle;\n",
       "    }\n",
       "\n",
       "    .dataframe tbody tr th {\n",
       "        vertical-align: top;\n",
       "    }\n",
       "\n",
       "    .dataframe thead th {\n",
       "        text-align: right;\n",
       "    }\n",
       "</style>\n",
       "<table border=\"1\" class=\"dataframe\">\n",
       "  <thead>\n",
       "    <tr style=\"text-align: right;\">\n",
       "      <th></th>\n",
       "      <th>ff</th>\n",
       "      <th>lt</th>\n",
       "      <th>td</th>\n",
       "      <th>hu</th>\n",
       "      <th>dd</th>\n",
       "      <th>precip</th>\n",
       "      <th>Ground_truth</th>\n",
       "    </tr>\n",
       "  </thead>\n",
       "  <tbody>\n",
       "    <tr>\n",
       "      <th>0</th>\n",
       "      <td>3.91375</td>\n",
       "      <td>280.333750</td>\n",
       "      <td>278.514583</td>\n",
       "      <td>88.591667</td>\n",
       "      <td>146.500</td>\n",
       "      <td>0.008333</td>\n",
       "      <td>3.4</td>\n",
       "    </tr>\n",
       "    <tr>\n",
       "      <th>1</th>\n",
       "      <td>8.04125</td>\n",
       "      <td>282.936667</td>\n",
       "      <td>279.997500</td>\n",
       "      <td>82.300000</td>\n",
       "      <td>205.625</td>\n",
       "      <td>0.141667</td>\n",
       "      <td>11.7</td>\n",
       "    </tr>\n",
       "  </tbody>\n",
       "</table>\n",
       "</div>\n",
       "      <button class=\"colab-df-convert\" onclick=\"convertToInteractive('df-74023e02-7375-41e1-bce3-2f5e3197136b')\"\n",
       "              title=\"Convert this dataframe to an interactive table.\"\n",
       "              style=\"display:none;\">\n",
       "        \n",
       "  <svg xmlns=\"http://www.w3.org/2000/svg\" height=\"24px\"viewBox=\"0 0 24 24\"\n",
       "       width=\"24px\">\n",
       "    <path d=\"M0 0h24v24H0V0z\" fill=\"none\"/>\n",
       "    <path d=\"M18.56 5.44l.94 2.06.94-2.06 2.06-.94-2.06-.94-.94-2.06-.94 2.06-2.06.94zm-11 1L8.5 8.5l.94-2.06 2.06-.94-2.06-.94L8.5 2.5l-.94 2.06-2.06.94zm10 10l.94 2.06.94-2.06 2.06-.94-2.06-.94-.94-2.06-.94 2.06-2.06.94z\"/><path d=\"M17.41 7.96l-1.37-1.37c-.4-.4-.92-.59-1.43-.59-.52 0-1.04.2-1.43.59L10.3 9.45l-7.72 7.72c-.78.78-.78 2.05 0 2.83L4 21.41c.39.39.9.59 1.41.59.51 0 1.02-.2 1.41-.59l7.78-7.78 2.81-2.81c.8-.78.8-2.07 0-2.86zM5.41 20L4 18.59l7.72-7.72 1.47 1.35L5.41 20z\"/>\n",
       "  </svg>\n",
       "      </button>\n",
       "      \n",
       "  <style>\n",
       "    .colab-df-container {\n",
       "      display:flex;\n",
       "      flex-wrap:wrap;\n",
       "      gap: 12px;\n",
       "    }\n",
       "\n",
       "    .colab-df-convert {\n",
       "      background-color: #E8F0FE;\n",
       "      border: none;\n",
       "      border-radius: 50%;\n",
       "      cursor: pointer;\n",
       "      display: none;\n",
       "      fill: #1967D2;\n",
       "      height: 32px;\n",
       "      padding: 0 0 0 0;\n",
       "      width: 32px;\n",
       "    }\n",
       "\n",
       "    .colab-df-convert:hover {\n",
       "      background-color: #E2EBFA;\n",
       "      box-shadow: 0px 1px 2px rgba(60, 64, 67, 0.3), 0px 1px 3px 1px rgba(60, 64, 67, 0.15);\n",
       "      fill: #174EA6;\n",
       "    }\n",
       "\n",
       "    [theme=dark] .colab-df-convert {\n",
       "      background-color: #3B4455;\n",
       "      fill: #D2E3FC;\n",
       "    }\n",
       "\n",
       "    [theme=dark] .colab-df-convert:hover {\n",
       "      background-color: #434B5C;\n",
       "      box-shadow: 0px 1px 3px 1px rgba(0, 0, 0, 0.15);\n",
       "      filter: drop-shadow(0px 1px 2px rgba(0, 0, 0, 0.3));\n",
       "      fill: #FFFFFF;\n",
       "    }\n",
       "  </style>\n",
       "\n",
       "      <script>\n",
       "        const buttonEl =\n",
       "          document.querySelector('#df-74023e02-7375-41e1-bce3-2f5e3197136b button.colab-df-convert');\n",
       "        buttonEl.style.display =\n",
       "          google.colab.kernel.accessAllowed ? 'block' : 'none';\n",
       "\n",
       "        async function convertToInteractive(key) {\n",
       "          const element = document.querySelector('#df-74023e02-7375-41e1-bce3-2f5e3197136b');\n",
       "          const dataTable =\n",
       "            await google.colab.kernel.invokeFunction('convertToInteractive',\n",
       "                                                     [key], {});\n",
       "          if (!dataTable) return;\n",
       "\n",
       "          const docLinkHtml = 'Like what you see? Visit the ' +\n",
       "            '<a target=\"_blank\" href=https://colab.research.google.com/notebooks/data_table.ipynb>data table notebook</a>'\n",
       "            + ' to learn more about interactive tables.';\n",
       "          element.innerHTML = '';\n",
       "          dataTable['output_type'] = 'display_data';\n",
       "          await google.colab.output.renderOutput(dataTable, element);\n",
       "          const docLink = document.createElement('div');\n",
       "          docLink.innerHTML = docLinkHtml;\n",
       "          element.appendChild(docLink);\n",
       "        }\n",
       "      </script>\n",
       "    </div>\n",
       "  </div>\n",
       "  "
      ],
      "text/plain": [
       "        ff          lt          td         hu       dd    precip  Ground_truth\n",
       "0  3.91375  280.333750  278.514583  88.591667  146.500  0.008333           3.4\n",
       "1  8.04125  282.936667  279.997500  82.300000  205.625  0.141667          11.7"
      ]
     },
     "execution_count": 13,
     "metadata": {},
     "output_type": "execute_result"
    }
   ],
   "source": [
    "dataframe.head(2)"
   ]
  },
  {
   "cell_type": "markdown",
   "metadata": {
    "id": "H-yn-HYxpZnW"
   },
   "source": [
    "## 3.Convertir séries temporelles pour LSTM"
   ]
  },
  {
   "cell_type": "code",
   "execution_count": null,
   "metadata": {
    "colab": {
     "base_uri": "https://localhost:8080/"
    },
    "id": "lgyX5Ccypo4Q",
    "outputId": "671c121b-0dc6-468b-9df7-f2230d5eecfa"
   },
   "outputs": [
    {
     "name": "stdout",
     "output_type": "stream",
     "text": [
      "   var1(t-1)  var2(t-1)  var3(t-1)  var4(t-1)  var5(t-1)  var6(t-1)   var7(t)\n",
      "1   0.160655   0.432794   0.691741   0.884764   0.338439   0.002139  0.125134\n",
      "2   0.330084   0.484125   0.711108   0.821212   0.542413   0.036364  0.010695\n",
      "3   0.222023   0.417495   0.678463   0.866162   0.558652   0.064171  0.059893\n",
      "4   0.176356   0.467880   0.684296   0.761700   0.304853   0.124064  0.034225\n",
      "5   0.072024   0.481528   0.724245   0.886322   0.402903   0.059893  0.008556\n"
     ]
    }
   ],
   "source": [
    "# values \n",
    "values = dataframe.values\n",
    "# encoder \n",
    "encoder = LabelEncoder()\n",
    "values[:,4] = encoder.fit_transform(values[:,4])\n",
    "values[:,4]\n",
    "# ensure all data is float\n",
    "values = values.astype('float32')\n",
    "# normalize features\n",
    "scaler = MinMaxScaler(feature_range=(0, 1))\n",
    "scaled = scaler.fit_transform(values)\n",
    "\n",
    "#function for series to supervised conversion :\n",
    "def series_to_supervised(data, n_in=1, n_out=1, dropnan=True):\n",
    "\tn_vars = 1 if type(data) is list else data.shape[1]\n",
    "\tdf = DataFrame(data)\n",
    "\tcols, names = list(), list()\n",
    "\t# input sequence (t-n, ... t-1)\n",
    "\tfor i in range(n_in, 0, -1):\n",
    "\t\tcols.append(df.shift(i))\n",
    "\t\tnames += [('var%d(t-%d)' % (j+1, i)) for j in range(n_vars)]\n",
    "\t# forecast sequence (t, t+1, ... t+n)\n",
    "\tfor i in range(0, n_out):\n",
    "\t\tcols.append(df.shift(-i))\n",
    "\t\tif i == 0:\n",
    "\t\t\tnames += [('var%d(t)' % (j+1)) for j in range(n_vars)]\n",
    "\t\telse:\n",
    "\t\t\tnames += [('var%d(t+%d)' % (j+1, i)) for j in range(n_vars)]\n",
    "\t# put it all together\n",
    "\tagg = concat(cols, axis=1)\n",
    "\tagg.columns = names\n",
    "\t# drop rows with NaN values\n",
    "\tif dropnan:\n",
    "\t\tagg.dropna(inplace=True)\n",
    "\treturn agg\n",
    "\n",
    "\n",
    "# frame as supervised learning\n",
    "reframed = series_to_supervised(scaled, 1, 1)\n",
    "\n",
    "# drop columns we don't need for LSTM \n",
    "reframed.drop(reframed.columns[[6,7,8,9,10,11,12]], axis=1, inplace=True)\n",
    "print(reframed.head())"
   ]
  },
  {
   "cell_type": "markdown",
   "metadata": {
    "id": "-LQkkYO_q4cY"
   },
   "source": [
    "## 4.Construire le jeu d'entrainement"
   ]
  },
  {
   "cell_type": "code",
   "execution_count": null,
   "metadata": {
    "colab": {
     "base_uri": "https://localhost:8080/"
    },
    "id": "lIdASe7nq-RW",
    "outputId": "a6fe0a32-b71c-4d14-9a89-26d051c1d5d8"
   },
   "outputs": [
    {
     "name": "stdout",
     "output_type": "stream",
     "text": [
      "reshape input to be 3D [samples, timesteps, features]\n",
      "(146982, 1, 6) (146982, 1)\n"
     ]
    }
   ],
   "source": [
    "\n",
    "\n",
    "#build train\n",
    "train_size = int(len(reframed)*0.8)\n",
    "train = reframed[0:train_size]\n",
    "\n",
    "# split into input and outputs\n",
    "train_X, train_y =  train.loc[:, train.columns != 'var7(t)'],train[['var7(t)']]\n",
    "\n",
    "# convert to array\n",
    "train_X, train_y = np.array(train_X),np.array(train_y)\n",
    "\n",
    "# reshape input to be 3D [samples, timesteps, features]\n",
    "train_X = train_X.reshape((train_X.shape[0], 1, train_X.shape[1]))\n",
    "\n",
    "print(\"reshape input to be 3D [samples, timesteps, features]\")\n",
    "print(train_X.shape, train_y.shape)\n"
   ]
  },
  {
   "cell_type": "code",
   "execution_count": null,
   "metadata": {
    "colab": {
     "base_uri": "https://localhost:8080/"
    },
    "id": "8IeRBk9m7U2T",
    "outputId": "6155f54d-5400-48f2-bfe0-14091bcc5450"
   },
   "outputs": [
    {
     "name": "stdout",
     "output_type": "stream",
     "text": [
      "(36745, 1, 6) (36745, 1)\n"
     ]
    }
   ],
   "source": [
    "#build train\n",
    "test_size = int(len(reframed)*0.2)\n",
    "test = reframed[0:test_size]\n",
    "\n",
    "# split into input and outputs\n",
    "test_X, test_y =  test.loc[:, test.columns != 'var7(t)'],test[['var7(t)']]\n",
    "\n",
    "\n",
    "# convert to array\n",
    "test_X, test_y= np.array(test_X),np.array(test_y)\n",
    "\n",
    "# reshape input to be 3D [samples, timesteps, features]\n",
    "test_X = test_X.reshape((test_X.shape[0], 1, test_X.shape[1]))\n",
    "\n",
    "print(test_X.shape, test_y.shape)"
   ]
  },
  {
   "cell_type": "markdown",
   "metadata": {
    "id": "aybrWykxsekP"
   },
   "source": [
    "## 6.Modélisation LSTM"
   ]
  },
  {
   "cell_type": "code",
   "execution_count": null,
   "metadata": {
    "id": "9PNO1UcT1ujw"
   },
   "outputs": [],
   "source": [
    "#mape error \n",
    "def custom_loss_function(y_true, y_pred):\n",
    "  return tf.math.reduce_mean(tf.abs((y_true+1)-(y_pred+1))/(y_true+1))*100"
   ]
  },
  {
   "cell_type": "markdown",
   "metadata": {
    "id": "aP2zqRtKs1pI"
   },
   "source": [
    "### 6.1.Baseline Vanilla Model\n"
   ]
  },
  {
   "cell_type": "markdown",
   "metadata": {
    "id": "ecZm5j481E8a"
   },
   "source": [
    "#### 6.1.1.Conception du model vanilla"
   ]
  },
  {
   "cell_type": "code",
   "execution_count": null,
   "metadata": {
    "colab": {
     "base_uri": "https://localhost:8080/"
    },
    "id": "d1L052iFyGIG",
    "outputId": "a6f5b811-a86f-47b3-bedc-cff90a67524e"
   },
   "outputs": [
    {
     "name": "stdout",
     "output_type": "stream",
     "text": [
      "Lookback: 1\n",
      "Number of features: 6\n"
     ]
    }
   ],
   "source": [
    "print('Lookback:',train_X.shape[1])\n",
    "print('Number of features:',train_X.shape[2])"
   ]
  },
  {
   "cell_type": "code",
   "execution_count": null,
   "metadata": {
    "id": "bGhyjh4CsxrF"
   },
   "outputs": [],
   "source": [
    "# LSTM parameters \n",
    "lookback = train_X.shape[1]\n",
    "hidden_units= 256\n",
    "nb_features = train_X.shape[2]\n",
    "\n",
    "#designing vanilla model\n",
    "vanilla_model = Sequential()\n",
    "vanilla_model.add(LSTM(hidden_units, input_shape=(lookback, nb_features)))\n",
    "vanilla_model.add(Dense(1))\n",
    "\n",
    "#compiling model\n",
    "vanilla_model.compile(loss=custom_loss_function, optimizer='adam',metrics=custom_loss_function)\n",
    "\n",
    "\n",
    "\n"
   ]
  },
  {
   "cell_type": "markdown",
   "metadata": {
    "id": "2LZ0sMpi1MEo"
   },
   "source": [
    "#### 6.1.2.Entrainer le model vanilla "
   ]
  },
  {
   "cell_type": "code",
   "execution_count": null,
   "metadata": {
    "colab": {
     "base_uri": "https://localhost:8080/",
     "height": 629
    },
    "id": "PjPRufvb1SXM",
    "outputId": "1a051c3f-eb1f-4250-93b4-454ddddb4483"
   },
   "outputs": [
    {
     "name": "stdout",
     "output_type": "stream",
     "text": [
      "Epoch 1/10\n",
      "2042/2042 - 19s - loss: 1.9485 - custom_loss_function: 1.9481 - val_loss: 1.9139 - val_custom_loss_function: 1.9133 - 19s/epoch - 9ms/step\n",
      "Epoch 2/10\n",
      "2042/2042 - 15s - loss: 1.8870 - custom_loss_function: 1.8866 - val_loss: 1.8706 - val_custom_loss_function: 1.8700 - 15s/epoch - 8ms/step\n",
      "Epoch 3/10\n",
      "2042/2042 - 15s - loss: 1.8736 - custom_loss_function: 1.8732 - val_loss: 1.8630 - val_custom_loss_function: 1.8624 - 15s/epoch - 8ms/step\n",
      "Epoch 4/10\n",
      "2042/2042 - 18s - loss: 1.8673 - custom_loss_function: 1.8669 - val_loss: 1.8626 - val_custom_loss_function: 1.8620 - 18s/epoch - 9ms/step\n",
      "Epoch 5/10\n",
      "2042/2042 - 21s - loss: 1.8647 - custom_loss_function: 1.8643 - val_loss: 1.8625 - val_custom_loss_function: 1.8619 - 21s/epoch - 10ms/step\n",
      "Epoch 6/10\n",
      "2042/2042 - 15s - loss: 1.8629 - custom_loss_function: 1.8625 - val_loss: 1.8628 - val_custom_loss_function: 1.8622 - 15s/epoch - 7ms/step\n",
      "Epoch 7/10\n",
      "2042/2042 - 20s - loss: 1.8621 - custom_loss_function: 1.8617 - val_loss: 1.8604 - val_custom_loss_function: 1.8598 - 20s/epoch - 10ms/step\n",
      "Epoch 8/10\n",
      "2042/2042 - 17s - loss: 1.8615 - custom_loss_function: 1.8611 - val_loss: 1.8596 - val_custom_loss_function: 1.8590 - 17s/epoch - 8ms/step\n",
      "Epoch 9/10\n",
      "2042/2042 - 16s - loss: 1.8612 - custom_loss_function: 1.8609 - val_loss: 1.8582 - val_custom_loss_function: 1.8576 - 16s/epoch - 8ms/step\n",
      "Epoch 10/10\n",
      "2042/2042 - 17s - loss: 1.8608 - custom_loss_function: 1.8605 - val_loss: 1.8579 - val_custom_loss_function: 1.8573 - 17s/epoch - 8ms/step\n"
     ]
    },
    {
     "data": {
      "image/png": "[encoded data removed]",
      "text/plain": [
       "<Figure size 432x288 with 1 Axes>"
      ]
     },
     "metadata": {
      "needs_background": "light"
     },
     "output_type": "display_data"
    }
   ],
   "source": [
    "# fit network\n",
    "history = vanilla_model.fit(train_X, train_y, epochs=10, batch_size=72, validation_data=(test_X, test_y), verbose=2, shuffle=False)\n",
    "# plot history\n",
    "pyplot.plot(history.history['loss'], label='train')\n",
    "pyplot.plot(history.history['val_loss'], label='validation')\n",
    "pyplot.legend()\n",
    "pyplot.show()"
   ]
  },
  {
   "cell_type": "markdown",
   "metadata": {
    "id": "wO075oe2BBtJ"
   },
   "source": [
    "#### 6.1.3. Faire prédictions"
   ]
  },
  {
   "cell_type": "code",
   "execution_count": null,
   "metadata": {
    "id": "dCx6jDqkHQXd"
   },
   "outputs": [],
   "source": [
    "# make a prediction\n",
    "yhat = vanilla_model.predict(test_X)\n",
    "test_X = test_X.reshape((test_X.shape[0], test_X.shape[2]))\n",
    "# invert scaling for forecast\n",
    "inv_yhat = concatenate((yhat, test_X[:, -6:]), axis=1)\n",
    "inv_yhat = scaler.inverse_transform(inv_yhat)\n",
    "inv_yhat = inv_yhat[:,0]\n",
    "# invert scaling for actual\n",
    "test_y = test_y.reshape((len(test_y), 1))\n",
    "inv_y = concatenate((test_y, test_X[:, -6:]), axis=1)\n",
    "inv_y = scaler.inverse_transform(inv_y)\n",
    "inv_y = inv_y[:,0]\n",
    "print('score mape of vanilla model : ',custom_loss_function(inv_y,inv_yhat))\n"
   ]
  },
  {
   "cell_type": "code",
   "execution_count": null,
   "metadata": {
    "colab": {
     "base_uri": "https://localhost:8080/"
    },
    "id": "uIKdcdDWIlWv",
    "outputId": "606e1c8b-90d8-45f1-d4e8-6ea01edad065"
   },
   "outputs": [
    {
     "name": "stdout",
     "output_type": "stream",
     "text": [
      "score mape of vanilla model :  tf.Tensor(18.888186, shape=(), dtype=float32)\n"
     ]
    }
   ],
   "source": [
    "print('score mape of vanilla model : ',custom_loss_function(inv_y,inv_yhat))\n"
   ]
  },
  {
   "cell_type": "markdown",
   "metadata": {
    "id": "B2WcgSZsS6-2"
   },
   "source": [
    "### 6.2. Stacked Model"
   ]
  },
  {
   "cell_type": "markdown",
   "metadata": {
    "id": "NBBSXpGxDupI"
   },
   "source": [
    "#### 6.2.1. Conception du stacked model"
   ]
  },
  {
   "cell_type": "code",
   "execution_count": null,
   "metadata": {
    "id": "MMOGGwplMV_P"
   },
   "outputs": [],
   "source": [
    "# LSTM parameters \n",
    "lookback = train_X.shape[1]\n",
    "hidden_units= 256\n",
    "nb_features = train_X.shape[2]\n",
    "\n",
    "#designing stacked model\n",
    "stacked_model = Sequential()\n",
    "stacked_model.add(LSTM(256,activation='tanh', return_sequences=True, input_shape=(lookback, nb_features)))\n",
    "stacked_model.add(LSTM(256,activation='tanh'))\n",
    "stacked_model.add(Dense(1))\n",
    "\n",
    "#compiling model\n",
    "stacked_model.compile(loss=custom_loss_function, optimizer='adam',metrics=custom_loss_function)"
   ]
  },
  {
   "cell_type": "markdown",
   "metadata": {
    "id": "WfYx6Vs6TX0F"
   },
   "source": [
    "#### 6.2.2. Entrainement du stacked model"
   ]
  },
  {
   "cell_type": "code",
   "execution_count": null,
   "metadata": {
    "colab": {
     "base_uri": "https://localhost:8080/",
     "height": 629
    },
    "id": "jjINugjjQGGz",
    "outputId": "b5f725a3-2be5-42fd-ec8a-0a554c983a62"
   },
   "outputs": [
    {
     "name": "stdout",
     "output_type": "stream",
     "text": [
      "Epoch 1/10\n",
      "2042/2042 - 47s - loss: 1.8785 - custom_loss_function: 1.8781 - val_loss: 1.8686 - val_custom_loss_function: 1.8680 - 47s/epoch - 23ms/step\n",
      "Epoch 2/10\n",
      "2042/2042 - 35s - loss: 1.8661 - custom_loss_function: 1.8658 - val_loss: 1.8645 - val_custom_loss_function: 1.8639 - 35s/epoch - 17ms/step\n",
      "Epoch 3/10\n",
      "2042/2042 - 36s - loss: 1.8621 - custom_loss_function: 1.8618 - val_loss: 1.8700 - val_custom_loss_function: 1.8694 - 36s/epoch - 17ms/step\n",
      "Epoch 4/10\n",
      "2042/2042 - 36s - loss: 1.8613 - custom_loss_function: 1.8610 - val_loss: 1.8690 - val_custom_loss_function: 1.8683 - 36s/epoch - 18ms/step\n",
      "Epoch 5/10\n",
      "2042/2042 - 37s - loss: 1.8600 - custom_loss_function: 1.8596 - val_loss: 1.8656 - val_custom_loss_function: 1.8649 - 37s/epoch - 18ms/step\n",
      "Epoch 6/10\n",
      "2042/2042 - 36s - loss: 1.8597 - custom_loss_function: 1.8593 - val_loss: 1.8631 - val_custom_loss_function: 1.8625 - 36s/epoch - 18ms/step\n",
      "Epoch 7/10\n",
      "2042/2042 - 36s - loss: 1.8586 - custom_loss_function: 1.8583 - val_loss: 1.8619 - val_custom_loss_function: 1.8612 - 36s/epoch - 18ms/step\n",
      "Epoch 8/10\n",
      "2042/2042 - 36s - loss: 1.8578 - custom_loss_function: 1.8574 - val_loss: 1.8601 - val_custom_loss_function: 1.8595 - 36s/epoch - 18ms/step\n",
      "Epoch 9/10\n",
      "2042/2042 - 36s - loss: 1.8564 - custom_loss_function: 1.8561 - val_loss: 1.8576 - val_custom_loss_function: 1.8570 - 36s/epoch - 17ms/step\n",
      "Epoch 10/10\n",
      "2042/2042 - 38s - loss: 1.8553 - custom_loss_function: 1.8550 - val_loss: 1.8569 - val_custom_loss_function: 1.8563 - 38s/epoch - 18ms/step\n"
     ]
    },
    {
     "data": {
      "image/png": "[encoded data removed]",
      "text/plain": [
       "<Figure size 432x288 with 1 Axes>"
      ]
     },
     "metadata": {
      "needs_background": "light"
     },
     "output_type": "display_data"
    }
   ],
   "source": [
    "# fit network\n",
    "history = stacked_model.fit(train_X, train_y, epochs=10, batch_size=72, validation_data=(test_X, test_y), verbose=2, shuffle=False)\n",
    "# plot history\n",
    "pyplot.plot(history.history['loss'], label='train')\n",
    "pyplot.plot(history.history['val_loss'], label='validation')\n",
    "pyplot.legend()\n",
    "pyplot.show()"
   ]
  },
  {
   "cell_type": "markdown",
   "metadata": {
    "id": "JToCQRbsTeGK"
   },
   "source": [
    "#### 6.2.3. Prédictions du stacked model"
   ]
  },
  {
   "cell_type": "code",
   "execution_count": null,
   "metadata": {
    "colab": {
     "base_uri": "https://localhost:8080/"
    },
    "id": "Bpis6NExSbcU",
    "outputId": "15ae551c-68ad-473b-e17f-37dddd5f1dac"
   },
   "outputs": [
    {
     "name": "stdout",
     "output_type": "stream",
     "text": [
      "score mape of stacked model :  tf.Tensor(19.007591, shape=(), dtype=float32)\n"
     ]
    }
   ],
   "source": [
    "# make a prediction\n",
    "yhat = stacked_model.predict(test_X)\n",
    "test_X = test_X.reshape((test_X.shape[0], test_X.shape[2]))\n",
    "# invert scaling for forecast\n",
    "inv_yhat = concatenate((yhat, test_X[:, -6:]), axis=1)\n",
    "inv_yhat = scaler.inverse_transform(inv_yhat)\n",
    "inv_yhat = inv_yhat[:,0]\n",
    "# invert scaling for actual\n",
    "test_y = test_y.reshape((len(test_y), 1))\n",
    "inv_y = concatenate((test_y, test_X[:, -6:]), axis=1)\n",
    "inv_y = scaler.inverse_transform(inv_y)\n",
    "inv_y = inv_y[:,0]\n",
    "print('score mape of stacked model : ',custom_loss_function(inv_y,inv_yhat))\n"
   ]
  },
  {
   "cell_type": "markdown",
   "metadata": {
    "id": "5TP-sla_Tj7V"
   },
   "source": [
    "### 6.3. Bidirectional model"
   ]
  },
  {
   "cell_type": "markdown",
   "metadata": {
    "id": "7SJCpN6PQVz4"
   },
   "source": [
    "#### 6.3.1. Conception du bidirectional model"
   ]
  },
  {
   "cell_type": "code",
   "execution_count": null,
   "metadata": {
    "id": "SSAqUwl1Qgs-"
   },
   "outputs": [],
   "source": [
    "bidir_model = Sequential()\n",
    "bidir_model.add(Bidirectional(LSTM(256, activation='tanh'), input_shape=(lookback,nb_features)))\n",
    "bidir_model.add(Dense(1))\n",
    "\n",
    "#compiling model\n",
    "bidir_model.compile(loss=custom_loss_function, optimizer='adam',metrics=custom_loss_function)"
   ]
  },
  {
   "cell_type": "markdown",
   "metadata": {
    "id": "qhpeybA-UFn2"
   },
   "source": [
    "#### 6.3.2. Entrainement  du bidirectional model"
   ]
  },
  {
   "cell_type": "code",
   "execution_count": null,
   "metadata": {
    "colab": {
     "base_uri": "https://localhost:8080/",
     "height": 629
    },
    "id": "JvJtpZ5GUsYJ",
    "outputId": "b97ee89d-abe1-4683-9be8-1b6ae8de43c7"
   },
   "outputs": [
    {
     "name": "stdout",
     "output_type": "stream",
     "text": [
      "Epoch 1/10\n",
      "2042/2042 - 33s - loss: 1.9785 - custom_loss_function: 1.9781 - val_loss: 1.8662 - val_custom_loss_function: 1.8656 - 33s/epoch - 16ms/step\n",
      "Epoch 2/10\n",
      "2042/2042 - 28s - loss: 1.8965 - custom_loss_function: 1.8962 - val_loss: 1.8825 - val_custom_loss_function: 1.8819 - 28s/epoch - 14ms/step\n",
      "Epoch 3/10\n",
      "2042/2042 - 31s - loss: 1.8759 - custom_loss_function: 1.8756 - val_loss: 1.8638 - val_custom_loss_function: 1.8632 - 31s/epoch - 15ms/step\n",
      "Epoch 4/10\n",
      "2042/2042 - 28s - loss: 1.8684 - custom_loss_function: 1.8681 - val_loss: 1.8640 - val_custom_loss_function: 1.8634 - 28s/epoch - 14ms/step\n",
      "Epoch 5/10\n",
      "2042/2042 - 28s - loss: 1.8648 - custom_loss_function: 1.8644 - val_loss: 1.8636 - val_custom_loss_function: 1.8630 - 28s/epoch - 14ms/step\n",
      "Epoch 6/10\n",
      "2042/2042 - 28s - loss: 1.8633 - custom_loss_function: 1.8630 - val_loss: 1.8620 - val_custom_loss_function: 1.8614 - 28s/epoch - 14ms/step\n",
      "Epoch 7/10\n",
      "2042/2042 - 29s - loss: 1.8623 - custom_loss_function: 1.8619 - val_loss: 1.8618 - val_custom_loss_function: 1.8611 - 29s/epoch - 14ms/step\n",
      "Epoch 8/10\n",
      "2042/2042 - 28s - loss: 1.8615 - custom_loss_function: 1.8612 - val_loss: 1.8599 - val_custom_loss_function: 1.8593 - 28s/epoch - 14ms/step\n",
      "Epoch 9/10\n",
      "2042/2042 - 28s - loss: 1.8613 - custom_loss_function: 1.8609 - val_loss: 1.8582 - val_custom_loss_function: 1.8576 - 28s/epoch - 14ms/step\n",
      "Epoch 10/10\n",
      "2042/2042 - 29s - loss: 1.8605 - custom_loss_function: 1.8602 - val_loss: 1.8578 - val_custom_loss_function: 1.8572 - 29s/epoch - 14ms/step\n"
     ]
    },
    {
     "data": {
      "image/png": "[encoded data removed]",
      "text/plain": [
       "<Figure size 432x288 with 1 Axes>"
      ]
     },
     "metadata": {
      "needs_background": "light"
     },
     "output_type": "display_data"
    }
   ],
   "source": [
    "# fit network\n",
    "history = bidir_model.fit(train_X, train_y, epochs=10, batch_size=72, validation_data=(test_X, test_y), verbose=2, shuffle=False)\n",
    "# plot history\n",
    "pyplot.plot(history.history['loss'], label='train')\n",
    "pyplot.plot(history.history['val_loss'], label='validation')\n",
    "pyplot.legend()\n",
    "pyplot.show()"
   ]
  },
  {
   "cell_type": "markdown",
   "metadata": {
    "id": "cNwokGyCU5mw"
   },
   "source": [
    "#### 6.3.3. Prédictions du bidirectional model"
   ]
  },
  {
   "cell_type": "code",
   "execution_count": null,
   "metadata": {
    "colab": {
     "base_uri": "https://localhost:8080/"
    },
    "id": "v88VrnLAVGP4",
    "outputId": "d46734af-f769-42c3-c0e8-088b0d667056"
   },
   "outputs": [
    {
     "name": "stdout",
     "output_type": "stream",
     "text": [
      "score mape of bidirectional model :  tf.Tensor(18.894075, shape=(), dtype=float32)\n"
     ]
    }
   ],
   "source": [
    "# make a prediction\n",
    "yhat = bidir_model.predict(test_X)\n",
    "test_X = test_X.reshape((test_X.shape[0], test_X.shape[2]))\n",
    "# invert scaling for forecast\n",
    "inv_yhat = concatenate((yhat, test_X[:, -6:]), axis=1)\n",
    "inv_yhat = scaler.inverse_transform(inv_yhat)\n",
    "inv_yhat = inv_yhat[:,0]\n",
    "# invert scaling for actual\n",
    "test_y = test_y.reshape((len(test_y), 1))\n",
    "inv_y = concatenate((test_y, test_X[:, -6:]), axis=1)\n",
    "inv_y = scaler.inverse_transform(inv_y)\n",
    "inv_y = inv_y[:,0]\n",
    "print('score mape of bidirectional model : ',custom_loss_function(inv_y,inv_yhat))"
   ]
  },
  {
   "cell_type": "markdown",
   "metadata": {
    "id": "xW1d256rglNp"
   },
   "source": [
    "### 6.4. Vanilla with Drop out \n"
   ]
  },
  {
   "cell_type": "code",
   "execution_count": null,
   "metadata": {
    "id": "rG1cEX_tgqzi"
   },
   "outputs": [],
   "source": [
    "# LSTM parameters \n",
    "lookback = 1\n",
    "hidden_units= 256\n",
    "nb_features = 6\n",
    "\n",
    "#designing vanilla model\n",
    "vanilla_model_dr = Sequential()\n",
    "vanilla_model_dr.add(LSTM(hidden_units, input_shape=(lookback, nb_features)))\n",
    "vanilla_model_dr.add(Dropout(0.2))\n",
    "vanilla_model_dr.add(Dense(1))\n",
    "\n",
    "#compiling model\n",
    "vanilla_model_dr.compile(loss=custom_loss_function, optimizer='adam',metrics=custom_loss_function)"
   ]
  },
  {
   "cell_type": "code",
   "execution_count": null,
   "metadata": {
    "colab": {
     "base_uri": "https://localhost:8080/",
     "height": 612
    },
    "id": "ifdxLXpFhsw_",
    "outputId": "2024ebe7-0fdc-471f-d98d-72eb748c1b95"
   },
   "outputs": [
    {
     "name": "stdout",
     "output_type": "stream",
     "text": [
      "Epoch 1/10\n",
      "2042/2042 - 25s - loss: 1.9385 - custom_loss_function: 1.9381 - val_loss: 1.8649 - val_custom_loss_function: 1.8643 - 25s/epoch - 12ms/step\n",
      "Epoch 2/10\n",
      "2042/2042 - 21s - loss: 1.8695 - custom_loss_function: 1.8692 - val_loss: 1.8670 - val_custom_loss_function: 1.8664 - 21s/epoch - 10ms/step\n",
      "Epoch 3/10\n",
      "2042/2042 - 23s - loss: 1.8669 - custom_loss_function: 1.8666 - val_loss: 1.8658 - val_custom_loss_function: 1.8652 - 23s/epoch - 12ms/step\n",
      "Epoch 4/10\n",
      "2042/2042 - 22s - loss: 1.8652 - custom_loss_function: 1.8649 - val_loss: 1.8632 - val_custom_loss_function: 1.8626 - 22s/epoch - 11ms/step\n",
      "Epoch 5/10\n",
      "2042/2042 - 21s - loss: 1.8639 - custom_loss_function: 1.8636 - val_loss: 1.8636 - val_custom_loss_function: 1.8630 - 21s/epoch - 10ms/step\n",
      "Epoch 6/10\n",
      "2042/2042 - 21s - loss: 1.8631 - custom_loss_function: 1.8628 - val_loss: 1.8611 - val_custom_loss_function: 1.8605 - 21s/epoch - 10ms/step\n",
      "Epoch 7/10\n",
      "2042/2042 - 22s - loss: 1.8631 - custom_loss_function: 1.8627 - val_loss: 1.8596 - val_custom_loss_function: 1.8590 - 22s/epoch - 11ms/step\n",
      "Epoch 8/10\n",
      "2042/2042 - 23s - loss: 1.8622 - custom_loss_function: 1.8619 - val_loss: 1.8586 - val_custom_loss_function: 1.8580 - 23s/epoch - 11ms/step\n",
      "Epoch 9/10\n",
      "2042/2042 - 22s - loss: 1.8622 - custom_loss_function: 1.8618 - val_loss: 1.8584 - val_custom_loss_function: 1.8578 - 22s/epoch - 11ms/step\n",
      "Epoch 10/10\n",
      "2042/2042 - 22s - loss: 1.8615 - custom_loss_function: 1.8611 - val_loss: 1.8578 - val_custom_loss_function: 1.8571 - 22s/epoch - 11ms/step\n"
     ]
    },
    {
     "data": {
      "image/png": "[encoded data removed]",
      "text/plain": [
       "<Figure size 432x288 with 1 Axes>"
      ]
     },
     "metadata": {
      "needs_background": "light"
     },
     "output_type": "display_data"
    }
   ],
   "source": [
    "# fit network\n",
    "history = vanilla_model_dr.fit(train_X, train_y, epochs=10, batch_size=72, validation_data=(test_X, test_y), verbose=2, shuffle=False)\n",
    "# plot history\n",
    "pyplot.plot(history.history['loss'], label='train')\n",
    "pyplot.plot(history.history['val_loss'], label='validation')\n",
    "pyplot.legend()\n",
    "pyplot.show()"
   ]
  },
  {
   "cell_type": "code",
   "execution_count": null,
   "metadata": {
    "colab": {
     "base_uri": "https://localhost:8080/"
    },
    "id": "Z3vMJVBviw6n",
    "outputId": "efd98816-f0e4-4ea6-dd8f-cb39f3b3da29"
   },
   "outputs": [
    {
     "name": "stdout",
     "output_type": "stream",
     "text": [
      "score mape of bidirectional model :  tf.Tensor(18.841953, shape=(), dtype=float32)\n"
     ]
    }
   ],
   "source": [
    "# make a prediction\n",
    "yhat = vanilla_model_dr.predict(test_X)\n",
    "test_X = test_X.reshape((test_X.shape[0], test_X.shape[2]))\n",
    "# invert scaling for forecast\n",
    "inv_yhat = concatenate((yhat, test_X[:, -6:]), axis=1)\n",
    "inv_yhat = scaler.inverse_transform(inv_yhat)\n",
    "inv_yhat = inv_yhat[:,0]\n",
    "# invert scaling for actual\n",
    "test_y = test_y.reshape((len(test_y), 1))\n",
    "inv_y = concatenate((test_y, test_X[:, -6:]), axis=1)\n",
    "inv_y = scaler.inverse_transform(inv_y)\n",
    "inv_y = inv_y[:,0]\n",
    "print('score mape of bidirectional model : ',custom_loss_function(inv_y,inv_yhat))"
   ]
  },
  {
   "cell_type": "markdown",
   "metadata": {
    "id": "6_FsR31ijCj4"
   },
   "source": [
    "### 6.5. Vanilla with Weight Decay"
   ]
  },
  {
   "cell_type": "code",
   "execution_count": null,
   "metadata": {
    "id": "FK3bZIsfjG-O"
   },
   "outputs": [],
   "source": [
    "# LSTM parameters \n",
    "lookback = 1\n",
    "hidden_units= 256\n",
    "nb_features = 6\n",
    "\n",
    "#designing vanilla model\n",
    "vanilla_model_wd = Sequential()\n",
    "vanilla_model_wd.add(LSTM(hidden_units, input_shape=(lookback, nb_features)))\n",
    "vanilla_model_wd.add(Dense(1, kernel_regularizer=l2(0.001)))\n",
    "\n",
    "#compiling model\n",
    "vanilla_model_wd.compile(loss=custom_loss_function, optimizer='adam',metrics=custom_loss_function)"
   ]
  },
  {
   "cell_type": "code",
   "execution_count": null,
   "metadata": {
    "colab": {
     "base_uri": "https://localhost:8080/",
     "height": 612
    },
    "id": "ndJ1Yj2hjekM",
    "outputId": "0cd25286-4f24-44cf-e0fa-2313f032a8fb"
   },
   "outputs": [
    {
     "name": "stdout",
     "output_type": "stream",
     "text": [
      "Epoch 1/10\n",
      "2042/2042 - 27s - loss: 1.9462 - custom_loss_function: 1.9446 - val_loss: 1.8979 - val_custom_loss_function: 1.8966 - 27s/epoch - 13ms/step\n",
      "Epoch 2/10\n",
      "2042/2042 - 21s - loss: 1.8855 - custom_loss_function: 1.8845 - val_loss: 1.8712 - val_custom_loss_function: 1.8702 - 21s/epoch - 10ms/step\n",
      "Epoch 3/10\n",
      "2042/2042 - 20s - loss: 1.8742 - custom_loss_function: 1.8736 - val_loss: 1.8637 - val_custom_loss_function: 1.8629 - 20s/epoch - 10ms/step\n",
      "Epoch 4/10\n",
      "2042/2042 - 20s - loss: 1.8677 - custom_loss_function: 1.8672 - val_loss: 1.8625 - val_custom_loss_function: 1.8618 - 20s/epoch - 10ms/step\n",
      "Epoch 5/10\n",
      "2042/2042 - 21s - loss: 1.8655 - custom_loss_function: 1.8651 - val_loss: 1.8629 - val_custom_loss_function: 1.8622 - 21s/epoch - 10ms/step\n",
      "Epoch 6/10\n",
      "2042/2042 - 20s - loss: 1.8634 - custom_loss_function: 1.8630 - val_loss: 1.8621 - val_custom_loss_function: 1.8614 - 20s/epoch - 10ms/step\n",
      "Epoch 7/10\n",
      "2042/2042 - 19s - loss: 1.8625 - custom_loss_function: 1.8620 - val_loss: 1.8616 - val_custom_loss_function: 1.8609 - 19s/epoch - 9ms/step\n",
      "Epoch 8/10\n",
      "2042/2042 - 19s - loss: 1.8618 - custom_loss_function: 1.8613 - val_loss: 1.8590 - val_custom_loss_function: 1.8583 - 19s/epoch - 9ms/step\n",
      "Epoch 9/10\n",
      "2042/2042 - 19s - loss: 1.8611 - custom_loss_function: 1.8607 - val_loss: 1.8580 - val_custom_loss_function: 1.8573 - 19s/epoch - 9ms/step\n",
      "Epoch 10/10\n",
      "2042/2042 - 19s - loss: 1.8611 - custom_loss_function: 1.8606 - val_loss: 1.8576 - val_custom_loss_function: 1.8568 - 19s/epoch - 9ms/step\n"
     ]
    },
    {
     "data": {
      "image/png": "[encoded data removed]",
      "text/plain": [
       "<Figure size 432x288 with 1 Axes>"
      ]
     },
     "metadata": {
      "needs_background": "light"
     },
     "output_type": "display_data"
    }
   ],
   "source": [
    "# fit network\n",
    "history = vanilla_model_wd.fit(train_X, train_y, epochs=10, batch_size=72, validation_data=(test_X, test_y), verbose=2, shuffle=False)\n",
    "# plot history\n",
    "pyplot.plot(history.history['loss'], label='train')\n",
    "pyplot.plot(history.history['val_loss'], label='validation')\n",
    "pyplot.legend()\n",
    "pyplot.show()"
   ]
  },
  {
   "cell_type": "code",
   "execution_count": null,
   "metadata": {
    "colab": {
     "base_uri": "https://localhost:8080/"
    },
    "id": "vqOR1xkCkdW3",
    "outputId": "4a011eae-53f6-4a2b-91c0-4295d86d9895"
   },
   "outputs": [
    {
     "name": "stdout",
     "output_type": "stream",
     "text": [
      "score vanilla with weight decay model :  tf.Tensor(18.860367, shape=(), dtype=float32)\n"
     ]
    }
   ],
   "source": [
    "# make a prediction\n",
    "yhat = vanilla_model_wd.predict(test_X)\n",
    "test_X = test_X.reshape((test_X.shape[0], test_X.shape[2]))\n",
    "# invert scaling for forecast\n",
    "inv_yhat = concatenate((yhat, test_X[:, -6:]), axis=1)\n",
    "inv_yhat = scaler.inverse_transform(inv_yhat)\n",
    "inv_yhat = inv_yhat[:,0]\n",
    "# invert scaling for actual\n",
    "test_y = test_y.reshape((len(test_y), 1))\n",
    "inv_y = concatenate((test_y, test_X[:, -6:]), axis=1)\n",
    "inv_y = scaler.inverse_transform(inv_y)\n",
    "inv_y = inv_y[:,0]\n",
    "print('score vanilla with weight decay model : ',custom_loss_function(inv_y,inv_yhat))"
   ]
  }
 ],
 "metadata": {
  "colab": {
   "collapsed_sections": [
    "mHRXjU32n9Gk",
    "uPI8t7j-oTc9",
    "H-yn-HYxpZnW",
    "-LQkkYO_q4cY"
   ],
   "name": "DEEPCAMP_P1D_LSTM.ipynb",
   "provenance": []
  },
  "kernelspec": {
   "display_name": "Python 3",
   "language": "python",
   "name": "python3"
  },
  "language_info": {
   "codemirror_mode": {
    "name": "ipython",
    "version": 3
   },
   "file_extension": ".py",
   "mimetype": "text/x-python",
   "name": "python",
   "nbconvert_exporter": "python",
   "pygments_lexer": "ipython3",
   "version": "3.7.7"
  }
 },
 "nbformat": 4,
 "nbformat_minor": 1
}
